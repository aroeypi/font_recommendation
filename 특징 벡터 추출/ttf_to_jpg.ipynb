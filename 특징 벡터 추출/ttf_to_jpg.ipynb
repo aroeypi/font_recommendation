{
 "cells": [
  {
   "cell_type": "code",
   "execution_count": 1,
   "metadata": {},
   "outputs": [],
   "source": [
    "#https://blog.naver.com/PostView.naver?blogId=juhy9212&logNo=221250523836\n",
    "import os\n",
    "from PIL import Image, ImageDraw, ImageFont\n",
    "\n",
    "font_path = \"ttf_font(430)\"\n",
    "fonts = os.listdir(\"ttf_font(430)\")\n"
   ]
  },
  {
   "cell_type": "code",
   "execution_count": 11,
   "metadata": {},
   "outputs": [
    {
     "name": "stdout",
     "output_type": "stream",
     "text": [
      "['10X10.ttf', '10X10Bold.ttf', '116angmuburi.ttf', '116watermelon.ttf', '12롯데마트드림Bold.ttf', '12롯데마트드림Light.ttf', '12롯데마트드림Medium.ttf', '12롯데마트행복Bold.ttf', '12롯데마트행복Light.ttf', '12롯데마트행복Medium.ttf', '20835804_도서관체_ttf.ttf', '20835814_SungDongGothicEB_ttf.ttf', '20835815_SungDongGothicB_ttf.ttf', '20950864_경기천년제목TTF_Bold.ttf', '20950866_경기천년제목TTF_Medium.ttf', '20950867_경기천년제목TTFV_Bold.ttf', '20950870_경기천년바탕TTF_Bold.ttf', '20950871_경기천년바탕TTF_Regular.ttf', '20950914_빛고을광주_Light_TTF.ttf', '20950916_빛고을광주_Medium_TTF.ttf', '20950918_빛고을광주_Bold_TTF.ttf', '20950938_Batang_TTF.ttf', '20956072_SuncheonR_TTF.ttf', '20956073_SuncheonB_TTF.ttf', '20957733_전주완판본 순B_TTF.ttf', '20957736_전주완판본 순L_TTF.ttf', '20957738_전주완판본 순R_TTF.ttf', '20957740_전주완판본 각B_TTF.ttf', '20957742_전주완판본 각L_TTF.ttf', '20957744_전주완판본 각R_TTF.ttf', '20958935_UTOIMAGE_유토이미지고딕_R_TTF.ttf', '20958949_UTOIMAGE_유토이미지별나라달님_TTF.ttf', '20958955_UTOIMAGE_유토이미지빨간우체통_TTF.ttf', '20958971_UTOIMAGE_플라워_TTF.ttf', '20958979_UTOIMAGE_유토이미지_TTF.ttf', '20958981_UTOIMAGE_유토이미지고딕_B_TTF.ttf', '20958983_UTOIMAGE_유토이미지고딕_L_TTF.ttf', 'Arita-buriB.ttf', 'Arita-buriL.ttf', 'Arita-buriM.ttf', 'Arita-buriSB.ttf', 'Atomy-Bold.ttf', 'Atomy-Light.ttf', 'Atomy-Medium.ttf', 'a타이틀고딕2.ttf', 'a타이틀고딕3.ttf', 'a타이틀고딕4.ttf', 'BareunBatangB.ttf', 'BareunBatangL.ttf', 'BareunBatangM.ttf', 'BatangChe.ttf', 'Bazzi.ttf', 'BinggraeChe.ttf', 'BinggraeMelona-Bold.ttf', 'BinggraeMelona.ttf', 'BinggraeSamanco-Bold.ttf', 'BinggraeSamanco.ttf', 'BinggraeⅡ.ttf', 'BMDOHYEON_ttf.ttf', 'BMEuljiro10yearslater.ttf', 'BMEULJIROTTF.ttf', 'BMHANNAAir_ttf.ttf', 'BMHANNAPro.ttf', 'BMHANNA_11yrs_ttf.ttf', 'BMJUA_ttf.ttf', 'BMKIRANGHAERANG-TTF.ttf', 'BMYEONSUNG_ttf.ttf', 'BusanFont_Provisional.ttf', 'Cafe24Dangdanghae.ttf', 'Cafe24Danjunghae.ttf', 'Cafe24Dongdong.ttf', 'Cafe24Ohsquareair.ttf', 'Cafe24Shiningstar.ttf', 'Cafe24Ssukssuk.ttf', 'Cafe24Syongsyong.ttf', 'ChangwonDangamAsac-Bold_0712.ttf', 'CookieRun Black.ttf', 'CookieRun Bold.ttf', 'designhouseBold.ttf', 'designhouseLight.ttf', 'dimibang.ttf', 'Dongle-Bold.ttf', 'Dongle-Light.ttf', 'Dongle-Regular.ttf', 'DOSGothic.ttf', 'DOSIyagiBoldface.ttf', 'DOSMyungjo.ttf', 'DOSPilgi.ttf', 'DOSSaemmul.ttf', 'DotumChe.ttf', 'DungGeunMo.ttf', 'DXAriB-KSCpc-EUC-H.ttf', 'DXAura-KSCpc-EUC-H.ttf', 'DXAWM-KSCpc-EUC-H.ttf', 'DXBangtango-KSCpc-EUC-H.ttf', 'DXBomgExtraBold-KSCpc-EUC-H.ttf', 'DXBrmRExtraBold-KSCpc-EUC-H.ttf', 'DXChildsdrawing-KSCpc-EUC-H.ttf', 'DXDnaraB-KSCpc-EUC-H.ttf', 'DXFrtyB-KSCpc-EUC-H.ttf', 'DXHead02B-KSCpc-EUC-H.ttf', 'DXHfl2M-KSCpc-EUC-H.ttf', 'DXHflM-KSCpc-EUC-H.ttf', 'DXHSB-KSCpc-EUC-H.ttf', 'DXHWrB-KSCpc-EUC-H.ttf', 'DXKPMB-KSCpc-EUC-H.ttf', 'DXMgoB-KSCpc-EUC-H.ttf', 'DXMgoRB-KSCpc-EUC-H.ttf', 'DXNPeriod-KSCpc-EUC-H.ttf', 'DXNShnmB-KSCpc-EUC-H.ttf', 'DXPRVB-KSCpc-EUC-H.ttf', 'DXRESB-KSCpc-EUC-H.ttf', 'DXSglinegoTh-KSCpc-EUC-H.ttf', 'DXShnm-KSCpc-EUC-H.ttf', 'DXSpdM-KSCpc-EUC-H.ttf', 'DXWGSB-KSCpc-EUC-H.ttf', 'EBS주시경B.ttf', 'EBS주시경L.ttf', 'EBS주시경M.ttf', 'EF_MACHO(윈도우용_TTF).ttf', 'EliceDigitalBaeum_Regular.ttf', 'establish Retrosans.ttf', 'GabiaCheongyeon.ttf', 'GabiaMaeumgyeol.ttf', 'gabia_bombaram.ttf', 'gabia_napjakBlock.ttf', 'gabia_solmee.ttf', 'Ghanachocolate.ttf', 'GodoB.ttf', 'GodoM.ttf', 'GOYANGDEOGYANG B.TTF', 'GOYANGDEOGYANG EB.TTF', 'GulimChe.ttf', 'H2GPRM.TTF', 'H2GTRE.TTF', 'H2GTRM.TTF', 'H2HDRM.TTF', 'H2MJRE.TTF', 'H2MJSM.TTF', 'H2SA1M.TTF', 'Hahmlet-Black.ttf', 'Hahmlet-Bold.ttf', 'Hahmlet-Light.ttf', 'Hahmlet-Regular.ttf', 'HANBaekB.ttf', 'HANBatang.ttf', 'HANBatangB.ttf', 'HangeulNuriB.ttf', 'HangeulNuriR.ttf', 'Hangyeoregyeolche.TTF', 'HANSaleB.ttf', 'HANSaleM.ttf', 'HANSolB.ttf', 'HANSolM.ttf', 'HANSomaB.ttf', 'HANSomaM.ttf', 'HanS_BoomBoom.ttf', 'HANYGO230.ttf', 'HANYGO240.ttf', 'headline.ttf', 'HeirofLightBold.ttf', 'HeirofLightRegular.ttf', 'HMKBP.TTF', 'HMKBS.TTF', 'HMKLP.TTF', 'HMKLS.TTF', 'HMKMAMI.TTF', 'HMKMG.TTF', 'HMKMM.TTF', 'HMKMMAG.TTF', 'HMKMOLD.TTF', 'HMKMRHD.TTF', 'HMKMS.TTF', 'HSSaemaul-Regular.ttf', 'HS겨울눈꽃체.ttf', 'HS두꺼비체.ttf', 'HS봄바람체2.0.ttf', 'HS새마을체.ttf', 'HYBDAL.TTF', 'HYBDAM.TTF', 'HYGPRM.TTF', 'HYKANB.TTF', 'HYKANM.TTF', 'IropkeBatangM.ttf', 'Jaemin.ttf', 'JejuGothic.ttf', 'JejuHallasan.ttf', 'JejuMyeongjo.ttf', 'JSArirang.ttf', 'JSArirangHON.ttf', 'JSArirangPPURI.ttf', 'KBIZ한마음고딕 B.ttf', 'KBIZ한마음고딕 H.ttf', 'KBIZ한마음고딕 L.ttf', 'KBIZ한마음고딕 M.ttf', 'KBIZ한마음고딕 R.ttf', 'KBIZ한마음명조 B.ttf', 'KBIZ한마음명조 L.ttf', 'KBIZ한마음명조 M.ttf', 'KBIZ한마음명조 R.ttf', 'KCCAhnjunggeun(Windows용).ttf', 'KCCImkwontaek.ttf', 'KCC김훈체(Windows용).ttf', 'KCC은영체(Windows용).ttf', 'KoPubWorld Batang Bold.ttf', 'KoPubWorld Batang Light.ttf', 'KoPubWorld Batang Medium.ttf', 'KoPubWorld Dotum Bold.ttf', 'KoPubWorld Dotum Light.ttf', 'KoPubWorld Dotum Medium.ttf', 'KOTRA HOPE_TTF.ttf', 'KOTRA LEAP_TTF.ttf', 'KOTRA_BOLD.ttf', 'locus_sangsang.ttf', 'MalgunGothic.ttf', 'Maplestory Bold.ttf', 'Maplestory Light.ttf', 'MapoAgape.ttf', 'MapoBackpacking.ttf', 'MapoDacapo.ttf', 'MapoHongdaeFreedom.ttf', 'MapoMaponaru.ttf', 'MiraeroNormal.ttf', 'NanumBrush.ttf', 'NanumGothicEco.ttf', 'NanumGothicEcoBold.ttf', 'NanumGothicEcoExtraBold.ttf', 'NanumMyeongJo.ttf', 'NanumMyeongjoEco.ttf', 'NanumMyeongjoEcoBold.ttf', 'NanumMyeongjoEcoExtraBold.ttf', 'NanumPen.ttf', 'NanumSquare.ttf', 'netmarbleB.ttf', 'netmarbleL.ttf', 'netmarbleM.ttf', 'NEXEN TIRE_Bold.ttf', 'NEXEN TIRE_Regular.ttf', 'NIXGONFONTS B 2.0.ttf', 'NIXGONFONTS M 2.0.ttf', 'ON I고딕.ttf', 'ONE Mobile POP.ttf', 'OSeongandHanEum-Bold.ttf', 'OSeongandHanEum-Regular.ttf', 'PureunJeonnam-Bold.ttf', 'PureunJeonnam-Medium.ttf', 'PureunJeonnam.ttf', 'PyeongChangPeace-Bold.ttf', 'PyeongChangPeace-Light.ttf', 'ROEHOE-CHAN.ttf', 'Sam3KRFont.ttf', 'SANGJU Dajungdagam.ttf', 'SANGJU Gotgam.ttf', 'SANGJU Gyeongcheon Island.ttf', 'SDDogSuRiBold.ttf', 'SDLeeYaGi.ttf', 'SEBANG Gothic Bold.ttf', 'SEBANG Gothic.ttf', 'SeoulNamsanvert.ttf', 'SF망고빙수 TTF.ttf', 'Spoqa Han Sans Bold.ttf', 'Spoqa Han Sans Light.ttf', 'Spoqa Han Sans Regular.ttf', 'Spoqa Han Sans Thin.ttf', 'SSRockRegular.ttf', 'SunBatang-Bold.ttf', 'SunBatang-Light.ttf', 'SunBatang-Medium.ttf', 'TaeFont TSTJktB.ttf', 'TaeFont TSTOtmB.ttf', 'THE_Nyuseusokbo.ttf', 'THE명품굴림B.ttf', 'THE선인장.ttf', 'THE정직.ttf', 'TmonMonsori.ttf', 'tvN 즐거운이야기 Bold.ttf', 'tvN 즐거운이야기 Light.ttf', 'tvN 즐거운이야기 Medium.ttf', 'tway_air.ttf', 'tway_fly.ttf', 'tway_sky.ttf', 'Typo_BallerinaB.ttf', 'Typo_BallerinaM.ttf', 'Typo_Dodam.ttf', 'Typo_DonkiPrinceM.ttf', 'Typo_EoulrimB.ttf', 'Typo_EoulrimL.ttf', 'Typo_EoulrimM.ttf', 'Typo_HongikinganM.ttf', 'Typo_JeongJoM.ttf', 'Typo_KingSejong_Hunmin.ttf', 'Typo_MoonFlowerM.ttf', 'Typo_SherlockM.ttf', 'Typo_SSiGothic180.ttf', 'Typo_SSiMyungJo180.ttf', 'Typo_StormB.ttf', 'UhBee GGoongD.ttf', 'Uhbee NaHyun Bold.ttf', 'Uhbee NaHyun.ttf', 'UhBee Namjieun Bold.ttf', 'UhBee Namjieun.ttf', 'UhBee Soyun.ttf', 'UhBee Sunhong BOLD.ttf', 'UhBee Sunhong.ttf', 'UhBee swit.ttf', 'UhBee U JEONG Bold.ttf', 'UhBee U JEONG.ttf', 'yangfont02.ttf', 'yangpyeong_B.ttf', 'yangpyeong_L.ttf', 'yangpyeong_M.ttf', 'YdestreetB.ttf', 'YdestreetL.ttf', 'Yeongdo.ttf', 'YGBI08.TTF', 'Youth.ttf', '강한육군 Bold Vert.ttf', '강한육군 Bold.ttf', '강한육군 Medium Vert.ttf', '강한육군 Medium.ttf', '경기천년제목_Light.ttf', '고양일산 R.TTF', '국립박물관문화재단클래식B.ttf', '국립박물관문화재단클래식L.ttf', '국립박물관문화재단클래식M.ttf', '국립중앙도서관글자체.ttf', '나눔손글씨 가람연꽃.ttf', '나눔손글씨 갈맷글.ttf', '나눔손글씨 강부장님체.ttf', '나눔손글씨 고딕 아니고 고딩.ttf', '나눔손글씨 고려글꼴.ttf', '나눔손글씨 곰신체.ttf', '나눔손글씨 규리의 일기.ttf', '나눔손글씨 김유이체.ttf', '나눔손글씨 꽃내음.ttf', '나눔손글씨 끄트머리체.ttf', '나눔손글씨 다행체.ttf', '나눔손글씨 대광유리.ttf', '나눔손글씨 딸에게 엄마가.ttf', '나눔손글씨 반짝반짝 별.ttf', '나눔손글씨 세계적인 한글.ttf', '나눔손글씨 세아체.ttf', '나눔손글씨 세화체.ttf', '나눔손글씨 소방관의 기도.ttf', '나눔손글씨 시우 귀여워.ttf', '나눔손글씨 신혼부부.ttf', '나눔손글씨 아빠의 연애편지.ttf', '나눔손글씨 아줌마 자유.ttf', '나눔손글씨 엄마사랑.ttf', '나눔손글씨 와일드.ttf', '나눔손글씨 외할머니글씨.ttf', '나눔손글씨 유니 띵땅띵땅.ttf', '나눔손글씨 자부심지우.ttf', '나눔손글씨 잘하고 있어.ttf', '나눔손글씨 장미체.ttf', '나눔손글씨 점꼴체.ttf', '나눔손글씨 정은체.ttf', '나눔손글씨 중학생.ttf', '나눔손글씨 진주 박경아체.ttf', '나눔손글씨 철필글씨.ttf', '나눔손글씨 칼국수.ttf', '나눔손글씨 코코체.ttf', '나눔손글씨 한윤체.ttf', '나눔손글씨 행복한 도비.ttf', '나눔손글씨 혜준체.ttf', '나눔손글씨 희망누리.ttf', '나눔손글씨 흰꼬리수리.ttf', '동그라미재단B.ttf', '동그라미재단L.ttf', '동그라미재단M.ttf', '문화재돌봄체 Bold.ttf', '문화재돌봄체 Regular.ttf', '배스킨라빈스 B.ttf', '비트로 코어 TTF.ttf', '비트로 프라이드 TTF.ttf', '서울남산 장체B.ttf', '서울남산 장체BL.ttf', '서울남산 장체EB.ttf', '서울남산 장체L.ttf', '서울남산 장체M.ttf', '서울한강 장체B.ttf', '서울한강 장체BL.ttf', '서울한강 장체EB.ttf', '서울한강 장체L.ttf', '서울한강 장체M.ttf', '솔뫼 김대건 Light.ttf', '솔뫼 김대건 Medium.ttf', '솔인써니체.ttf', '양진체v0.9_ttf.ttf', '온글잎 경영체.ttf', '온글잎 만두몽키체.ttf', '온글잎 무궁체.ttf', '온글잎 민혜체.ttf', '온글잎 보현체.ttf', '온글잎 석영체.ttf', '온글잎 안될과학궤도체.ttf', '온글잎 안될과학약체.ttf', '온글잎 안될과학유니랩장체.ttf', '온글잎 윤우체.ttf', '온글잎 의연체.ttf', '온글잎 해솜체.ttf', '이순신돋움체B.ttf', '이순신돋움체L.ttf', '이순신돋움체M.ttf', '조선일보명조.ttf', '중나좋체 Light.ttf', '중나좋체 Medium.ttf', '한글틀고딕.ttf', '한수원_한돋음_B.ttf', '한수원_한돋음_R.ttf', '한수원_한울림_R.ttf', '해수체B.ttf', '해수체L.ttf', '해수체M.ttf', '행복고흥B.ttf', '행복고흥L.ttf', '행복고흥M.ttf', '헬스셋고딕Bold.ttf', '헬스셋고딕Light.ttf', '헬스셋조릿대Std.ttf']\n"
     ]
    }
   ],
   "source": [
    "print(fonts)"
   ]
  },
  {
   "cell_type": "code",
   "execution_count": 3,
   "metadata": {},
   "outputs": [
    {
     "data": {
      "text/plain": [
       "'아'"
      ]
     },
     "execution_count": 3,
     "metadata": {},
     "output_type": "execute_result"
    }
   ],
   "source": [
    "unicodeChars = chr(int('C544', 16))\n",
    "unicodeChars"
   ]
  },
  {
   "cell_type": "code",
   "execution_count": 25,
   "metadata": {},
   "outputs": [
    {
     "data": {
      "text/plain": [
       "{'kr': ['사', '삿', '소', '솟', '솨', '쉿']}"
      ]
     },
     "execution_count": 25,
     "metadata": {},
     "output_type": "execute_result"
    }
   ],
   "source": [
    "import json\n",
    "json.load(open('./letter.json'))    "
   ]
  },
  {
   "cell_type": "code",
   "execution_count": 9,
   "metadata": {},
   "outputs": [
    {
     "name": "stderr",
     "output_type": "stream",
     "text": [
      "C:\\Users\\USER\\AppData\\Local\\Temp\\ipykernel_8584\\4281928429.py:11: DeprecationWarning: getsize is deprecated and will be removed in Pillow 10 (2023-07-01). Use getbbox or getlength instead.\n",
      "  x, y = font.getsize(unicodeChars)\n"
     ]
    },
    {
     "ename": "OSError",
     "evalue": "Bitmap missing for glyph",
     "output_type": "error",
     "traceback": [
      "\u001b[1;31m---------------------------------------------------------------------------\u001b[0m",
      "\u001b[1;31mOSError\u001b[0m                                   Traceback (most recent call last)",
      "Cell \u001b[1;32mIn[9], line 17\u001b[0m\n\u001b[0;32m     13\u001b[0m theImage \u001b[39m=\u001b[39m Image\u001b[39m.\u001b[39mnew(\u001b[39m'\u001b[39m\u001b[39mRGB\u001b[39m\u001b[39m'\u001b[39m, (\u001b[39m256\u001b[39m, \u001b[39m256\u001b[39m), (\u001b[39m255\u001b[39m, \u001b[39m255\u001b[39m, \u001b[39m255\u001b[39m))\n\u001b[0;32m     15\u001b[0m theDrawPad \u001b[39m=\u001b[39m ImageDraw\u001b[39m.\u001b[39mDraw(theImage)\n\u001b[1;32m---> 17\u001b[0m theDrawPad\u001b[39m.\u001b[39;49mtext(((\u001b[39m256\u001b[39;49m\u001b[39m-\u001b[39;49mx)\u001b[39m/\u001b[39;49m\u001b[39m2\u001b[39;49m,(\u001b[39m256\u001b[39;49m\u001b[39m-\u001b[39;49my)\u001b[39m/\u001b[39;49m\u001b[39m2\u001b[39;49m), unicodeChars, font\u001b[39m=\u001b[39;49mfont, fill\u001b[39m=\u001b[39;49m\u001b[39m'\u001b[39;49m\u001b[39mblack\u001b[39;49m\u001b[39m'\u001b[39;49m )\n\u001b[0;32m     19\u001b[0m msg \u001b[39m=\u001b[39m path \u001b[39m+\u001b[39m \u001b[39m\"\u001b[39m\u001b[39m/At_\u001b[39m\u001b[39m\"\u001b[39m \u001b[39m+\u001b[39m ttf[:\u001b[39m-\u001b[39m\u001b[39m4\u001b[39m]\n\u001b[0;32m     21\u001b[0m theImage\u001b[39m.\u001b[39msave(\u001b[39m'\u001b[39m\u001b[39m{}\u001b[39;00m\u001b[39m.jpg\u001b[39m\u001b[39m'\u001b[39m\u001b[39m.\u001b[39mformat(msg))\n",
      "File \u001b[1;32mc:\\Users\\USER\\anaconda3\\envs\\pytorch_env\\lib\\site-packages\\PIL\\ImageDraw.py:520\u001b[0m, in \u001b[0;36mImageDraw.text\u001b[1;34m(self, xy, text, fill, font, anchor, spacing, align, direction, features, language, stroke_width, stroke_fill, embedded_color, *args, **kwargs)\u001b[0m\n\u001b[0;32m    517\u001b[0m     draw_text(ink, \u001b[39m0\u001b[39m)\n\u001b[0;32m    518\u001b[0m \u001b[39melse\u001b[39;00m:\n\u001b[0;32m    519\u001b[0m     \u001b[39m# Only draw normal text\u001b[39;00m\n\u001b[1;32m--> 520\u001b[0m     draw_text(ink)\n",
      "File \u001b[1;32mc:\\Users\\USER\\anaconda3\\envs\\pytorch_env\\lib\\site-packages\\PIL\\ImageDraw.py:463\u001b[0m, in \u001b[0;36mImageDraw.text.<locals>.draw_text\u001b[1;34m(ink, stroke_width, stroke_offset)\u001b[0m\n\u001b[0;32m    461\u001b[0m     start\u001b[39m.\u001b[39mappend(math\u001b[39m.\u001b[39mmodf(xy[i])[\u001b[39m0\u001b[39m])\n\u001b[0;32m    462\u001b[0m \u001b[39mtry\u001b[39;00m:\n\u001b[1;32m--> 463\u001b[0m     mask, offset \u001b[39m=\u001b[39m font\u001b[39m.\u001b[39;49mgetmask2(\n\u001b[0;32m    464\u001b[0m         text,\n\u001b[0;32m    465\u001b[0m         mode,\n\u001b[0;32m    466\u001b[0m         direction\u001b[39m=\u001b[39;49mdirection,\n\u001b[0;32m    467\u001b[0m         features\u001b[39m=\u001b[39;49mfeatures,\n\u001b[0;32m    468\u001b[0m         language\u001b[39m=\u001b[39;49mlanguage,\n\u001b[0;32m    469\u001b[0m         stroke_width\u001b[39m=\u001b[39;49mstroke_width,\n\u001b[0;32m    470\u001b[0m         anchor\u001b[39m=\u001b[39;49manchor,\n\u001b[0;32m    471\u001b[0m         ink\u001b[39m=\u001b[39;49mink,\n\u001b[0;32m    472\u001b[0m         start\u001b[39m=\u001b[39;49mstart,\n\u001b[0;32m    473\u001b[0m         \u001b[39m*\u001b[39;49margs,\n\u001b[0;32m    474\u001b[0m         \u001b[39m*\u001b[39;49m\u001b[39m*\u001b[39;49mkwargs,\n\u001b[0;32m    475\u001b[0m     )\n\u001b[0;32m    476\u001b[0m     coord \u001b[39m=\u001b[39m coord[\u001b[39m0\u001b[39m] \u001b[39m+\u001b[39m offset[\u001b[39m0\u001b[39m], coord[\u001b[39m1\u001b[39m] \u001b[39m+\u001b[39m offset[\u001b[39m1\u001b[39m]\n\u001b[0;32m    477\u001b[0m \u001b[39mexcept\u001b[39;00m \u001b[39mAttributeError\u001b[39;00m:\n",
      "File \u001b[1;32mc:\\Users\\USER\\anaconda3\\envs\\pytorch_env\\lib\\site-packages\\PIL\\ImageFont.py:778\u001b[0m, in \u001b[0;36mFreeTypeFont.getmask2\u001b[1;34m(self, text, mode, fill, direction, features, language, stroke_width, anchor, ink, start, *args, **kwargs)\u001b[0m\n\u001b[0;32m    776\u001b[0m Image\u001b[39m.\u001b[39m_decompression_bomb_check(size)\n\u001b[0;32m    777\u001b[0m im \u001b[39m=\u001b[39m fill(\u001b[39m\"\u001b[39m\u001b[39mRGBA\u001b[39m\u001b[39m\"\u001b[39m \u001b[39mif\u001b[39;00m mode \u001b[39m==\u001b[39m \u001b[39m\"\u001b[39m\u001b[39mRGBA\u001b[39m\u001b[39m\"\u001b[39m \u001b[39melse\u001b[39;00m \u001b[39m\"\u001b[39m\u001b[39mL\u001b[39m\u001b[39m\"\u001b[39m, size, \u001b[39m0\u001b[39m)\n\u001b[1;32m--> 778\u001b[0m \u001b[39mself\u001b[39;49m\u001b[39m.\u001b[39;49mfont\u001b[39m.\u001b[39;49mrender(\n\u001b[0;32m    779\u001b[0m     text,\n\u001b[0;32m    780\u001b[0m     im\u001b[39m.\u001b[39;49mid,\n\u001b[0;32m    781\u001b[0m     mode,\n\u001b[0;32m    782\u001b[0m     direction,\n\u001b[0;32m    783\u001b[0m     features,\n\u001b[0;32m    784\u001b[0m     language,\n\u001b[0;32m    785\u001b[0m     stroke_width,\n\u001b[0;32m    786\u001b[0m     ink,\n\u001b[0;32m    787\u001b[0m     start[\u001b[39m0\u001b[39;49m],\n\u001b[0;32m    788\u001b[0m     start[\u001b[39m1\u001b[39;49m],\n\u001b[0;32m    789\u001b[0m )\n\u001b[0;32m    790\u001b[0m \u001b[39mreturn\u001b[39;00m im, offset\n",
      "\u001b[1;31mOSError\u001b[0m: Bitmap missing for glyph"
     ]
    }
   ],
   "source": [
    "unicodeChars = chr(int(\"C55F\", 16))\n",
    "# unicodeChars = '앟'\n",
    "path = \"font_img/\" + unicodeChars\n",
    "    \n",
    "os.makedirs(path, exist_ok = True)\n",
    "        \n",
    "for ttf in fonts:\n",
    "        \n",
    "    font = ImageFont.truetype(font = font_path +'/'+ ttf, size = 230)\n",
    "        \n",
    "    x, y = font.getsize(unicodeChars)\n",
    "        \n",
    "    theImage = Image.new('RGB', (256, 256), (255, 255, 255))\n",
    "        \n",
    "    theDrawPad = ImageDraw.Draw(theImage)\n",
    "        \n",
    "    theDrawPad.text(((256-x)/2,(256-y)/2), unicodeChars, font=font, fill='black' )\n",
    "        \n",
    "    msg = path + \"/At_\" + ttf[:-4]\n",
    "        \n",
    "    theImage.save('{}.jpg'.format(msg))\n"
   ]
  },
  {
   "cell_type": "code",
   "execution_count": 6,
   "metadata": {},
   "outputs": [
    {
     "name": "stderr",
     "output_type": "stream",
     "text": [
      "C:\\Users\\USER\\AppData\\Local\\Temp\\ipykernel_24628\\3071552611.py:9: DeprecationWarning: getsize is deprecated and will be removed in Pillow 10 (2023-07-01). Use getbbox or getlength instead.\n",
      "  x, y = font.getsize(unicodeChars)\n"
     ]
    }
   ],
   "source": [
    "# unicodeChars = chr(int(\"C55F\", 16))\n",
    "unicodeChars = '아'\n",
    "path = \"font_img/\" + unicodeChars\n",
    "    \n",
    "os.makedirs(path, exist_ok = True)\n",
    "for ttf in fonts:\n",
    "    try:\n",
    "        font = ImageFont.truetype(font = font_path +'/'+ ttf, size = 230)\n",
    "        x, y = font.getsize(unicodeChars)\n",
    "        theImage = Image.new('RGB', (256, 256), (255, 255, 255))\n",
    "        theDrawPad = ImageDraw.Draw(theImage)\n",
    "        theDrawPad.text(((256-x)/2,(256-y)/2), unicodeChars, font=font, fill='black' )\n",
    "        msg = path + \"/At_\" + ttf[:-4]\n",
    "    except OSError as e:\n",
    "        if str(e).startswith(\"Bitmap missing for glyph\"):\n",
    "            print(f\"Skipping file {ttf}: {str(e)}\")\n",
    "            continue\n",
    "        else:\n",
    "            raise e\n",
    "    else:\n",
    "        theImage.save('{}.jpg'.format(msg))\n"
   ]
  },
  {
   "cell_type": "code",
   "execution_count": null,
   "metadata": {},
   "outputs": [],
   "source": [
    "# unicodeChars = chr(int(\"C55F\", 16))\n",
    "unicodeChars = '앟'\n",
    "path = \"font_img/\" + unicodeChars\n",
    "    \n",
    "os.makedirs(path, exist_ok = True)\n",
    "for ttf in fonts:\n",
    "    try:\n",
    "        font = ImageFont.truetype(font = font_path +'/'+ ttf, size = 230)\n",
    "        x, y = font.getsize(unicodeChars)\n",
    "        theImage = Image.new('RGB', (256, 256), (255, 255, 255))\n",
    "        theDrawPad = ImageDraw.Draw(theImage)\n",
    "        theDrawPad.text(((256-x)/2,(256-y)/2), unicodeChars, font=font, fill='black' )\n",
    "        msg = path + \"/At_\" + ttf[:-4]\n",
    "    except OSError as e:\n",
    "        if str(e).startswith(\"Bitmap missing for glyph\"):\n",
    "            print(f\"Skipping file {ttf}: {str(e)}\")\n",
    "            continue\n",
    "        else:\n",
    "            raise e\n",
    "    else:\n",
    "        theImage.save('{}.jpg'.format(msg))"
   ]
  },
  {
   "cell_type": "code",
   "execution_count": 4,
   "metadata": {},
   "outputs": [],
   "source": [
    "#최종 수정\n",
    "# unicodeChars = chr(int(\"C55F\", 16))\n",
    "unicodeChars = '아'\n",
    "path = \"font_img/\" + unicodeChars\n",
    "    \n",
    "os.makedirs(path, exist_ok = True)\n",
    "for ttf in fonts:\n",
    "    try:\n",
    "        font = ImageFont.truetype(font = font_path +'/'+ ttf, size = 230)\n",
    "        (width, baseline), (offset_x, offset_y) = font.font.getsize(unicodeChars)\n",
    "        theImage = Image.new('RGB', (256, 256), (255, 255, 255))\n",
    "        theDrawPad = ImageDraw.Draw(theImage)\n",
    "        theDrawPad.text((-offset_x+15, -offset_y+15), unicodeChars,(0,0,0), font=font)\n",
    "        msg = path + \"/A_\" + ttf[:-4]\n",
    "    except OSError as e:\n",
    "        if str(e).startswith(\"Bitmap missing for glyph\"):\n",
    "            print(f\"Skipping file {ttf}: {str(e)}\")\n",
    "            continue\n",
    "        else:\n",
    "            raise e\n",
    "    else:\n",
    "        theImage.save('{}.jpg'.format(msg))\n"
   ]
  },
  {
   "cell_type": "code",
   "execution_count": 2,
   "metadata": {},
   "outputs": [
    {
     "name": "stderr",
     "output_type": "stream",
     "text": [
      "C:\\Users\\USER\\AppData\\Local\\Temp\\ipykernel_20664\\501927228.py:13: DeprecationWarning: getsize is deprecated and will be removed in Pillow 10 (2023-07-01). Use getbbox or getlength instead.\n",
      "  x, y = font.getsize(unicodeChars)\n"
     ]
    }
   ],
   "source": [
    "unicodeChars = \"청춘카페\"\n",
    "\n",
    "path = \"font_img/\" + unicodeChars\n",
    "\n",
    "fontname = [\"텐바이텐 폰트\", \"텐바이텐 폰트 Bold\", \"116앵무부리\", \"116수박화체\", \"12롯데마트드림Bold\", \"12롯데마트드림Light\", \"12롯데마트드림Medium\", \"12롯데마트행복Bold\", \"12롯데마트행복Light\", \"12롯데마트행복Medium\", \"도서관체\", \"성동고딕\", \"성동고딕B\", \"경기천년제목 Bold\", \"경기천년제목 Medium\", \"경기천년제목V Bold\", \"경기천년바탕 Bold\", \"경기천년바탕 Regular\", \"빛고을광주체 Light\", \"빛고을광주체 Medium\", \"빛고을광주체 Bold\", \"김포평화바탕\", \"순천체R\", \"순천체B\", \"전주완판본 순체 B\", \"전주완판본 순체 L\", \"전주완판본 순체 R\", \"전주완판본 각체 B\", \"전주완판본 각체 L\", \"전주완판본 각체 R\", \"유토이미지 고딕 R\", \"유토이미지 별나라달님체\", \"유토이미지 빨간우체통체\", \"유토이미지 플라워체\", \"유토이미지체\", \"유토이미지 고딕 B\", \"유토이미지 고딕 L\", \"아리따 부리 B\", \"아리따 부리 L\", \"아리따 부리 M\", \"아리따 부리 SB\", \"애터미체 Bold\", \"애터미체 Light\", \"애터미체 Medium\", \"a타이틀고딕2\", \"a타이틀고딕3\", \"a타이틀고딕4\", \"바른바탕체 B\", \"바른바탕체 L\", \"바른바탕체 M\", \"바탕체\", \"넥슨 배찌체\", \"빙그레체\", \"빙그레 메로나체 Bold\", \"빙그레 메로나\", \"빙그레 싸만코체 Bold\", \"빙그레 싸만코체\", \"빙그레체Ⅱ\", \"도현체\", \"을지로10년후체\", \"을지로체\", \"한나체 Air\", \"한나체 Pro\", \"한나는11살체\", \"주아체\", \"기랑해랑체\", \"연성체\", \"부산체\", \"카페24 당당해체\", \"카페24 단정해체\", \"카페24 동동체\", \"카페24 아네모네 에어체\", \"카페24 빛나는별체\", \"카페24 쑥쑥체\", \"카페24 숑숑체\", \"창원단감아삭체 Bold\", \"쿠키런체 Black\", \"쿠키런체 Bold\", \"디자인하우스체\", \"디자인하우스체 Light\", \"영양군 음식디미방체\", \"동글 Bold\", \"동글 Light\", \"동글 Regular\", \"도스고딕\", \"도스이야기 굵은체\", \"도스명조\", \"도스필기\", \"도스샘물\", \"돋움체\", \"둥근모꼴\", \"DX아리랑 B\", \"DX아우라\", \"DX작가세상 M\", \"DX방탄고딕\", \"DX봄결 ExBold\", \"DX블루마린라운드 ExBold\", \"DX어린이그림\", \"DX동화나라 Bold\", \"DX퓨리티 Bold\", \"DX헤드02 Bold\", \"DX설레임2 Medium\", \"DX설레임 Medium\", \"DX우등생 Bold\", \"DX한울 Bold\", \"DX경필명조 Bold\", \"DX모던고딕 Bold\", \"DX모던고딕 RoundBold\", \"DX국민시대 Regular\", \"DX새신문명조 Bold\", \"DX프로방스 Bold\", \"DX르네상스 Bold\", \"DX단선고딕 Thin\", \"DX신문명조\", \"DX스피드 Medium\", \"DX우리강산 Bold\", \"EBS주시경B\", \"EBS주시경L\", \"EBS주시경M\", \"마초체\", \"엘리스디지털배움체 Regular\", \"설립체\", \"가비아 청연체\", \"가비아 마음결체\", \"가비아 봄바람체\", \"가비아 납작블럭체\", \"가비아 솔미체\", \"가나초콜릿체\", \"고도체 B\", \"고도체 M\", \"고양덕양체 B\", \"고양덕양체 EB\", \"굴림체\", \"HY그래픽M\", \"HY견고딕\", \"HY중고딕\", \"HY헤드라인M\", \"HY견명조\", \"HY신명조\", \"HY얕은샘물M\", \"함렡체 Black\", \"함렡체 Bold\", \"함렡체 Light\", \"함렡체 Regular\", \"한컴 백제 B\", \"함초롬바탕체\", \"함초롬바탕체 B\", \"한글누리체\", \"한글누리체 R\", \"한겨레결체\", \"한컴 바겐세일 B\", \"한컴 바겐세일 M\", \"한솔체 B\", \"한솔체 M\", \"한컴 소망 B\", \"한컴 소망 M\", \"HanS 붐붐\", \"윤고딕 230\", \"윤고딕 240\", \"Headline\", \"빛의계승자체 Bold\", \"빛의계승자체 Regular\", \"휴먼굵은팸체\", \"휴먼굵은샘체\", \"휴먼가는팸체\", \"휴먼가는샘체\", \"휴먼아미체\", \"휴먼고딕\", \"휴먼명조\", \"휴먼매직체\", \"휴먼옛체\", \"휴먼둥근헤드라인\", \"휴먼중간샘체\", \"HS새마을체 Regular\", \"HS겨울눈꽃체\", \"HS두꺼비체\", \"HS봄바람체 2.0\", \"HS새마을체\", \"HY 바다 L\", \"HY 바다 M\", \"HY 그래픽\", \"HY 강 B\", \"HY 강 M\", \"이롭게 바탕체\", \"한글재민체\", \"제주고딕\", \"제주한라산\", \"제주명조\", \"정선아리랑체\", \"정선아리랑혼체\", \"정선아리랑뿌리체\", \"KBIZ 한마음고딕 B\", \"KBIZ 한마음고딕 H\", \"KBIZ 한마음고딕 L\", \"KBIZ 한마음고딕 M\", \"KBIZ 한마음고딕 R\", \"KBIZ 한마음명조 B\", \"KBIZ 한마음명조 L\", \"KBIZ 한마음명조 M\", \"KBIZ 한마음명조 R\", \"KCC안중근체\", \"KCC임권택체\", \"KCC김훈체\", \"KCC은영체\", \"KoPub 바탕체 Bold\", \"KoPub 바탕체 Light\", \"KoPub 바탕체 Medium\", \"KoPub 돋움체 Bold\", \"KoPub 돋움체 Light\", \"KoPub 돋움체 Medium\", \"코트라 희망체\", \"코트라 도약체\", \"코트라 볼드체\", \"로커스 상상고딕체\", \"맑은 고딕\", \"메이플스토리 Bold\", \"메이플스토리 Light\", \"마포애민\", \"마포배낭여행\", \"마포다카포\", \"마포홍대프리덤\", \"마포마포나루\", \"미래로글꼴\", \"나눔손글씨 붓\", \"나눔고딕에코\", \"나눔고딕에코 Bold\", \"나눔고딕에코 ExtraBold\", \"나눔명조\", \"나눔명조에코\", \"나눔명조에코 Bold\", \"나눔명조에코 ExtraBold\", \"나눔손글씨 펜\", \"나눔스퀘어\", \"넷마블체 B\", \"넷마블체 L\", \"넷마블체 M\", \"넥센타이어체 Bold\", \"넥센타이어체 Regular\", \"닉스곤체 B 2.0\", \"닉스곤체 M 2.0\", \"ON I고딕\", \"원스토어 모바일POP체\", \"포천 오성과한음체 Bold\", \"포천 오성과한음체 Regular\", \"푸른전남체 Bold\", \"푸른전남체 Medium\", \"푸른전남체\", \"평창평화체 Bold\", \"평창평화체 Light\", \"노회찬체\", \"삼국지3글꼴\", \"상주다정다감체\", \"상주곶감체\", \"상주경천섬체\", \"산돌독수리체\", \"산돌이야기체\", \"세방고딕 Bold\", \"세방고딕\", \"서울남산체\", \"SF망고빙수\", \"스포카 한 산스 Bold\", \"스포카 한 산스 Light\", \"스포카 한 산스 Regular\", \"스포카 한 산스 Thin\", \"정묵바위체\", \"순바탕 Bold\", \"순바탕 Light\", \"순바탕 Medium\", \"태-조각TB\", \"태-으뜸B\", \"THE뉴스속보\", \"THE명품굴림B\", \"THE선인장\", \"THE정직\", \"티몬체\", \"tvN 즐거운이야기 Bold\", \"tvN 즐거운이야기 Light\", \"tvN 즐거운이야기 Medium\", \"티웨이 항공체\", \"티웨이 날다체\", \"티웨이 하늘체\", \"타이포 발레리나 B\", \"타이포 발레리나 M\", \"타이포 도담\", \"타이포 돈키왕자 M\", \"타이포 어울림 B\", \"타이포 어울림 L\", \"타이포 어울림 M\", \"타이포 홍익인간 M\", \"타이포 정조 M\", \"타이포 세종대왕 훈민\", \"타이포 달꽃\", \"타이포 명탐정\", \"타이포 씨고딕180\", \"타이포 씨명조180\", \"타이포 스톰 B\", \"어비 꿍디체\", \"어비 나현체 Bold\", \"어비 나현체\", \"어비 남지은체 Bold\", \"어비 남지은체\", \"어비 소윤체\", \"어비 선홍체 BOLD\", \"어비 선홍체\", \"어비 스윗체\", \"어비 순수결정체 Bold\", \"어비 순수결정체\", \"양굵은구조고딕\", \"양평군체 B\", \"양평군체 L\", \"양평군체 M\", \"Y이드스트릿체 B\", \"Y이드스트릿체 L\", \"영도체\", \"양재깨비체M\", \"청소년체\", \"강한육군 Bold Vert\", \"강한육군 Bold\", \"강한육군 Medium Vert\", \"강한육군 Medium\", \"경기천년제목 Light\", \"고양일산 R\", \"국립박물관문화재단클래식B\", \"국립박물관문화재단클래식L\", \"국립박물관문화재단클래식M\", \"국립중앙도서관글자체\", \"나눔손글씨 가람연꽃\", \"나눔손글씨 갈맷글\", \"나눔손글씨 강부장님체\", \"나눔손글씨 고딕 아니고 고딩\", \"나눔손글씨 고려글꼴\", \"나눔손글씨 곰신체\", \"나눔손글씨 규리의 일기\", \"나눔손글씨 김유이체\", \"나눔손글씨 꽃내음\", \"나눔손글씨 끄트머리체\", \"나눔손글씨 다행체\", \"나눔손글씨 대광유리\", \"나눔손글씨 딸에게 엄마가\", \"나눔손글씨 반짝반짝 별\", \"나눔손글씨 세계적인 한글\", \"나눔손글씨 세아체\", \"나눔손글씨 세화체\", \"나눔손글씨 소방관의 기도\", \"나눔손글씨 시우 귀여워\", \"나눔손글씨 신혼부부\", \"나눔손글씨 아빠의 연애편지\", \"나눔손글씨 아줌마 자유\", \"나눔손글씨 엄마사랑\", \"나눔손글씨 와일드\", \"나눔손글씨 외할머니글씨\", \"나눔손글씨 유니 띵땅띵땅\", \"나눔손글씨 자부심지우\", \"나눔손글씨 잘하고 있어\", \"나눔손글씨 장미체\", \"나눔손글씨 점꼴체\", \"나눔손글씨 정은체\", \"나눔손글씨 중학생\", \"나눔손글씨 진주 박경아체\", \"나눔손글씨 철필글씨\", \"나눔손글씨 칼국수\", \"나눔손글씨 코코체\", \"나눔손글씨 한윤체\", \"나눔손글씨 행복한 도비\", \"나눔손글씨 혜준체\", \"나눔손글씨 희망누리\", \"나눔손글씨 흰꼬리수리\", \"동그라미재단B\", \"동그라미재단L\", \"동그라미재단M\", \"문화재돌봄체 Bold\", \"문화재돌봄체 Regular\", \"배스킨라빈스 B\", \"비트로 코어체\", \"비트로 프라이드체\", \"서울남산 장체 B\", \"서울남산 장체 BL\", \"서울남산 장체 EB\", \"서울남산 장체 L\", \"서울남산 장체 M\", \"서울한강 장체 B\", \"서울한강 장체 BL\", \"서울한강 장체 EB\", \"서울한강 장체 L\", \"서울한강 장체 M\", \"솔뫼 김대건 Light\", \"솔뫼 김대건 Medium\", \"솔인써니체\", \"양진체\", \"온글잎 경영체\", \"온글잎 만두몽키체\", \"온글잎 무궁체\", \"온글잎 민혜체\", \"온글잎 보현체\", \"온글잎 석영체\", \"온글잎 안될과학궤도체\", \"온글잎 안될과학약체\", \"온글잎 안될과학유니랩장체\", \"온글잎 윤우체\", \"온글잎 의연체\", \"온글잎 해솜체\", \"이순신돋움체B\", \"이순신돋움체L\", \"이순신돋움체M\", \"조선일보명조\", \"중나좋체 Light\", \"중나좋체 Medium\", \"한글틀고딕\", \"한수원_한돋음_B\", \"한돋음체 R\", \"한울림체 R\", \"해수체B\", \"해수체L\", \"해수체M\", \"행복고흥B\", \"행복고흥L\", \"행복고흥M\", \"헬스셋고딕Bold\", \"헬스셋고딕Light\", \"헬스셋조릿대Std\"]\n",
    "\n",
    "os.makedirs(path, exist_ok = True)\n",
    "        \n",
    "for i,ttf in enumerate(fonts):\n",
    "        \n",
    "    font = ImageFont.truetype(font = font_path +'/'+ ttf, size = 230)\n",
    "        \n",
    "    x, y = font.getsize(unicodeChars)\n",
    "        \n",
    "    theImage = Image.new('RGB', (1000, 300), (255, 255, 255))\n",
    "        \n",
    "    theDrawPad = ImageDraw.Draw(theImage)\n",
    "        \n",
    "    theDrawPad.text(((1000-x)/2,(300-y)/2), unicodeChars, font=font, fill='black' )\n",
    "        \n",
    "    msg = path + \"/\" + fontname[i]\n",
    "        \n",
    "    theImage.save('{}.jpg'.format(msg))\n"
   ]
  },
  {
   "cell_type": "code",
   "execution_count": 13,
   "metadata": {},
   "outputs": [
    {
     "data": {
      "text/plain": [
       "421"
      ]
     },
     "execution_count": 13,
     "metadata": {},
     "output_type": "execute_result"
    }
   ],
   "source": [
    "len(fonts)"
   ]
  },
  {
   "cell_type": "code",
   "execution_count": 14,
   "metadata": {},
   "outputs": [
    {
     "data": {
      "text/plain": [
       "420"
      ]
     },
     "execution_count": 14,
     "metadata": {},
     "output_type": "execute_result"
    }
   ],
   "source": [
    "len(fontname)"
   ]
  },
  {
   "cell_type": "code",
   "execution_count": 19,
   "metadata": {},
   "outputs": [],
   "source": [
    "import os\n",
    "\n",
    "# 두 개의 폴더 경로\n",
    "folder1 = \"font_img/가\"\n",
    "folder2 = \"kkeokim\"\n",
    "\n",
    "# 각 폴더에 있는 파일 목록 가져오기\n",
    "files1 = os.listdir(folder1)\n",
    "files2 = os.listdir(folder2)"
   ]
  },
  {
   "cell_type": "code",
   "execution_count": 20,
   "metadata": {},
   "outputs": [
    {
     "data": {
      "text/plain": [
       "['10X10.jpg', '10X10Bold.jpg', '116angmuburi.jpg']"
      ]
     },
     "execution_count": 20,
     "metadata": {},
     "output_type": "execute_result"
    }
   ],
   "source": [
    "files1[:3]"
   ]
  },
  {
   "cell_type": "code",
   "execution_count": 21,
   "metadata": {},
   "outputs": [],
   "source": [
    "non_jpg_files1 = [os.path.splitext(f)[0] for f in files1]"
   ]
  },
  {
   "cell_type": "code",
   "execution_count": 22,
   "metadata": {},
   "outputs": [
    {
     "data": {
      "text/plain": [
       "['10X10', '10X10Bold', '116angmuburi']"
      ]
     },
     "execution_count": 22,
     "metadata": {},
     "output_type": "execute_result"
    }
   ],
   "source": [
    "non_jpg_files1[:3]"
   ]
  },
  {
   "cell_type": "code",
   "execution_count": 23,
   "metadata": {},
   "outputs": [
    {
     "data": {
      "text/plain": [
       "['10X10.png', '10X10Bold.png', '116angmuburi.png']"
      ]
     },
     "execution_count": 23,
     "metadata": {},
     "output_type": "execute_result"
    }
   ],
   "source": [
    "files2[:3]"
   ]
  },
  {
   "cell_type": "code",
   "execution_count": 24,
   "metadata": {},
   "outputs": [],
   "source": [
    "non_png_files2 = [os.path.splitext(f)[0] for f in files2]\n"
   ]
  },
  {
   "cell_type": "code",
   "execution_count": 25,
   "metadata": {},
   "outputs": [
    {
     "data": {
      "text/plain": [
       "['10X10', '10X10Bold', '116angmuburi']"
      ]
     },
     "execution_count": 25,
     "metadata": {},
     "output_type": "execute_result"
    }
   ],
   "source": [
    "non_png_files2[:3]"
   ]
  },
  {
   "cell_type": "code",
   "execution_count": 26,
   "metadata": {},
   "outputs": [
    {
     "data": {
      "text/plain": [
       "421"
      ]
     },
     "execution_count": 26,
     "metadata": {},
     "output_type": "execute_result"
    }
   ],
   "source": [
    "len(non_jpg_files1)"
   ]
  },
  {
   "cell_type": "code",
   "execution_count": 27,
   "metadata": {},
   "outputs": [
    {
     "data": {
      "text/plain": [
       "420"
      ]
     },
     "execution_count": 27,
     "metadata": {},
     "output_type": "execute_result"
    }
   ],
   "source": [
    "len(non_png_files2)"
   ]
  },
  {
   "cell_type": "code",
   "execution_count": 28,
   "metadata": {},
   "outputs": [
    {
     "name": "stdout",
     "output_type": "stream",
     "text": [
      "두번째 폴더에서 첫번째 폴더와 이름이 다른 파일: Cafe24Ssurround\n"
     ]
    }
   ],
   "source": [
    "for file1 in non_jpg_files1:\n",
    "    if file1 not in non_png_files2:\n",
    "        print(f\"두번째 폴더에서 첫번째 폴더와 이름이 다른 파일: {file1}\")\n",
    "        break"
   ]
  },
  {
   "cell_type": "code",
   "execution_count": 74,
   "metadata": {},
   "outputs": [],
   "source": [
    "# 두 개의 파일 목록을 하나의 리스트로 병합\n",
    "all_files = non_jpg_files1 + non_png_files2\n",
    "\n",
    "# 파일 이름을 키로, 폴더 경로를 값으로 하는 딕셔너리 생성\n",
    "file_dict = {}\n",
    "for file_path in all_files:\n",
    "    file_name = os.path.basename(file_path)\n",
    "    if file_name not in file_dict:\n",
    "        file_dict[file_name] = []\n",
    "    file_dict[file_name].append(file_path)\n",
    "\n",
    "# 이름이 다른 파일 찾아내기\n",
    "for file_name in file_dict:\n",
    "    if len(file_dict[file_name]) == 1:\n",
    "        print(\"파일 이름이 다른 파일: \", file_dict[file_name][0])"
   ]
  }
 ],
 "metadata": {
  "kernelspec": {
   "display_name": "pytorch_env",
   "language": "python",
   "name": "python3"
  },
  "language_info": {
   "codemirror_mode": {
    "name": "ipython",
    "version": 3
   },
   "file_extension": ".py",
   "mimetype": "text/x-python",
   "name": "python",
   "nbconvert_exporter": "python",
   "pygments_lexer": "ipython3",
   "version": "3.8.5"
  },
  "orig_nbformat": 4
 },
 "nbformat": 4,
 "nbformat_minor": 2
}
