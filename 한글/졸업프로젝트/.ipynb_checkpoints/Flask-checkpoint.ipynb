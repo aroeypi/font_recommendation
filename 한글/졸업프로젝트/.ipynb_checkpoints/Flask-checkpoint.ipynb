{
 "cells": [
  {
   "cell_type": "markdown",
   "id": "4046881e",
   "metadata": {},
   "source": [
    "# Flask 프레임워크를 이용한 웹 서빙"
   ]
  },
  {
   "cell_type": "markdown",
   "id": "601b0c68",
   "metadata": {},
   "source": [
    "## Flask 서버 구성\n",
    "- app.py\n",
    "- cnn_model.py\n",
    "- photos-cnn-model.h5\n",
    "- templates\n",
    "    - index.html\n",
    "- static\n",
    "    - uploads\n",
    "        - test-salad.jpg"
   ]
  },
  {
   "cell_type": "markdown",
   "id": "25cf8eb4",
   "metadata": {},
   "source": [
    "### 1) index.html "
   ]
  },
  {
   "cell_type": "code",
   "execution_count": 2,
   "id": "611d19e9",
   "metadata": {},
   "outputs": [
    {
     "ename": "IndentationError",
     "evalue": "unindent does not match any outer indentation level (<tokenize>, line 33)",
     "output_type": "error",
     "traceback": [
      "\u001b[1;36m  File \u001b[1;32m<tokenize>:33\u001b[1;36m\u001b[0m\n\u001b[1;33m    {% endif %}\u001b[0m\n\u001b[1;37m    ^\u001b[0m\n\u001b[1;31mIndentationError\u001b[0m\u001b[1;31m:\u001b[0m unindent does not match any outer indentation level\n"
     ]
    }
   ],
   "source": [
    "<!DOCTYPE html>\n",
    "<head>\n",
    "    <meta charset=\"utf8\">\n",
    "    <title>CNN 모델 웹서빙</title>\n",
    "    <style>\n",
    "\thtml { \n",
    "\t\tfont-size: 20px; \n",
    "                         font-weight: bold; \n",
    "             }\n",
    "            img {\n",
    "                         float: left;\n",
    "                         width: 40%;\n",
    "                         height: 50%;\n",
    "\t\tmargin: 5px;\n",
    "\t\tpadding: 5px;\n",
    "                         border: 2px solid #90C;\n",
    "            }\n",
    "            p    {\n",
    "                         clear: both;\n",
    "            }\n",
    "    </style>\n",
    "<body>\n",
    "    <div class=\"container\">\n",
    "    <h1>CNN 모델로 음식 이미지 분류</h1>\n",
    "    <h2>이미지 업로드 및 CNN 예측</h2>\n",
    "    <hr>\n",
    "    {% if filename %}<br>\n",
    "        <div>\n",
    "            <img src=\"{{filename}}\" width=500 height=450 align=left>\n",
    "        </div>   \n",
    "        <br>       \n",
    "         <p>예측 : {{label}} &nbsp;&nbsp;  정확도 : {{probability}} &nbsp;&nbsp; 칼로리 : {{cal}}</p>          \n",
    "     {% endif %}\n",
    "\n",
    "    <form method=\"post\" action=\"/upload\" enctype=\"multipart/form-data\">\n",
    "        <input type=\"file\" name=\"file\">\n",
    "        <input type=\"submit\" value=\"submit\">\n",
    "    </form>\n",
    "    </div>\n",
    "</body>\n",
    "</head>"
   ]
  },
  {
   "cell_type": "markdown",
   "id": "269ce4d9",
   "metadata": {},
   "source": [
    "### 2) app.py "
   ]
  },
  {
   "cell_type": "markdown",
   "id": "fd7f0f61",
   "metadata": {},
   "source": [
    "- pip install flask"
   ]
  },
  {
   "cell_type": "code",
   "execution_count": null,
   "id": "fbdf3da5",
   "metadata": {},
   "outputs": [],
   "source": [
    "import cnn_model\n",
    "from flask import Flask, render_template, request, session, escape, jsonify\n",
    "import requests\n",
    "import json, os\n",
    "from flask import *\n",
    "from PIL import Image\n",
    "from tensorflow.keras.models import load_model\n",
    "import numpy as np\n",
    "\n",
    "# 테스트 이미지 변형을 위한 변수 선언\n",
    "im_rows = 32 # 이미지의 높이\n",
    "im_cols = 32 # 이미지의 너비\n",
    "im_color = 3 # 이미지의 색공간\n",
    "in_shape = (im_rows, im_cols, im_color) # 입력 이미지 차원\n",
    "nb_classes = 3 # 클래스 수\n",
    "\n",
    "LABELS = [\"피자\", \"스파게티\", \"스시\"] # 레이블의 음식 이름\n",
    "CALORIES = [266, 157, 228] # 각 레이블별 칼로리\n",
    "\n",
    "def predict(filename):    \n",
    "    # 학습된 CNN 모델과 가중치 불러오기\n",
    "    model = load_model('./model/photos-cnn-model.h5')\n",
    "    model.load_weights('./model/photos-cnn-weight.hdf5')\n",
    "    \n",
    "    # 이미지 읽어 들이기\n",
    "    print(filename)\n",
    "    img = Image.open(\"./\"+ filename)\n",
    "    img = img.convert(\"RGB\") # 색공간 변환하기\n",
    "    img = img.resize((im_cols, im_rows)) # 크기 변경하기\n",
    "    \n",
    "    # 3차원으로 데이터 변환하기\n",
    "    x = np.asarray(img)\n",
    "    x = x.reshape(-1, im_rows, im_cols, im_color)\n",
    "    x = x / 255\n",
    "    \n",
    "    # 예측하기\n",
    "    pre = model.predict([x])[0]\n",
    "    print(pre)\n",
    "    idx = pre.argmax()\n",
    "    per = round(float(pre[idx] * 100),3)\n",
    "    \n",
    "    return idx, per\n",
    "\n",
    "# app 서버 \n",
    "app = Flask(__name__)\n",
    "\n",
    "app.config['UPLOAD_FOLDER'] = 'static/uploads'\n",
    "\n",
    "@app.route('/')\n",
    "@app.route('/index')\n",
    "def index():\n",
    "    return render_template('index.html')\n",
    "\n",
    "@app.route('/upload', methods = ['POST'])\n",
    "def upload():\n",
    "    \n",
    "    file = request.files['file']\n",
    "    filename = file.filename\n",
    "    file.save(os.path.join(app.config['UPLOAD_FOLDER'], filename))\n",
    "    img_src = url_for('static', filename = 'uploads/' + filename)\n",
    "\n",
    "    label, prob = predict(img_src)\n",
    "    pred = LABELS[label] \n",
    "    cal = CALORIES[label] \n",
    "    cal = str(cal) + \"kcal\"\n",
    "    prob = str(round(prob, 2)) + \"%\"\n",
    "    \n",
    "    return render_template('index.html', filename=img_src, label=pred, probability=prob, cal=cal)\n",
    "\n",
    "if __name__=='__main__':\n",
    "    app.run('127.0.0.1', port=5000)    "
   ]
  },
  {
   "cell_type": "code",
   "execution_count": 1,
   "id": "8b00f014",
   "metadata": {},
   "outputs": [
    {
     "name": "stdout",
     "output_type": "stream",
     "text": [
      "Collecting pytesseract\n",
      "  Downloading pytesseract-0.3.10-py3-none-any.whl (14 kB)\n",
      "Requirement already satisfied: Pillow in c:\\users\\user\\anaconda3\\envs\\dl_study\\lib\\site-packages (9.4.0)\n",
      "Requirement already satisfied: packaging>=21.3 in c:\\users\\user\\appdata\\roaming\\python\\python310\\site-packages (from pytesseract) (23.0)\n",
      "Installing collected packages: pytesseract\n",
      "Successfully installed pytesseract-0.3.10\n",
      "Note: you may need to restart the kernel to use updated packages.\n"
     ]
    }
   ],
   "source": [
    "pip install pytesseract Pillow"
   ]
  },
  {
   "cell_type": "code",
   "execution_count": null,
   "id": "1de97e85",
   "metadata": {},
   "outputs": [],
   "source": [
    "<!DOCTYPE html>\n",
    "<html>\n",
    "<head>\n",
    "    <title>이미지 글자 인식</title>\n",
    "</head>\n",
    "<body>\n",
    "    <h1>이미지 글자 인식</h1>\n",
    "   \n",
    "    {% if filename %}<br>\n",
    "        <div>\n",
    "            <img src=\"{{filename}}\" width=500 height=450 align=left>\n",
    "        </div>   \n",
    "               \n",
    "     {% endif %}\n",
    "\t <form method=\"POST\" action=\"/upload\" enctype=\"multipart/form-data\">\n",
    "        <input type=\"file\" name=\"file\">\n",
    "        <input type=\"submit\" value=\"인식\">\n",
    "    </form>\n",
    "\n",
    "</body>\n",
    "</html>"
   ]
  },
  {
   "cell_type": "code",
   "execution_count": null,
   "id": "622b2f82",
   "metadata": {},
   "outputs": [
    {
     "name": "stdout",
     "output_type": "stream",
     "text": [
      " * Serving Flask app '__main__'\n",
      " * Debug mode: off\n"
     ]
    },
    {
     "name": "stderr",
     "output_type": "stream",
     "text": [
      "WARNING: This is a development server. Do not use it in a production deployment. Use a production WSGI server instead.\n",
      " * Running on http://127.0.0.1:5000\n",
      "Press CTRL+C to quit\n",
      "127.0.0.1 - - [05/May/2023 23:44:44] \"GET / HTTP/1.1\" 200 -\n",
      "127.0.0.1 - - [05/May/2023 23:44:44] \"GET /favicon.ico HTTP/1.1\" 404 -\n",
      "[2023-05-05 23:44:47,468] ERROR in app: Exception on /upload [POST]\n",
      "Traceback (most recent call last):\n",
      "  File \"C:\\Users\\USER\\anaconda3\\envs\\dl_study\\lib\\site-packages\\flask\\app.py\", line 2525, in wsgi_app\n",
      "    response = self.full_dispatch_request()\n",
      "  File \"C:\\Users\\USER\\anaconda3\\envs\\dl_study\\lib\\site-packages\\flask\\app.py\", line 1822, in full_dispatch_request\n",
      "    rv = self.handle_user_exception(e)\n",
      "  File \"C:\\Users\\USER\\anaconda3\\envs\\dl_study\\lib\\site-packages\\flask\\app.py\", line 1820, in full_dispatch_request\n",
      "    rv = self.dispatch_request()\n",
      "  File \"C:\\Users\\USER\\anaconda3\\envs\\dl_study\\lib\\site-packages\\flask\\app.py\", line 1796, in dispatch_request\n",
      "    return self.ensure_sync(self.view_functions[rule.endpoint])(**view_args)\n",
      "  File \"C:\\Users\\USER\\AppData\\Local\\Temp\\ipykernel_20560\\488572212.py\", line 21, in upload\n",
      "    img_src = url_for('static', filename = 'uploads/' + filename)\n",
      "NameError: name 'url_for' is not defined\n",
      "127.0.0.1 - - [05/May/2023 23:44:47] \"POST /upload HTTP/1.1\" 500 -\n"
     ]
    }
   ],
   "source": [
    "from flask import Flask, render_template, request\n",
    "app = Flask(__name__)\n",
    "app.config['UPLOAD_FOLDER'] = 'static/uploads'\n",
    "\n",
    "from flask import Flask, render_template, request, session, escape, jsonify\n",
    "import requests\n",
    "import json, os\n",
    "from flask import * \n",
    "\n",
    "@app.route('/')\n",
    "@app.route('/index')\n",
    "def index():\n",
    "    return render_template('index.html')\n",
    "\n",
    "@app.route('/upload', methods=['POST'])\n",
    "def upload():\n",
    "    if request.method == 'POST':\n",
    "        file = request.files['file']\n",
    "       \n",
    "        filename = file.filename\n",
    "        file.save(os.path.join(app.config['UPLOAD_FOLDER'], filename))\n",
    "        img_src = url_for('static', filename = 'uploads/' + filename)\n",
    "        \n",
    "    return render_template('index.html', filename = img_src)\n",
    "\n",
    "if __name__=='__main__':\n",
    "    app.run('127.0.0.1', port=5000)    "
   ]
  },
  {
   "cell_type": "code",
   "execution_count": null,
   "id": "91a91fbe",
   "metadata": {},
   "outputs": [],
   "source": []
  }
 ],
 "metadata": {
  "kernelspec": {
   "display_name": "Python 3 (ipykernel)",
   "language": "python",
   "name": "python3"
  },
  "language_info": {
   "codemirror_mode": {
    "name": "ipython",
    "version": 3
   },
   "file_extension": ".py",
   "mimetype": "text/x-python",
   "name": "python",
   "nbconvert_exporter": "python",
   "pygments_lexer": "ipython3",
   "version": "3.10.9"
  }
 },
 "nbformat": 4,
 "nbformat_minor": 5
}
