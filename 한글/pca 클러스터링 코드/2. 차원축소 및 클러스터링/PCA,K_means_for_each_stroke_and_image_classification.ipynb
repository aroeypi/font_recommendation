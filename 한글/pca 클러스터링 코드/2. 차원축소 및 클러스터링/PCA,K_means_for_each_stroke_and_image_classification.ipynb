{
  "cells": [
    {
      "attachments": {},
      "cell_type": "markdown",
      "metadata": {
        "id": "_jq9RvmoPXzf"
      },
      "source": [
        "##### 1. 라이브러리 로드"
      ]
    },
    {
      "cell_type": "code",
      "execution_count": 6,
      "metadata": {
        "id": "ikamb3uxPXzv"
      },
      "outputs": [
        {
          "ename": "ModuleNotFoundError",
          "evalue": "No module named 'img_to_vec'",
          "output_type": "error",
          "traceback": [
            "\u001b[1;31m---------------------------------------------------------------------------\u001b[0m",
            "\u001b[1;31mModuleNotFoundError\u001b[0m                       Traceback (most recent call last)",
            "Cell \u001b[1;32mIn[6], line 4\u001b[0m\n\u001b[0;32m      2\u001b[0m \u001b[39mimport\u001b[39;00m \u001b[39mos\u001b[39;00m\n\u001b[0;32m      3\u001b[0m sys\u001b[39m.\u001b[39mpath\u001b[39m.\u001b[39mappend(\u001b[39m\"\u001b[39m\u001b[39mimg2vec_pytorch\u001b[39m\u001b[39m\"\u001b[39m)  \u001b[39m# Adds higher directory to python modules path.\u001b[39;00m\n\u001b[1;32m----> 4\u001b[0m \u001b[39mfrom\u001b[39;00m \u001b[39mimg_to_vec\u001b[39;00m \u001b[39mimport\u001b[39;00m Img2Vec\n\u001b[0;32m      5\u001b[0m \u001b[39mfrom\u001b[39;00m \u001b[39mPIL\u001b[39;00m \u001b[39mimport\u001b[39;00m Image\n\u001b[0;32m      6\u001b[0m \u001b[39mimport\u001b[39;00m \u001b[39mpandas\u001b[39;00m \u001b[39mas\u001b[39;00m \u001b[39mpd\u001b[39;00m\n",
            "\u001b[1;31mModuleNotFoundError\u001b[0m: No module named 'img_to_vec'"
          ]
        }
      ],
      "source": [
        "import sys\n",
        "import os\n",
        "sys.path.append(\"img2vec_pytorch\")  # Adds higher directory to python modules path.\n",
        "from img_to_vec import Img2Vec\n",
        "from PIL import Image\n",
        "import pandas as pd\n",
        "import numpy as np\n",
        "from sklearn.preprocessing import MinMaxScaler"
      ]
    },
    {
      "attachments": {},
      "cell_type": "markdown",
      "metadata": {
        "id": "haDw3WiePXz2"
      },
      "source": [
        "##### 2. 획요소 특징 벡터 파일 로드"
      ]
    },
    {
      "cell_type": "code",
      "execution_count": 8,
      "metadata": {
        "id": "QSuIEnfPPXz5"
      },
      "outputs": [],
      "source": [
        "D_df = pd.read_csv('형태소별 특징벡터(클러스터 컬럼x)/D_feature_vector.csv').drop(['fontname'], axis=1)\n",
        "HS_df = pd.read_csv('형태소별 특징벡터(클러스터 컬럼x)/HS_feature_vector.csv').drop(['fontname'], axis=1)\n",
        "HSZ_df = pd.read_csv('형태소별 특징벡터(클러스터 컬럼x)/HSZ_feature_vector.csv').drop(['fontname'], axis=1)\n",
        "Ne_df = pd.read_csv('형태소별 특징벡터(클러스터 컬럼x)/Ne_feature_vector.csv').drop(['fontname'], axis=1)\n",
        "PNc_df = pd.read_csv('형태소별 특징벡터(클러스터 컬럼x)/PNc_feature_vector.csv').drop(['fontname'], axis=1)\n",
        "Ps_df = pd.read_csv('형태소별 특징벡터(클러스터 컬럼x)/Ps_feature_vector.csv').drop(['fontname'], axis=1)\n",
        "PZe_df = pd.read_csv('형태소별 특징벡터(클러스터 컬럼x)/PZe_feature_vector.csv').drop(['fontname'], axis=1)\n",
        "SG_df = pd.read_csv('형태소별 특징벡터(클러스터 컬럼x)/SG_feature_vector.csv').drop(['fontname'], axis=1)\n",
        "Sm_df = pd.read_csv('형태소별 특징벡터(클러스터 컬럼x)/Sm_feature_vector.csv').drop(['fontname'], axis=1)\n",
        "TPZ_df = pd.read_csv('형태소별 특징벡터(클러스터 컬럼x)/TPZ_feature_vector.csv').drop(['fontname'], axis=1)\n",
        "Ts_df = pd.read_csv('형태소별 특징벡터(클러스터 컬럼x)/Ts_feature_vector.csv').drop(['fontname'], axis=1)"
      ]
    },
    {
      "attachments": {},
      "cell_type": "markdown",
      "metadata": {},
      "source": [
        "### 3. PCA"
      ]
    },
    {
      "cell_type": "code",
      "execution_count": 9,
      "metadata": {},
      "outputs": [],
      "source": [
        "from sklearn.preprocessing import StandardScaler\n",
        "from sklearn.decomposition import PCA\n",
        "\n",
        "scaler = StandardScaler()\n",
        "\n",
        "def data_pca(stroke_df, n):\n",
        "  X_scaled=scaler.fit_transform(stroke_df)\n",
        "  #n차원으로 축소\n",
        "  pca=PCA(n_components=n)\n",
        "  pca.fit(X_scaled)\n",
        "  X_pca=pca.transform(X_scaled)\n",
        "  df_pca =pd.DataFrame(X_pca)\n",
        "  return df_pca"
      ]
    },
    {
      "attachments": {},
      "cell_type": "markdown",
      "metadata": {},
      "source": [
        "#### 4. 클러스터링"
      ]
    },
    {
      "cell_type": "code",
      "execution_count": 10,
      "metadata": {
        "id": "_-o2yv77PX0F"
      },
      "outputs": [],
      "source": [
        "from sklearn.cluster import KMeans\n",
        "import numpy as np\n",
        "\n",
        "def data_scaling(df_pca):\n",
        "  X = np.array(df_pca)\n",
        "  scaler = MinMaxScaler()\n",
        "  data_scaled = scaler.fit_transform(X)\n",
        "  return data_scaled"
      ]
    },
    {
      "cell_type": "code",
      "execution_count": 11,
      "metadata": {
        "id": "4HSYKXzzPX0J"
      },
      "outputs": [],
      "source": [
        "def KMeans_clustering(df_pca, k, data_scaled):\n",
        "  model = KMeans(n_clusters=k, random_state=0)\n",
        "  model.fit(data_scaled)\n",
        "  df_pca['cluster'] = model.fit_predict(data_scaled)\n",
        "  return df_pca"
      ]
    },
    {
      "cell_type": "code",
      "execution_count": 12,
      "metadata": {},
      "outputs": [],
      "source": [
        "def add_fontname(df_pca):\n",
        "  fontname = [\"10X10\", \"10X10Bold\", \"116angmuburi\", \"116watermelon\", \"12롯데마트드림Bold\", \"12롯데마트드림Light\", \"12롯데마트드림Medium\", \"12롯데마트행복Bold\", \"12롯데마트행복Light\", \"12롯데마트행복Medium\", \"20835804_도서관체_ttf\", \"20835814_SungDongGothicEB_ttf\", \"20835815_SungDongGothicB_ttf\", \"20950864_경기천년제목TTF_Bold\", \"20950866_경기천년제목TTF_Medium\", \"20950867_경기천년제목TTFV_Bold\", \"20950870_경기천년바탕TTF_Bold\", \"20950871_경기천년바탕TTF_Regular\", \"20950914_빛고을광주_Light_TTF\", \"20950916_빛고을광주_Medium_TTF\", \"20950918_빛고을광주_Bold_TTF\", \"20950938_Batang_TTF\", \"20956072_SuncheonR_TTF\", \"20956073_SuncheonB_TTF\", \"20957733_전주완판본 순B_TTF\", \"20957736_전주완판본 순L_TTF\", \"20957738_전주완판본 순R_TTF\", \"20957740_전주완판본 각B_TTF\", \"20957742_전주완판본 각L_TTF\", \"20957744_전주완판본 각R_TTF\", \"20958935_UTOIMAGE_유토이미지고딕_R_TTF\", \"20958949_UTOIMAGE_유토이미지별나라달님_TTF\", \"20958955_UTOIMAGE_유토이미지빨간우체통_TTF\", \"20958971_UTOIMAGE_플라워_TTF\", \"20958979_UTOIMAGE_유토이미지_TTF\", \"20958981_UTOIMAGE_유토이미지고딕_B_TTF\", \"20958983_UTOIMAGE_유토이미지고딕_L_TTF\", \"Arita-buriB\", \"Arita-buriL\", \"Arita-buriM\", \"Arita-buriSB\", \"Atomy-Bold\", \"Atomy-Light\", \"Atomy-Medium\", \"a타이틀고딕2\", \"a타이틀고딕3\", \"a타이틀고딕4\", \"BareunBatangB\", \"BareunBatangL\", \"BareunBatangM\", \"BatangChe\", \"Bazzi\", \"BinggraeChe\", \"BinggraeMelona-Bold\", \"BinggraeMelona\", \"BinggraeSamanco-Bold\", \"BinggraeSamanco\", \"BinggraeⅡ\", \"BMDOHYEON_ttf\", \"BMEuljiro10yearslater\", \"BMEULJIROTTF\", \"BMHANNAAir_ttf\", \"BMHANNAPro\", \"BMHANNA_11yrs_ttf\", \"BMJUA_ttf\", \"BMKIRANGHAERANG-TTF\", \"BMYEONSUNG_ttf\", \"BusanFont_Provisional\", \"Cafe24Dangdanghae\", \"Cafe24Danjunghae\", \"Cafe24Dongdong\", \"Cafe24Ohsquareair\", \"Cafe24Shiningstar\", \"Cafe24Ssukssuk\", \"Cafe24Syongsyong\", \"ChangwonDangamAsac-Bold_0712\", \"CookieRun Black\", \"CookieRun Bold\", \"designhouseBold\", \"designhouseLight\", \"dimibang\", \"Dongle-Bold\", \"Dongle-Light\", \"Dongle-Regular\", \"DOSGothic\", \"DOSIyagiBoldface\", \"DOSMyungjo\", \"DOSPilgi\", \"DOSSaemmul\", \"DotumChe\", \"DungGeunMo\", \"DXAriB-KSCpc-EUC-H\", \"DXAura-KSCpc-EUC-H\", \"DXAWM-KSCpc-EUC-H\", \"DXBangtango-KSCpc-EUC-H\", \"DXBomgExtraBold-KSCpc-EUC-H\", \"DXBrmRExtraBold-KSCpc-EUC-H\", \"DXChildsdrawing-KSCpc-EUC-H\", \"DXDnaraB-KSCpc-EUC-H\", \"DXFrtyB-KSCpc-EUC-H\", \"DXHead02B-KSCpc-EUC-H\", \"DXHfl2M-KSCpc-EUC-H\", \"DXHflM-KSCpc-EUC-H\", \"DXHSB-KSCpc-EUC-H\", \"DXHWrB-KSCpc-EUC-H\", \"DXKPMB-KSCpc-EUC-H\", \"DXMgoB-KSCpc-EUC-H\", \"DXMgoRB-KSCpc-EUC-H\", \"DXNPeriod-KSCpc-EUC-H\", \"DXNShnmB-KSCpc-EUC-H\", \"DXPRVB-KSCpc-EUC-H\", \"DXRESB-KSCpc-EUC-H\", \"DXSglinegoTh-KSCpc-EUC-H\", \"DXShnm-KSCpc-EUC-H\", \"DXSpdM-KSCpc-EUC-H\", \"DXWGSB-KSCpc-EUC-H\", \"EBS주시경B\", \"EBS주시경L\", \"EBS주시경M\", \"EF_MACHO(윈도우용_TTF)\", \"EliceDigitalBaeum_Regular\", \"establish Retrosans\", \"GabiaCheongyeon\", \"GabiaMaeumgyeol\", \"gabia_bombaram\", \"gabia_napjakBlock\", \"gabia_solmee\", \"Ghanachocolate\", \"GodoB\", \"GodoM\", \"GOYANGDEOGYANG B\", \"GOYANGDEOGYANG EB\", \"GulimChe\", \"H2GPRM\", \"H2GTRE\", \"H2GTRM\", \"H2HDRM\", \"H2MJRE\", \"H2MJSM\", \"H2SA1M\", \"Hahmlet-Black\", \"Hahmlet-Bold\", \"Hahmlet-Light\", \"Hahmlet-Regular\", \"HANBaekB\", \"HANBatang\", \"HANBatangB\", \"HangeulNuriB\", \"HangeulNuriR\", \"Hangyeoregyeolche\", \"HANSaleB\", \"HANSaleM\", \"HANSolB\", \"HANSolM\", \"HANSomaB\", \"HANSomaM\", \"HanS_BoomBoom\", \"HANYGO230\", \"HANYGO240\", \"headline\", \"HeirofLightBold\", \"HeirofLightRegular\", \"HMKBP\", \"HMKBS\", \"HMKLP\", \"HMKLS\", \"HMKMAMI\", \"HMKMG\", \"HMKMM\", \"HMKMMAG\", \"HMKMOLD\", \"HMKMRHD\", \"HMKMS\", \"HSSaemaul-Regular\", \"HS겨울눈꽃체\", \"HS두꺼비체\", \"HS봄바람체2.0\", \"HS새마을체\", \"HYBDAL\", \"HYBDAM\", \"HYGPRM\", \"HYKANB\", \"HYKANM\", \"IropkeBatangM\", \"Jaemin\", \"JejuGothic\", \"JejuHallasan\", \"JejuMyeongjo\", \"JSArirang\", \"JSArirangHON\", \"JSArirangPPURI\", \"KBIZ한마음고딕 B\", \"KBIZ한마음고딕 H\", \"KBIZ한마음고딕 L\", \"KBIZ한마음고딕 M\", \"KBIZ한마음고딕 R\", \"KBIZ한마음명조 B\", \"KBIZ한마음명조 L\", \"KBIZ한마음명조 M\", \"KBIZ한마음명조 R\", \"KCCAhnjunggeun(Windows용)\", \"KCCImkwontaek\", \"KCC김훈체(Windows용)\", \"KCC은영체(Windows용)\", \"KoPubWorld Batang Bold\", \"KoPubWorld Batang Light\", \"KoPubWorld Batang Medium\", \"KoPubWorld Dotum Bold\", \"KoPubWorld Dotum Light\", \"KoPubWorld Dotum Medium\", \"KOTRA HOPE_TTF\", \"KOTRA LEAP_TTF\", \"KOTRA_BOLD\", \"locus_sangsang\", \"MalgunGothic\", \"Maplestory Bold\", \"Maplestory Light\", \"MapoAgape\", \"MapoBackpacking\", \"MapoDacapo\", \"MapoHongdaeFreedom\", \"MapoMaponaru\", \"MiraeroNormal\", \"NanumBrush\", \"NanumGothicEco\", \"NanumGothicEcoBold\", \"NanumGothicEcoExtraBold\", \"NanumMyeongJo\", \"NanumMyeongjoEco\", \"NanumMyeongjoEcoBold\", \"NanumMyeongjoEcoExtraBold\", \"NanumPen\", \"NanumSquare\", \"netmarbleB\", \"netmarbleL\", \"netmarbleM\", \"NEXEN TIRE_Bold\", \"NEXEN TIRE_Regular\", \"NIXGONFONTS B 2.0\", \"NIXGONFONTS M 2.0\", \"ON I고딕\", \"ONE Mobile POP\", \"OSeongandHanEum-Bold\", \"OSeongandHanEum-Regular\", \"PureunJeonnam-Bold\", \"PureunJeonnam-Medium\", \"PureunJeonnam\", \"PyeongChangPeace-Bold\", \"PyeongChangPeace-Light\", \"ROEHOE-CHAN\", \"Sam3KRFont\", \"SANGJU Dajungdagam\", \"SANGJU Gotgam\", \"SANGJU Gyeongcheon Island\", \"SDDogSuRiBold\", \"SDLeeYaGi\", \"SEBANG Gothic Bold\", \"SEBANG Gothic\", \"SeoulNamsanvert\", \"SF망고빙수 TTF\", \"Spoqa Han Sans Bold\", \"Spoqa Han Sans Light\", \"Spoqa Han Sans Regular\", \"Spoqa Han Sans Thin\", \"SSRockRegular\", \"SunBatang-Bold\", \"SunBatang-Light\", \"SunBatang-Medium\", \"TaeFont TSTJktB\", \"TaeFont TSTOtmB\", \"THE_Nyuseusokbo\", \"THE명품굴림B\", \"THE선인장\", \"THE정직\", \"TmonMonsori\", \"tvN 즐거운이야기 Bold\", \"tvN 즐거운이야기 Light\", \"tvN 즐거운이야기 Medium\", \"tway_air\", \"tway_fly\", \"tway_sky\", \"Typo_BallerinaB\", \"Typo_BallerinaM\", \"Typo_Dodam\", \"Typo_DonkiPrinceM\", \"Typo_EoulrimB\", \"Typo_EoulrimL\", \"Typo_EoulrimM\", \"Typo_HongikinganM\", \"Typo_JeongJoM\", \"Typo_KingSejong_Hunmin\", \"Typo_MoonFlowerM\", \"Typo_SherlockM\", \"Typo_SSiGothic180\", \"Typo_SSiMyungJo180\", \"Typo_StormB\", \"UhBee GGoongD\", \"Uhbee NaHyun Bold\", \"Uhbee NaHyun\", \"UhBee Namjieun Bold\", \"UhBee Namjieun\", \"UhBee Soyun\", \"UhBee Sunhong BOLD\", \"UhBee Sunhong\", \"UhBee swit\", \"UhBee U JEONG Bold\", \"UhBee U JEONG\", \"yangfont02\", \"yangpyeong_B\", \"yangpyeong_L\", \"yangpyeong_M\", \"YdestreetB\", \"YdestreetL\", \"Yeongdo\", \"YGBI08\", \"Youth\", \"강한육군 Bold Vert\", \"강한육군 Bold\", \"강한육군 Medium Vert\", \"강한육군 Medium\", \"경기천년제목_Light\", \"고양일산 R\", \"국립박물관문화재단클래식B\", \"국립박물관문화재단클래식L\", \"국립박물관문화재단클래식M\", \"국립중앙도서관글자체\", \"나눔손글씨 가람연꽃\", \"나눔손글씨 갈맷글\", \"나눔손글씨 강부장님체\", \"나눔손글씨 고딕 아니고 고딩\", \"나눔손글씨 고려글꼴\", \"나눔손글씨 곰신체\", \"나눔손글씨 규리의 일기\", \"나눔손글씨 김유이체\", \"나눔손글씨 꽃내음\", \"나눔손글씨 끄트머리체\", \"나눔손글씨 다행체\", \"나눔손글씨 대광유리\", \"나눔손글씨 딸에게 엄마가\", \"나눔손글씨 반짝반짝 별\", \"나눔손글씨 세계적인 한글\", \"나눔손글씨 세아체\", \"나눔손글씨 세화체\", \"나눔손글씨 소방관의 기도\", \"나눔손글씨 시우 귀여워\", \"나눔손글씨 신혼부부\", \"나눔손글씨 아빠의 연애편지\", \"나눔손글씨 아줌마 자유\", \"나눔손글씨 엄마사랑\", \"나눔손글씨 와일드\", \"나눔손글씨 외할머니글씨\", \"나눔손글씨 유니 띵땅띵땅\", \"나눔손글씨 자부심지우\", \"나눔손글씨 잘하고 있어\", \"나눔손글씨 장미체\", \"나눔손글씨 점꼴체\", \"나눔손글씨 정은체\", \"나눔손글씨 중학생\", \"나눔손글씨 진주 박경아체\", \"나눔손글씨 철필글씨\", \"나눔손글씨 칼국수\", \"나눔손글씨 코코체\", \"나눔손글씨 한윤체\", \"나눔손글씨 행복한 도비\", \"나눔손글씨 혜준체\", \"나눔손글씨 희망누리\", \"나눔손글씨 흰꼬리수리\", \"동그라미재단B\", \"동그라미재단L\", \"동그라미재단M\", \"문화재돌봄체 Bold\", \"문화재돌봄체 Regular\", \"배스킨라빈스 B\", \"비트로 코어 TTF\", \"비트로 프라이드 TTF\", \"서울남산 장체B\", \"서울남산 장체BL\", \"서울남산 장체EB\", \"서울남산 장체L\", \"서울남산 장체M\", \"서울한강 장체B\", \"서울한강 장체BL\", \"서울한강 장체EB\", \"서울한강 장체L\", \"서울한강 장체M\", \"솔뫼 김대건 Light\", \"솔뫼 김대건 Medium\", \"솔인써니체\", \"양진체v0.9_ttf\", \"온글잎 경영체\", \"온글잎 만두몽키체\", \"온글잎 무궁체\", \"온글잎 민혜체\", \"온글잎 보현체\", \"온글잎 석영체\", \"온글잎 안될과학궤도체\", \"온글잎 안될과학약체\", \"온글잎 안될과학유니랩장체\", \"온글잎 윤우체\", \"온글잎 의연체\", \"온글잎 해솜체\", \"이순신돋움체B\", \"이순신돋움체L\", \"이순신돋움체M\", \"조선일보명조\", \"중나좋체 Light\", \"중나좋체 Medium\", \"한글틀고딕\", \"한수원_한돋음_B\", \"한수원_한돋음_R\", \"한수원_한울림_R\", \"해수체B\", \"해수체L\", \"해수체M\", \"행복고흥B\", \"행복고흥L\", \"행복고흥M\", \"헬스셋고딕Bold\", \"헬스셋고딕Light\", \"헬스셋조릿대Std\"]\n",
        "  df_pca.insert(0, 'fontname', fontname)\n",
        "  return df_pca"
      ]
    },
    {
      "cell_type": "code",
      "execution_count": 13,
      "metadata": {},
      "outputs": [],
      "source": [
        "def show_clustering_result(df_pca, k):\n",
        "  clustering_result = []\n",
        "  for cluster_group in range(k):\n",
        "    fontlist_of_each_cluster = df_pca[df_pca['cluster'] == cluster_group]['fontname'].values.tolist()\n",
        "    clustering_result.append(fontlist_of_each_cluster)\n",
        "\n",
        "  for cluster_group in range(k):\n",
        "    print(\"group \" + str(cluster_group), clustering_result[cluster_group])\n",
        "\n",
        "  return clustering_result"
      ]
    },
    {
      "attachments": {},
      "cell_type": "markdown",
      "metadata": {},
      "source": [
        "### 5. 형태소 차원축소 및 클러스터링 "
      ]
    },
    {
      "cell_type": "code",
      "execution_count": 14,
      "metadata": {},
      "outputs": [
        {
          "name": "stdout",
          "output_type": "stream",
          "text": [
            "group 0 ['116watermelon', '12롯데마트드림Bold', '12롯데마트드림Light', '12롯데마트드림Medium', '12롯데마트행복Bold', '12롯데마트행복Light', '12롯데마트행복Medium', '20835804_도서관체_ttf', '20835814_SungDongGothicEB_ttf', '20835815_SungDongGothicB_ttf', '20950914_빛고을광주_Light_TTF', '20950916_빛고을광주_Medium_TTF', '20950918_빛고을광주_Bold_TTF', '20956072_SuncheonR_TTF', '20958979_UTOIMAGE_유토이미지_TTF', 'Atomy-Bold', 'Atomy-Medium', 'a타이틀고딕3', 'BinggraeMelona-Bold', 'BinggraeMelona', 'BMDOHYEON_ttf', 'BMHANNAAir_ttf', 'BMHANNAPro', 'BMHANNA_11yrs_ttf', 'BusanFont_Provisional', 'Cafe24Dangdanghae', 'ChangwonDangamAsac-Bold_0712', 'DOSGothic', 'DOSIyagiBoldface', 'DOSSaemmul', 'DotumChe', 'DungGeunMo', 'DXAriB-KSCpc-EUC-H', 'DXBangtango-KSCpc-EUC-H', 'DXBomgExtraBold-KSCpc-EUC-H', 'DXFrtyB-KSCpc-EUC-H', 'DXHead02B-KSCpc-EUC-H', 'DXMgoB-KSCpc-EUC-H', 'DXNPeriod-KSCpc-EUC-H', 'DXPRVB-KSCpc-EUC-H', 'DXRESB-KSCpc-EUC-H', 'DXSglinegoTh-KSCpc-EUC-H', 'DXWGSB-KSCpc-EUC-H', 'EF_MACHO(윈도우용_TTF)', 'establish Retrosans', 'GodoB', 'GodoM', 'GOYANGDEOGYANG B', 'GOYANGDEOGYANG EB', 'H2GPRM', 'H2GTRE', 'H2GTRM', 'H2HDRM', 'HangeulNuriB', 'HangeulNuriR', 'HANSomaM', 'HANYGO230', 'HANYGO240', 'headline', 'HMKBP', 'HMKBS', 'HMKMG', 'HMKMRHD', 'HYGPRM', 'HYKANB', 'HYKANM', 'JejuGothic', 'KBIZ한마음고딕 B', 'KBIZ한마음고딕 H', 'KBIZ한마음고딕 L', 'KBIZ한마음고딕 M', 'KBIZ한마음고딕 R', 'KoPubWorld Dotum Bold', 'KoPubWorld Dotum Light', 'KoPubWorld Dotum Medium', 'KOTRA_BOLD', 'locus_sangsang', 'MalgunGothic', 'MiraeroNormal', 'NanumSquare', 'NEXEN TIRE_Bold', 'NEXEN TIRE_Regular', 'NIXGONFONTS B 2.0', 'ON I고딕', 'PureunJeonnam-Bold', 'PureunJeonnam-Medium', 'PureunJeonnam', 'PyeongChangPeace-Bold', 'PyeongChangPeace-Light', 'Sam3KRFont', 'SEBANG Gothic Bold', 'SEBANG Gothic', 'Spoqa Han Sans Bold', 'Spoqa Han Sans Regular', 'TaeFont TSTJktB', 'THE_Nyuseusokbo', 'THE정직', 'TmonMonsori', 'tway_fly', 'Typo_EoulrimB', 'Typo_HongikinganM', 'Typo_KingSejong_Hunmin', 'Typo_SSiGothic180', 'Typo_StormB', 'yangfont02', 'yangpyeong_B', 'yangpyeong_L', 'yangpyeong_M', 'YdestreetB', 'Yeongdo', 'Youth', '국립중앙도서관글자체', '문화재돌봄체 Bold', '문화재돌봄체 Regular', '배스킨라빈스 B', '비트로 프라이드 TTF', '중나좋체 Medium', '한글틀고딕', '해수체B', '해수체M']\n",
            "group 1 ['10X10', '10X10Bold', 'Arita-buriB', 'Arita-buriL', 'Arita-buriM', 'Arita-buriSB', 'BareunBatangL', 'DXAura-KSCpc-EUC-H', 'GabiaCheongyeon', 'H2MJRE', 'H2MJSM', 'HANSaleB', 'HANSaleM', 'HanS_BoomBoom', 'JejuMyeongjo', 'MapoBackpacking', 'NanumMyeongJo', 'NanumMyeongjoEco', 'SeoulNamsanvert', 'SunBatang-Medium', 'Typo_JeongJoM', 'YGBI08', '국립박물관문화재단클래식B', '국립박물관문화재단클래식L', '국립박물관문화재단클래식M', '나눔손글씨 세화체', '나눔손글씨 잘하고 있어', '나눔손글씨 점꼴체', '동그라미재단B', '동그라미재단L', '동그라미재단M', '서울남산 장체B', '서울남산 장체BL', '서울남산 장체EB', '서울남산 장체L', '서울남산 장체M', '솔뫼 김대건 Light', '솔뫼 김대건 Medium', '이순신돋움체B', '이순신돋움체M', '조선일보명조', '한수원_한돋음_B', '한수원_한돋음_R', '한수원_한울림_R']\n",
            "group 2 ['116angmuburi', '20956073_SuncheonB_TTF', '20958935_UTOIMAGE_유토이미지고딕_R_TTF', '20958949_UTOIMAGE_유토이미지별나라달님_TTF', '20958981_UTOIMAGE_유토이미지고딕_B_TTF', '20958983_UTOIMAGE_유토이미지고딕_L_TTF', 'BinggraeChe', 'Cafe24Dongdong', 'Cafe24Shiningstar', 'Cafe24Ssukssuk', 'CookieRun Black', 'CookieRun Bold', 'Dongle-Bold', 'Dongle-Light', 'Dongle-Regular', 'DXMgoRB-KSCpc-EUC-H', 'GulimChe', 'HANBatang', 'HANBatangB', 'HSSaemaul-Regular', 'HS두꺼비체', 'HS새마을체', 'KOTRA HOPE_TTF', 'Maplestory Bold', 'Maplestory Light', 'netmarbleB', 'netmarbleL', 'netmarbleM', 'OSeongandHanEum-Regular', 'SANGJU Dajungdagam', 'SANGJU Gotgam', 'SDLeeYaGi', 'THE명품굴림B', 'THE선인장', 'Uhbee NaHyun', 'UhBee swit', 'UhBee U JEONG Bold', '나눔손글씨 규리의 일기', '나눔손글씨 다행체', '나눔손글씨 아줌마 자유', '나눔손글씨 유니 띵땅띵땅', '나눔손글씨 자부심지우', '나눔손글씨 장미체', '나눔손글씨 정은체', '나눔손글씨 중학생', '나눔손글씨 흰꼬리수리', '온글잎 무궁체', '온글잎 민혜체', '온글잎 석영체', '온글잎 안될과학유니랩장체', '온글잎 윤우체', '온글잎 해솜체']\n",
            "group 3 ['20950938_Batang_TTF', 'BareunBatangB', 'BareunBatangM', 'BatangChe', 'Cafe24Syongsyong', 'DXHWrB-KSCpc-EUC-H', 'DXKPMB-KSCpc-EUC-H', 'DXNShnmB-KSCpc-EUC-H', 'DXShnm-KSCpc-EUC-H', 'EBS주시경L', 'gabia_napjakBlock', 'HMKMAMI', 'HMKMM', 'IropkeBatangM', 'KBIZ한마음명조 B', 'KBIZ한마음명조 L', 'KBIZ한마음명조 M', 'KBIZ한마음명조 R', 'KoPubWorld Batang Bold', 'KoPubWorld Batang Light', 'KoPubWorld Batang Medium', 'MapoAgape', 'SANGJU Gyeongcheon Island', 'SunBatang-Bold', 'SunBatang-Light', 'Typo_SSiMyungJo180', '나눔손글씨 반짝반짝 별', '서울한강 장체B', '서울한강 장체BL', '서울한강 장체EB', '서울한강 장체L', '서울한강 장체M', '온글잎 만두몽키체', '온글잎 보현체']\n",
            "group 4 ['HYBDAL', 'HYBDAM', 'JSArirang', 'JSArirangPPURI', 'KCC김훈체(Windows용)', 'KCC은영체(Windows용)', 'MapoDacapo', 'NanumBrush', 'NanumPen', 'UhBee GGoongD', 'Uhbee NaHyun Bold', 'UhBee Soyun', 'UhBee Sunhong BOLD', 'UhBee Sunhong', '나눔손글씨 가람연꽃', '나눔손글씨 고딕 아니고 고딩', '나눔손글씨 김유이체', '나눔손글씨 대광유리', '나눔손글씨 딸에게 엄마가', '나눔손글씨 세계적인 한글', '나눔손글씨 세아체', '나눔손글씨 소방관의 기도', '나눔손글씨 시우 귀여워', '나눔손글씨 아빠의 연애편지', '나눔손글씨 엄마사랑', '나눔손글씨 외할머니글씨', '나눔손글씨 진주 박경아체', '나눔손글씨 철필글씨', '나눔손글씨 칼국수', '나눔손글씨 코코체', '나눔손글씨 행복한 도비', '나눔손글씨 혜준체', '나눔손글씨 희망누리', '온글잎 경영체', '온글잎 안될과학궤도체']\n",
            "group 5 ['20958955_UTOIMAGE_유토이미지빨간우체통_TTF', 'Atomy-Light', 'BMKIRANGHAERANG-TTF', 'Cafe24Ohsquareair', 'designhouseBold', 'designhouseLight', 'DOSMyungjo', 'DOSPilgi', 'DXAWM-KSCpc-EUC-H', 'DXBrmRExtraBold-KSCpc-EUC-H', 'DXChildsdrawing-KSCpc-EUC-H', 'DXDnaraB-KSCpc-EUC-H', 'DXHfl2M-KSCpc-EUC-H', 'DXHflM-KSCpc-EUC-H', 'DXHSB-KSCpc-EUC-H', 'DXSpdM-KSCpc-EUC-H', 'EliceDigitalBaeum_Regular', 'H2SA1M', 'Hahmlet-Black', 'Hahmlet-Bold', 'Hahmlet-Light', 'Hahmlet-Regular', 'HMKLP', 'HMKLS', 'HMKMMAG', 'HMKMS', 'JejuHallasan', 'MapoHongdaeFreedom', 'MapoMaponaru', 'NIXGONFONTS M 2.0', 'ONE Mobile POP', 'OSeongandHanEum-Bold', 'SF망고빙수 TTF', 'Spoqa Han Sans Light', 'Spoqa Han Sans Thin', 'TaeFont TSTOtmB', 'tway_air', 'Typo_DonkiPrinceM', 'Typo_EoulrimL', 'Typo_EoulrimM', 'Typo_SherlockM', 'YdestreetL', '강한육군 Bold Vert', '강한육군 Bold', '강한육군 Medium Vert', '강한육군 Medium', '고양일산 R', '비트로 코어 TTF', '양진체v0.9_ttf', '이순신돋움체L', '중나좋체 Light', '해수체L']\n",
            "group 6 ['20950864_경기천년제목TTF_Bold', '20950866_경기천년제목TTF_Medium', '20950867_경기천년제목TTFV_Bold', '20950870_경기천년바탕TTF_Bold', '20950871_경기천년바탕TTF_Regular', '20957733_전주완판본 순B_TTF', '20957736_전주완판본 순L_TTF', '20957738_전주완판본 순R_TTF', '20957740_전주완판본 각B_TTF', '20957742_전주완판본 각L_TTF', '20957744_전주완판본 각R_TTF', '20958971_UTOIMAGE_플라워_TTF', 'a타이틀고딕2', 'a타이틀고딕4', 'Bazzi', 'BinggraeSamanco-Bold', 'BinggraeSamanco', 'BinggraeⅡ', 'BMEuljiro10yearslater', 'BMEULJIROTTF', 'BMJUA_ttf', 'BMYEONSUNG_ttf', 'Cafe24Danjunghae', 'dimibang', 'EBS주시경B', 'EBS주시경M', 'GabiaMaeumgyeol', 'gabia_bombaram', 'gabia_solmee', 'Ghanachocolate', 'HANBaekB', 'Hangyeoregyeolche', 'HANSolB', 'HANSolM', 'HANSomaB', 'HeirofLightBold', 'HeirofLightRegular', 'HMKMOLD', 'HS겨울눈꽃체', 'HS봄바람체2.0', 'Jaemin', 'JSArirangHON', 'KCCAhnjunggeun(Windows용)', 'KCCImkwontaek', 'KOTRA LEAP_TTF', 'NanumGothicEco', 'NanumGothicEcoBold', 'NanumGothicEcoExtraBold', 'NanumMyeongjoEcoBold', 'NanumMyeongjoEcoExtraBold', 'ROEHOE-CHAN', 'SDDogSuRiBold', 'SSRockRegular', 'tvN 즐거운이야기 Bold', 'tvN 즐거운이야기 Light', 'tvN 즐거운이야기 Medium', 'tway_sky', 'Typo_BallerinaB', 'Typo_BallerinaM', 'Typo_Dodam', 'Typo_MoonFlowerM', 'UhBee Namjieun Bold', 'UhBee Namjieun', 'UhBee U JEONG', '경기천년제목_Light', '나눔손글씨 갈맷글', '나눔손글씨 강부장님체', '나눔손글씨 고려글꼴', '나눔손글씨 곰신체', '나눔손글씨 꽃내음', '나눔손글씨 끄트머리체', '나눔손글씨 신혼부부', '나눔손글씨 와일드', '나눔손글씨 한윤체', '솔인써니체', '온글잎 안될과학약체', '온글잎 의연체', '행복고흥B', '행복고흥L', '행복고흥M', '헬스셋고딕Bold', '헬스셋고딕Light', '헬스셋조릿대Std']\n"
          ]
        }
      ],
      "source": [
        "stroke = 'bbichim'  # 클러스터링할 형태소 이름만 바꿔주면 된다\n",
        "\n",
        "pca_dim = [5, 10, 5, 15, 10]\n",
        "kmeans_k = [7, 9, 10, 10, 7]\n",
        "strokes = ['bbichim', 'buri', 'kkeokim', 'kkokjijum', 'sangtu']\n",
        "\n",
        "dim = pca_dim[strokes.index(stroke)]\n",
        "k = kmeans_k[strokes.index(stroke)]\n",
        "\n",
        "df_pca = data_pca(kkokjijum_df, dim)  # 차원축소\n",
        "data_scaled = data_scaling(df_pca)  # 데이터 스케일링\n",
        "df_pca = KMeans_clustering(df_pca, k, data_scaled)  # 클러스터링\n",
        "\n",
        "df_pca = add_fontname(df_pca)\n",
        "clustering_result = show_clustering_result(df_pca, k) # 클러스터링 결과"
      ]
    },
    {
      "attachments": {},
      "cell_type": "markdown",
      "metadata": {},
      "source": [
        "### 6. 클러스터링 결과 확인\n",
        "(클러스터링 결과에 따라 이미지 파일 분류)"
      ]
    },
    {
      "cell_type": "code",
      "execution_count": 15,
      "metadata": {
        "id": "QjQdJIUKPX0j",
        "outputId": "3ef16e44-45d1-40a3-cc14-623934f0a8a3"
      },
      "outputs": [
        {
          "name": "stdout",
          "output_type": "stream",
          "text": [
            "420\n"
          ]
        }
      ],
      "source": [
        "# from fileinput import filename\n",
        "import os\n",
        "import shutil\n",
        "\n",
        "file_path = '../특징벡터 추출/'+ stroke + '/'\n",
        "file_names = os.listdir(file_path)\n",
        "clust_file_path = file_path + '클러스터링 결과(' + str(dim) + ', ' + str(k) + ')/'\n",
        "os.mkdir(clust_file_path)\n",
        "\n",
        "for cluster_idx in range(k):\n",
        "  cluster_result_file = clust_file_path + 'group' + str(cluster_idx)\n",
        "  os.mkdir(cluster_result_file)\n",
        "\n",
        "copy_complete_font=0\n",
        "\n",
        "for file_name in file_names:\n",
        "  file_name = file_name.replace(\".png\", \"\")\n",
        "  for cluster_idx in range(k):\n",
        "    if file_name in clustering_result[cluster_idx]:\n",
        "      new_path = clust_file_path + 'group' + str(cluster_idx)\n",
        "      shutil.copy(file_path + file_name+\".png\", new_path)\n",
        "      \n",
        "      copy_complete_font+=1\n",
        "\n",
        "print(copy_complete_font)"
      ]
    },
    {
      "attachments": {},
      "cell_type": "markdown",
      "metadata": {
        "id": "GvH5kmixPX0l"
      },
      "source": [
        "### + k 결정(Elbow Method)\n"
      ]
    },
    {
      "cell_type": "code",
      "execution_count": 16,
      "metadata": {
        "id": "P8qpu2jQPX0m"
      },
      "outputs": [],
      "source": [
        "# from yellowbrick.cluster import KElbowVisualizer\n",
        "\n",
        "# model = KMeans()\n",
        "# visualizer = KElbowVisualizer(model, k=(1, 20))\n",
        "# visualizer.fit(data_scaled)"
      ]
    }
  ],
  "metadata": {
    "colab": {
      "provenance": []
    },
    "kernelspec": {
      "display_name": "tf2_book",
      "language": "python",
      "name": "python3"
    },
    "language_info": {
      "codemirror_mode": {
        "name": "ipython",
        "version": 3
      },
      "file_extension": ".py",
      "mimetype": "text/x-python",
      "name": "python",
      "nbconvert_exporter": "python",
      "pygments_lexer": "ipython3",
      "version": "3.8.5"
    },
    "vscode": {
      "interpreter": {
        "hash": "d2b55dfa29c968a1098ab4cb1e3c7a2f5b1d0556bed92199c78f3e1a588022a1"
      }
    }
  },
  "nbformat": 4,
  "nbformat_minor": 0
}
