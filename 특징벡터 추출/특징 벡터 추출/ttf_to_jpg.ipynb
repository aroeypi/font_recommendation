{
 "cells": [
  {
   "cell_type": "code",
   "execution_count": 8,
   "metadata": {},
   "outputs": [],
   "source": [
    "#https://blog.naver.com/PostView.naver?blogId=juhy9212&logNo=221250523836\n",
    "import os\n",
    "from PIL import Image, ImageDraw, ImageFont\n",
    "\n",
    "font_path = \"ttf_font(430)\"\n",
    "fonts = os.listdir(\"ttf_font(430)\")\n"
   ]
  },
  {
   "cell_type": "code",
   "execution_count": 9,
   "metadata": {},
   "outputs": [
    {
     "name": "stdout",
     "output_type": "stream",
     "text": [
      "['10X10.ttf', '10X10Bold.ttf', '116angmuburi.ttf', '116watermelon.ttf', '12롯데마트드림Bold.ttf', '12롯데마트드림Light.ttf', '12롯데마트드림Medium.ttf', '12롯데마트행복Bold.ttf', '12롯데마트행복Light.ttf', '12롯데마트행복Medium.ttf', '20835804_도서관체_ttf.ttf', '20835814_SungDongGothicEB_ttf.ttf', '20835815_SungDongGothicB_ttf.ttf', '20950864_경기천년제목TTF_Bold.ttf', '20950866_경기천년제목TTF_Medium.ttf', '20950867_경기천년제목TTFV_Bold.ttf', '20950870_경기천년바탕TTF_Bold.ttf', '20950871_경기천년바탕TTF_Regular.ttf', '20950914_빛고을광주_Light_TTF.ttf', '20950916_빛고을광주_Medium_TTF.ttf', '20950918_빛고을광주_Bold_TTF.ttf', '20950938_Batang_TTF.ttf', '20956072_SuncheonR_TTF.ttf', '20956073_SuncheonB_TTF.ttf', '20957733_전주완판본 순B_TTF.ttf', '20957736_전주완판본 순L_TTF.ttf', '20957738_전주완판본 순R_TTF.ttf', '20957740_전주완판본 각B_TTF.ttf', '20957742_전주완판본 각L_TTF.ttf', '20957744_전주완판본 각R_TTF.ttf', '20958935_UTOIMAGE_유토이미지고딕_R_TTF.ttf', '20958949_UTOIMAGE_유토이미지별나라달님_TTF.ttf', '20958955_UTOIMAGE_유토이미지빨간우체통_TTF.ttf', '20958971_UTOIMAGE_플라워_TTF.ttf', '20958979_UTOIMAGE_유토이미지_TTF.ttf', '20958981_UTOIMAGE_유토이미지고딕_B_TTF.ttf', '20958983_UTOIMAGE_유토이미지고딕_L_TTF.ttf', 'Arita-buriB.ttf', 'Arita-buriL.ttf', 'Arita-buriM.ttf', 'Arita-buriSB.ttf', 'Atomy-Bold.ttf', 'Atomy-Light.ttf', 'Atomy-Medium.ttf', 'a타이틀고딕2.ttf', 'a타이틀고딕3.ttf', 'a타이틀고딕4.ttf', 'BareunBatangB.ttf', 'BareunBatangL.ttf', 'BareunBatangM.ttf', 'BatangChe.ttf', 'Bazzi.ttf', 'BinggraeChe.ttf', 'BinggraeMelona-Bold.ttf', 'BinggraeMelona.ttf', 'BinggraeSamanco-Bold.ttf', 'BinggraeSamanco.ttf', 'BinggraeⅡ.ttf', 'BMDOHYEON_ttf.ttf', 'BMEuljiro10yearslater.ttf', 'BMEULJIROTTF.ttf', 'BMHANNAAir_ttf.ttf', 'BMHANNAPro.ttf', 'BMHANNA_11yrs_ttf.ttf', 'BMJUA_ttf.ttf', 'BMKIRANGHAERANG-TTF.ttf', 'BMYEONSUNG_ttf.ttf', 'BusanFont_Provisional.ttf', 'Cafe24Dangdanghae.ttf', 'Cafe24Danjunghae.ttf', 'Cafe24Dongdong.ttf', 'Cafe24Ohsquareair.ttf', 'Cafe24Shiningstar.ttf', 'Cafe24Ssukssuk.ttf', 'Cafe24Ssurround.ttf', 'Cafe24Syongsyong.ttf', 'ChangwonDangamAsac-Bold_0712.ttf', 'CookieRun Black.ttf', 'CookieRun Bold.ttf', 'designhouseBold.ttf', 'designhouseLight.ttf', 'dimibang.ttf', 'Dongle-Bold.ttf', 'Dongle-Light.ttf', 'Dongle-Regular.ttf', 'DOSGothic.ttf', 'DOSIyagiBoldface.ttf', 'DOSMyungjo.ttf', 'DOSPilgi.ttf', 'DOSSaemmul.ttf', 'DotumChe.ttf', 'DungGeunMo.ttf', 'DXAriB-KSCpc-EUC-H.ttf', 'DXAura-KSCpc-EUC-H.ttf', 'DXAWM-KSCpc-EUC-H.ttf', 'DXBangtango-KSCpc-EUC-H.ttf', 'DXBomgExtraBold-KSCpc-EUC-H.ttf', 'DXBrmRExtraBold-KSCpc-EUC-H.ttf', 'DXChildsdrawing-KSCpc-EUC-H.ttf', 'DXDnaraB-KSCpc-EUC-H.ttf', 'DXFrtyB-KSCpc-EUC-H.ttf', 'DXHead02B-KSCpc-EUC-H.ttf', 'DXHfl2M-KSCpc-EUC-H.ttf', 'DXHflM-KSCpc-EUC-H.ttf', 'DXHSB-KSCpc-EUC-H.ttf', 'DXHWrB-KSCpc-EUC-H.ttf', 'DXKPMB-KSCpc-EUC-H.ttf', 'DXMgoB-KSCpc-EUC-H.ttf', 'DXMgoRB-KSCpc-EUC-H.ttf', 'DXNPeriod-KSCpc-EUC-H.ttf', 'DXNShnmB-KSCpc-EUC-H.ttf', 'DXPRVB-KSCpc-EUC-H.ttf', 'DXRESB-KSCpc-EUC-H.ttf', 'DXSglinegoTh-KSCpc-EUC-H.ttf', 'DXShnm-KSCpc-EUC-H.ttf', 'DXSpdM-KSCpc-EUC-H.ttf', 'DXWGSB-KSCpc-EUC-H.ttf', 'EBS주시경B.ttf', 'EBS주시경L.ttf', 'EBS주시경M.ttf', 'EF_MACHO(윈도우용_TTF).ttf', 'EliceDigitalBaeum_Regular.ttf', 'establish Retrosans.ttf', 'GabiaCheongyeon.ttf', 'GabiaMaeumgyeol.ttf', 'gabia_bombaram.ttf', 'gabia_napjakBlock.ttf', 'gabia_solmee.ttf', 'Ghanachocolate.ttf', 'GodoB.ttf', 'GodoM.ttf', 'GOYANGDEOGYANG B.TTF', 'GOYANGDEOGYANG EB.TTF', 'GulimChe.ttf', 'H2GPRM.TTF', 'H2GTRE.TTF', 'H2GTRM.TTF', 'H2HDRM.TTF', 'H2MJRE.TTF', 'H2MJSM.TTF', 'H2SA1M.TTF', 'Hahmlet-Black.ttf', 'Hahmlet-Bold.ttf', 'Hahmlet-Light.ttf', 'Hahmlet-Regular.ttf', 'HANBaekB.ttf', 'HANBatang.ttf', 'HANBatangB.ttf', 'HangeulNuriB.ttf', 'HangeulNuriR.ttf', 'Hangyeoregyeolche.TTF', 'HANSaleB.ttf', 'HANSaleM.ttf', 'HANSolB.ttf', 'HANSolM.ttf', 'HANSomaB.ttf', 'HANSomaM.ttf', 'HanS_BoomBoom.ttf', 'HANYGO230.ttf', 'HANYGO240.ttf', 'headline.ttf', 'HeirofLightBold.ttf', 'HeirofLightRegular.ttf', 'HMKBP.TTF', 'HMKBS.TTF', 'HMKLP.TTF', 'HMKLS.TTF', 'HMKMAMI.TTF', 'HMKMG.TTF', 'HMKMM.TTF', 'HMKMMAG.TTF', 'HMKMOLD.TTF', 'HMKMRHD.TTF', 'HMKMS.TTF', 'HSSaemaul-Regular.ttf', 'HS겨울눈꽃체.ttf', 'HS두꺼비체.ttf', 'HS봄바람체2.0.ttf', 'HS새마을체.ttf', 'HYBDAL.TTF', 'HYBDAM.TTF', 'HYGPRM.TTF', 'HYKANB.TTF', 'HYKANM.TTF', 'IropkeBatangM.ttf', 'Jaemin.ttf', 'JejuGothic.ttf', 'JejuHallasan.ttf', 'JejuMyeongjo.ttf', 'JSArirang.ttf', 'JSArirangHON.ttf', 'JSArirangPPURI.ttf', 'KBIZ한마음고딕 B.ttf', 'KBIZ한마음고딕 H.ttf', 'KBIZ한마음고딕 L.ttf', 'KBIZ한마음고딕 M.ttf', 'KBIZ한마음고딕 R.ttf', 'KBIZ한마음명조 B.ttf', 'KBIZ한마음명조 L.ttf', 'KBIZ한마음명조 M.ttf', 'KBIZ한마음명조 R.ttf', 'KCCAhnjunggeun(Windows용).ttf', 'KCCImkwontaek.ttf', 'KCC김훈체(Windows용).ttf', 'KCC은영체(Windows용).ttf', 'KoPubWorld Batang Bold.ttf', 'KoPubWorld Batang Light.ttf', 'KoPubWorld Batang Medium.ttf', 'KoPubWorld Dotum Bold.ttf', 'KoPubWorld Dotum Light.ttf', 'KoPubWorld Dotum Medium.ttf', 'KOTRA HOPE_TTF.ttf', 'KOTRA LEAP_TTF.ttf', 'KOTRA_BOLD.ttf', 'locus_sangsang.ttf', 'MalgunGothic.ttf', 'Maplestory Bold.ttf', 'Maplestory Light.ttf', 'MapoAgape.ttf', 'MapoBackpacking.ttf', 'MapoDacapo.ttf', 'MapoHongdaeFreedom.ttf', 'MapoMaponaru.ttf', 'MiraeroNormal.ttf', 'NanumBrush.ttf', 'NanumGothicEco.ttf', 'NanumGothicEcoBold.ttf', 'NanumGothicEcoExtraBold.ttf', 'NanumMyeongJo.ttf', 'NanumMyeongjoEco.ttf', 'NanumMyeongjoEcoBold.ttf', 'NanumMyeongjoEcoExtraBold.ttf', 'NanumPen.ttf', 'NanumSquare.ttf', 'netmarbleB.ttf', 'netmarbleL.ttf', 'netmarbleM.ttf', 'NEXEN TIRE_Bold.ttf', 'NEXEN TIRE_Regular.ttf', 'NIXGONFONTS B 2.0.ttf', 'NIXGONFONTS M 2.0.ttf', 'ON I고딕.ttf', 'ONE Mobile POP.ttf', 'OSeongandHanEum-Bold.ttf', 'OSeongandHanEum-Regular.ttf', 'PureunJeonnam-Bold.ttf', 'PureunJeonnam-Medium.ttf', 'PureunJeonnam.ttf', 'PyeongChangPeace-Bold.ttf', 'PyeongChangPeace-Light.ttf', 'ROEHOE-CHAN.ttf', 'Sam3KRFont.ttf', 'SANGJU Dajungdagam.ttf', 'SANGJU Gotgam.ttf', 'SANGJU Gyeongcheon Island.ttf', 'SDDogSuRiBold.ttf', 'SDLeeYaGi.ttf', 'SEBANG Gothic Bold.ttf', 'SEBANG Gothic.ttf', 'SeoulNamsanvert.ttf', 'SF망고빙수 TTF.ttf', 'Spoqa Han Sans Bold.ttf', 'Spoqa Han Sans Light.ttf', 'Spoqa Han Sans Regular.ttf', 'Spoqa Han Sans Thin.ttf', 'SSRockRegular.ttf', 'SunBatang-Bold.ttf', 'SunBatang-Light.ttf', 'SunBatang-Medium.ttf', 'TaeFont TSTJktB.ttf', 'TaeFont TSTOtmB.ttf', 'THE_Nyuseusokbo.ttf', 'THE명품굴림B.ttf', 'THE선인장.ttf', 'THE정직.ttf', 'TmonMonsori.ttf', 'tvN 즐거운이야기 Bold.ttf', 'tvN 즐거운이야기 Light.ttf', 'tvN 즐거운이야기 Medium.ttf', 'tway_air.ttf', 'tway_fly.ttf', 'tway_sky.ttf', 'Typo_BallerinaB.ttf', 'Typo_BallerinaM.ttf', 'Typo_Dodam.ttf', 'Typo_DonkiPrinceM.ttf', 'Typo_EoulrimB.ttf', 'Typo_EoulrimL.ttf', 'Typo_EoulrimM.ttf', 'Typo_HongikinganM.ttf', 'Typo_JeongJoM.ttf', 'Typo_KingSejong_Hunmin.ttf', 'Typo_MoonFlowerM.ttf', 'Typo_SherlockM.ttf', 'Typo_SSiGothic180.ttf', 'Typo_SSiMyungJo180.ttf', 'Typo_StormB.ttf', 'UhBee GGoongD.ttf', 'Uhbee NaHyun Bold.ttf', 'Uhbee NaHyun.ttf', 'UhBee Namjieun Bold.ttf', 'UhBee Namjieun.ttf', 'UhBee Soyun.ttf', 'UhBee Sunhong BOLD.ttf', 'UhBee Sunhong.ttf', 'UhBee swit.ttf', 'UhBee U JEONG Bold.ttf', 'UhBee U JEONG.ttf', 'yangfont02.ttf', 'yangpyeong_B.ttf', 'yangpyeong_L.ttf', 'yangpyeong_M.ttf', 'YdestreetB.ttf', 'YdestreetL.ttf', 'Yeongdo.ttf', 'YGBI08.TTF', 'Youth.ttf', '강한육군 Bold Vert.ttf', '강한육군 Bold.ttf', '강한육군 Medium Vert.ttf', '강한육군 Medium.ttf', '경기천년제목_Light.ttf', '고양일산 R.TTF', '국립박물관문화재단클래식B.ttf', '국립박물관문화재단클래식L.ttf', '국립박물관문화재단클래식M.ttf', '국립중앙도서관글자체.ttf', '나눔손글씨 가람연꽃.ttf', '나눔손글씨 갈맷글.ttf', '나눔손글씨 강부장님체.ttf', '나눔손글씨 고딕 아니고 고딩.ttf', '나눔손글씨 고려글꼴.ttf', '나눔손글씨 곰신체.ttf', '나눔손글씨 규리의 일기.ttf', '나눔손글씨 김유이체.ttf', '나눔손글씨 꽃내음.ttf', '나눔손글씨 끄트머리체.ttf', '나눔손글씨 다행체.ttf', '나눔손글씨 대광유리.ttf', '나눔손글씨 딸에게 엄마가.ttf', '나눔손글씨 반짝반짝 별.ttf', '나눔손글씨 세계적인 한글.ttf', '나눔손글씨 세아체.ttf', '나눔손글씨 세화체.ttf', '나눔손글씨 소방관의 기도.ttf', '나눔손글씨 시우 귀여워.ttf', '나눔손글씨 신혼부부.ttf', '나눔손글씨 아빠의 연애편지.ttf', '나눔손글씨 아줌마 자유.ttf', '나눔손글씨 엄마사랑.ttf', '나눔손글씨 와일드.ttf', '나눔손글씨 외할머니글씨.ttf', '나눔손글씨 유니 띵땅띵땅.ttf', '나눔손글씨 자부심지우.ttf', '나눔손글씨 잘하고 있어.ttf', '나눔손글씨 장미체.ttf', '나눔손글씨 점꼴체.ttf', '나눔손글씨 정은체.ttf', '나눔손글씨 중학생.ttf', '나눔손글씨 진주 박경아체.ttf', '나눔손글씨 철필글씨.ttf', '나눔손글씨 칼국수.ttf', '나눔손글씨 코코체.ttf', '나눔손글씨 한윤체.ttf', '나눔손글씨 행복한 도비.ttf', '나눔손글씨 혜준체.ttf', '나눔손글씨 희망누리.ttf', '나눔손글씨 흰꼬리수리.ttf', '동그라미재단B.ttf', '동그라미재단L.ttf', '동그라미재단M.ttf', '문화재돌봄체 Bold.ttf', '문화재돌봄체 Regular.ttf', '배스킨라빈스 B.ttf', '비트로 코어 TTF.ttf', '비트로 프라이드 TTF.ttf', '서울남산 장체B.ttf', '서울남산 장체BL.ttf', '서울남산 장체EB.ttf', '서울남산 장체L.ttf', '서울남산 장체M.ttf', '서울한강 장체B.ttf', '서울한강 장체BL.ttf', '서울한강 장체EB.ttf', '서울한강 장체L.ttf', '서울한강 장체M.ttf', '솔뫼 김대건 Light.ttf', '솔뫼 김대건 Medium.ttf', '솔인써니체.ttf', '양진체v0.9_ttf.ttf', '온글잎 경영체.ttf', '온글잎 만두몽키체.ttf', '온글잎 무궁체.ttf', '온글잎 민혜체.ttf', '온글잎 보현체.ttf', '온글잎 석영체.ttf', '온글잎 안될과학궤도체.ttf', '온글잎 안될과학약체.ttf', '온글잎 안될과학유니랩장체.ttf', '온글잎 윤우체.ttf', '온글잎 의연체.ttf', '온글잎 해솜체.ttf', '이순신돋움체B.ttf', '이순신돋움체L.ttf', '이순신돋움체M.ttf', '조선일보명조.ttf', '중나좋체 Light.ttf', '중나좋체 Medium.ttf', '한글틀고딕.ttf', '한수원_한돋음_B.ttf', '한수원_한돋음_R.ttf', '한수원_한울림_R.ttf', '해수체B.ttf', '해수체L.ttf', '해수체M.ttf', '행복고흥B.ttf', '행복고흥L.ttf', '행복고흥M.ttf', '헬스셋고딕Bold.ttf', '헬스셋고딕Light.ttf', '헬스셋조릿대Std.ttf']\n"
     ]
    }
   ],
   "source": [
    "print(fonts)"
   ]
  },
  {
   "cell_type": "code",
   "execution_count": 11,
   "metadata": {},
   "outputs": [
    {
     "data": {
      "text/plain": [
       "'아'"
      ]
     },
     "execution_count": 11,
     "metadata": {},
     "output_type": "execute_result"
    }
   ],
   "source": [
    "unicodeChars = chr(int('C544', 16))\n",
    "unicodeChars"
   ]
  },
  {
   "cell_type": "code",
   "execution_count": 13,
   "metadata": {},
   "outputs": [
    {
     "name": "stderr",
     "output_type": "stream",
     "text": [
      "C:\\Users\\USER\\AppData\\Local\\Temp\\ipykernel_30356\\90205924.py:11: DeprecationWarning: getsize is deprecated and will be removed in Pillow 10 (2023-07-01). Use getbbox or getlength instead.\n",
      "  x, y = font.getsize(unicodeChars)\n"
     ]
    }
   ],
   "source": [
    "unicodeChars = chr(int(\"C544\", 16))\n",
    "    \n",
    "path = \"font_img/\" + unicodeChars\n",
    "    \n",
    "os.makedirs(path, exist_ok = True)\n",
    "        \n",
    "for ttf in fonts:\n",
    "        \n",
    "    font = ImageFont.truetype(font = font_path +'/'+ ttf, size = 230)\n",
    "        \n",
    "    x, y = font.getsize(unicodeChars)\n",
    "        \n",
    "    theImage = Image.new('RGB', (256, 256), (255, 255, 255))\n",
    "        \n",
    "    theDrawPad = ImageDraw.Draw(theImage)\n",
    "        \n",
    "    theDrawPad.text(((256-x)/2,(256-y)/2), unicodeChars, font=font, fill='black' )\n",
    "        \n",
    "    msg = path + \"/\" + ttf[:-4]\n",
    "        \n",
    "    theImage.save('{}.jpg'.format(msg))\n"
   ]
  },
  {
   "cell_type": "code",
   "execution_count": 64,
   "metadata": {},
   "outputs": [],
   "source": [
    "import os\n",
    "\n",
    "# 두 개의 폴더 경로\n",
    "folder1 = \"font_img/가\"\n",
    "folder2 = \"kkeokim\"\n",
    "\n",
    "# 각 폴더에 있는 파일 목록 가져오기\n",
    "files1 = os.listdir(folder1)\n",
    "files2 = os.listdir(folder2)"
   ]
  },
  {
   "cell_type": "code",
   "execution_count": 65,
   "metadata": {},
   "outputs": [
    {
     "data": {
      "text/plain": [
       "['10X10.jpg', '10X10Bold.jpg', '116angmuburi.jpg']"
      ]
     },
     "execution_count": 65,
     "metadata": {},
     "output_type": "execute_result"
    }
   ],
   "source": [
    "files1[:3]"
   ]
  },
  {
   "cell_type": "code",
   "execution_count": 66,
   "metadata": {},
   "outputs": [],
   "source": [
    "non_jpg_files1 = [os.path.splitext(f)[0] for f in files1]"
   ]
  },
  {
   "cell_type": "code",
   "execution_count": 67,
   "metadata": {},
   "outputs": [
    {
     "data": {
      "text/plain": [
       "['10X10', '10X10Bold', '116angmuburi']"
      ]
     },
     "execution_count": 67,
     "metadata": {},
     "output_type": "execute_result"
    }
   ],
   "source": [
    "non_jpg_files1[:3]"
   ]
  },
  {
   "cell_type": "code",
   "execution_count": 68,
   "metadata": {},
   "outputs": [
    {
     "data": {
      "text/plain": [
       "['10X10.png', '10X10Bold.png', '116angmuburi.png']"
      ]
     },
     "execution_count": 68,
     "metadata": {},
     "output_type": "execute_result"
    }
   ],
   "source": [
    "files2[:3]"
   ]
  },
  {
   "cell_type": "code",
   "execution_count": 69,
   "metadata": {},
   "outputs": [],
   "source": [
    "non_png_files2 = [os.path.splitext(f)[0] for f in files2]\n"
   ]
  },
  {
   "cell_type": "code",
   "execution_count": 70,
   "metadata": {},
   "outputs": [
    {
     "data": {
      "text/plain": [
       "['10X10', '10X10Bold', '116angmuburi']"
      ]
     },
     "execution_count": 70,
     "metadata": {},
     "output_type": "execute_result"
    }
   ],
   "source": [
    "non_png_files2[:3]"
   ]
  },
  {
   "cell_type": "code",
   "execution_count": 71,
   "metadata": {},
   "outputs": [
    {
     "data": {
      "text/plain": [
       "420"
      ]
     },
     "execution_count": 71,
     "metadata": {},
     "output_type": "execute_result"
    }
   ],
   "source": [
    "len(non_jpg_files1)"
   ]
  },
  {
   "cell_type": "code",
   "execution_count": 72,
   "metadata": {},
   "outputs": [
    {
     "data": {
      "text/plain": [
       "420"
      ]
     },
     "execution_count": 72,
     "metadata": {},
     "output_type": "execute_result"
    }
   ],
   "source": [
    "len(non_png_files2)"
   ]
  },
  {
   "cell_type": "code",
   "execution_count": 73,
   "metadata": {},
   "outputs": [],
   "source": [
    "for file1 in non_jpg_files1:\n",
    "    if file1 not in non_png_files2:\n",
    "        print(f\"두번째 폴더에서 첫번째 폴더와 이름이 다른 파일: {file1}\")\n",
    "        break"
   ]
  },
  {
   "cell_type": "code",
   "execution_count": 74,
   "metadata": {},
   "outputs": [],
   "source": [
    "# 두 개의 파일 목록을 하나의 리스트로 병합\n",
    "all_files = non_jpg_files1 + non_png_files2\n",
    "\n",
    "# 파일 이름을 키로, 폴더 경로를 값으로 하는 딕셔너리 생성\n",
    "file_dict = {}\n",
    "for file_path in all_files:\n",
    "    file_name = os.path.basename(file_path)\n",
    "    if file_name not in file_dict:\n",
    "        file_dict[file_name] = []\n",
    "    file_dict[file_name].append(file_path)\n",
    "\n",
    "# 이름이 다른 파일 찾아내기\n",
    "for file_name in file_dict:\n",
    "    if len(file_dict[file_name]) == 1:\n",
    "        print(\"파일 이름이 다른 파일: \", file_dict[file_name][0])"
   ]
  }
 ],
 "metadata": {
  "kernelspec": {
   "display_name": "pytorch_env",
   "language": "python",
   "name": "python3"
  },
  "language_info": {
   "codemirror_mode": {
    "name": "ipython",
    "version": 3
   },
   "file_extension": ".py",
   "mimetype": "text/x-python",
   "name": "python",
   "nbconvert_exporter": "python",
   "pygments_lexer": "ipython3",
   "version": "3.8.5"
  },
  "orig_nbformat": 4
 },
 "nbformat": 4,
 "nbformat_minor": 2
}
