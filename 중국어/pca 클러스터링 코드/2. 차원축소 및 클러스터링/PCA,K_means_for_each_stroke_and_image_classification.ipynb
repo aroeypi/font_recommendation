{
  "cells": [
    {
      "attachments": {},
      "cell_type": "markdown",
      "metadata": {
        "id": "_jq9RvmoPXzf"
      },
      "source": [
        "##### 1. 라이브러리 로드"
      ]
    },
    {
      "cell_type": "code",
      "execution_count": 2,
      "metadata": {
        "id": "ikamb3uxPXzv"
      },
      "outputs": [],
      "source": [
        "import sys\n",
        "import os\n",
        "sys.path.append(\"./img2vec_pytorch\")  # Adds higher directory to python modules path.\n",
        "from img_to_vec import Img2Vec\n",
        "from PIL import Image\n",
        "import pandas as pd\n",
        "import numpy as np\n",
        "from sklearn.preprocessing import MinMaxScaler"
      ]
    },
    {
      "attachments": {},
      "cell_type": "markdown",
      "metadata": {
        "id": "haDw3WiePXz2"
      },
      "source": [
        "##### 2. 획요소 특징 벡터 파일 로드"
      ]
    },
    {
      "cell_type": "code",
      "execution_count": 3,
      "metadata": {
        "id": "QSuIEnfPPXz5"
      },
      "outputs": [],
      "source": [
        "D_df = pd.read_csv('형태소별 특징벡터(클러스터 컬럼x)/D_feature_vector.csv').drop(['fontname'], axis=1)\n",
        "HS_df = pd.read_csv('형태소별 특징벡터(클러스터 컬럼x)/HS_feature_vector.csv').drop(['fontname'], axis=1)\n",
        "HSZ_df = pd.read_csv('형태소별 특징벡터(클러스터 컬럼x)/HSZ_feature_vector.csv').drop(['fontname'], axis=1)\n",
        "Ne_df = pd.read_csv('형태소별 특징벡터(클러스터 컬럼x)/Ne_feature_vector.csv').drop(['fontname'], axis=1)\n",
        "PNc_df = pd.read_csv('형태소별 특징벡터(클러스터 컬럼x)/PNc_feature_vector.csv').drop(['fontname'], axis=1)\n",
        "Ps_df = pd.read_csv('형태소별 특징벡터(클러스터 컬럼x)/Ps_feature_vector.csv').drop(['fontname'], axis=1)\n",
        "PZe_df = pd.read_csv('형태소별 특징벡터(클러스터 컬럼x)/PZe_feature_vector.csv').drop(['fontname'], axis=1)\n",
        "SG_df = pd.read_csv('형태소별 특징벡터(클러스터 컬럼x)/SG_feature_vector.csv').drop(['fontname'], axis=1)\n",
        "Sm_df = pd.read_csv('형태소별 특징벡터(클러스터 컬럼x)/Sm_feature_vector.csv').drop(['fontname'], axis=1)\n",
        "TPZ_df = pd.read_csv('형태소별 특징벡터(클러스터 컬럼x)/TPZ_feature_vector.csv').drop(['fontname'], axis=1)\n",
        "Ts_df = pd.read_csv('형태소별 특징벡터(클러스터 컬럼x)/Ts_feature_vector.csv').drop(['fontname'], axis=1)"
      ]
    },
    {
      "attachments": {},
      "cell_type": "markdown",
      "metadata": {},
      "source": [
        "### 3. PCA"
      ]
    },
    {
      "cell_type": "code",
      "execution_count": 4,
      "metadata": {},
      "outputs": [],
      "source": [
        "from sklearn.preprocessing import StandardScaler\n",
        "from sklearn.decomposition import PCA\n",
        "\n",
        "scaler = StandardScaler()\n",
        "\n",
        "def data_pca(stroke_df, n):\n",
        "  X_scaled=scaler.fit_transform(stroke_df)\n",
        "  #n차원으로 축소\n",
        "  pca=PCA(n_components=n)\n",
        "  pca.fit(X_scaled)\n",
        "  X_pca=pca.transform(X_scaled)\n",
        "  df_pca =pd.DataFrame(X_pca)\n",
        "  return df_pca"
      ]
    },
    {
      "attachments": {},
      "cell_type": "markdown",
      "metadata": {},
      "source": [
        "#### 4. 클러스터링"
      ]
    },
    {
      "cell_type": "code",
      "execution_count": 5,
      "metadata": {
        "id": "_-o2yv77PX0F"
      },
      "outputs": [],
      "source": [
        "from sklearn.cluster import KMeans\n",
        "import numpy as np\n",
        "\n",
        "def data_scaling(df_pca):\n",
        "  X = np.array(df_pca)\n",
        "  scaler = MinMaxScaler()\n",
        "  data_scaled = scaler.fit_transform(X)\n",
        "  return data_scaled"
      ]
    },
    {
      "cell_type": "code",
      "execution_count": 6,
      "metadata": {
        "id": "4HSYKXzzPX0J"
      },
      "outputs": [],
      "source": [
        "def KMeans_clustering(df_pca, k, data_scaled):\n",
        "  model = KMeans(n_clusters=k, random_state=0)\n",
        "  model.fit(data_scaled)\n",
        "  df_pca['cluster'] = model.fit_predict(data_scaled)\n",
        "  return df_pca"
      ]
    },
    {
      "cell_type": "code",
      "execution_count": 7,
      "metadata": {},
      "outputs": [],
      "source": [
        "def add_fontname(df_pca):\n",
        "  fontname = [\"a고딕10\", \"a고딕11\", \"a고딕12\", \"a고딕13\", \"a고딕14\", \"a고딕15\", \"a고딕16\", \"a고딕17\", \"a고딕18\", \"a고딕19\", \"a드림고딕1\", \"a드림고딕2\", \"a드림고딕3\", \"a드림고딕4\", \"a드림고딕5\", \"a드림고딕6\", \"a드림고딕7\", \"a신문명조\", \"a신문고딕\", \"a둥근빅체\", \"a견나루\", \"a디나루\", \"a견명조\", \"a순명조\", \"a세명조\", \"a신헤드\", \"a신고딕\", \"a세나루\", \"a세고딕\", \"a예서체\", \"a신명조\", \"a중고딕\", \"a인장체\", \"a자막체\", \"a특고딕\", \"a예향체\", \"a중봉체\", \"a태고딕\", \"a중명조\", \"a특명조\", \"a태명조\", \"a편봉체\", \"a해서체\", \"a행서체\", \"a견고딕\", \"a궁서체\", \"a빅체\", \"a한글나라AB\", \"a한글나라AL\", \"a한글나라AM\", \"a아시아고딕B\", \"a아시아명조B\", \"a신디나루B\", \"a신신명조B\", \"a탈영고딕B\", \"a뉴고딕B\", \"a영고딕B\", \"a영명조B\", \"a펜고딕B\", \"a펜글씨B\", \"a시네마B\", \"a한글나라BB\", \"a한글나라BL\", \"a한글나라BM\", \"a아시아고딕E\", \"a아시아명조E\", \"a탈영고딕E\", \"a뉴고딕E\", \"a영명조E\", \"a영고딕E\", \"a아시아고딕L\", \"a아시아명조L\", \"a밀레니엄L\", \"a신신명조L\", \"a탈영고딕L\", \"a뉴고딕L\", \"a시네마L\", \"a영고딕L\", \"a영명조L\", \"a펜고딕L\", \"a펜글씨L\", \"a아시아고딕M\", \"a아시아명조M\", \"a밀레니엄M\", \"a신디나루M\", \"a신신명조M\", \"a탈영고딕M\", \"a뉴고딕M\", \"a시네마M\", \"a영명조M\", \"a영고딕M\", \"a펜고딕M\", \"NanumBarunGothic\", \"NanumBarunGothicBold\", \"NanumBarunGothicLight\", \"NanumBarunGothicUltraLight\", \"NanumBarunGothic-YetHangul\", \"NanumGothic\", \"NanumGothic-Bold\", \"NanumGothicBold\", \"NanumGothicEco\", \"NanumGothicEcoBold\", \"NanumGothicEcoExtraBold\", \"NanumGothic-ExtraBold\", \"NanumGothicExtraBold\", \"NanumGothic-Regular\", \"NanumMyeongjo-YetHangul\", \"NotoSansKR-Black\", \"NotoSansKR-Bold\", \"NotoSansKR-Light\", \"NotoSansKR-Medium\", \"NotoSansKR-Regular\", \"NotoSansKR-Thin\", \"NotoSerifKR-Black\", \"NotoSerifKR-Bold\", \"NotoSerifKR-ExtraLight\", \"NotoSerifKR-Light\", \"NotoSerifKR-Medium\", \"NotoSerifKR-Regular\", \"NotoSerifKR-SemiBold\"]\n",
        "  df_pca.insert(0, 'fontname', fontname)\n",
        "  return df_pca"
      ]
    },
    {
      "cell_type": "code",
      "execution_count": 8,
      "metadata": {},
      "outputs": [],
      "source": [
        "def show_clustering_result(df_pca, k):\n",
        "  clustering_result = []\n",
        "  for cluster_group in range(k):\n",
        "    fontlist_of_each_cluster = df_pca[df_pca['cluster'] == cluster_group]['fontname'].values.tolist()\n",
        "    clustering_result.append(fontlist_of_each_cluster)\n",
        "\n",
        "  for cluster_group in range(k):\n",
        "    print(\"group \" + str(cluster_group), clustering_result[cluster_group])\n",
        "\n",
        "  return clustering_result"
      ]
    },
    {
      "attachments": {},
      "cell_type": "markdown",
      "metadata": {},
      "source": [
        "### 5. 형태소 차원축소 및 클러스터링 "
      ]
    },
    {
      "cell_type": "code",
      "execution_count": 55,
      "metadata": {},
      "outputs": [
        {
          "name": "stdout",
          "output_type": "stream",
          "text": [
            "group 0 ['a고딕15', 'a고딕16', 'a드림고딕4', 'a신헤드', 'a중봉체', 'a해서체', 'a펜글씨B', 'a한글나라BB', 'a한글나라BL', 'a아시아고딕E', 'a영고딕E', 'a영명조L', 'NanumGothic', 'NanumGothicEcoExtraBold', 'NotoSerifKR-Black', 'NotoSerifKR-Medium']\n",
            "group 1 ['a드림고딕7', 'a자막체', 'a중명조', 'a특명조', 'a한글나라AM', 'a아시아고딕B', 'a영고딕B', 'a아시아고딕L', 'a시네마L', 'a밀레니엄M', 'a펜고딕M', 'NanumBarunGothic', 'NanumGothic-Bold', 'NanumGothicExtraBold', 'NanumGothic-Regular', 'NotoSerifKR-Regular', 'NotoSerifKR-SemiBold']\n",
            "group 2 ['a고딕18', 'a드림고딕6', 'a신문고딕', 'a견나루', 'a디나루', 'a견명조', 'a인장체', 'a태명조', 'a한글나라AB', 'a탈영고딕B', 'a영명조B', 'a탈영고딕E', 'a아시아고딕M', 'a시네마M', 'NotoSansKR-Regular']\n",
            "group 3 ['a고딕10', 'a고딕11', 'a고딕17', 'a드림고딕1', 'a신문명조', 'a둥근빅체', 'a순명조', 'a세나루', 'a예서체', 'a영명조E', 'a탈영고딕L', 'a펜글씨L', 'a아시아명조M', 'a탈영고딕M', 'a뉴고딕M']\n",
            "group 4 ['a고딕12', 'a드림고딕5', 'a신고딕', 'a신명조', 'a행서체', 'a견고딕', 'a빅체', 'a신디나루B', 'a시네마B', 'a아시아명조E', 'a신디나루M', 'NanumGothicEco', 'NanumMyeongjo-YetHangul', 'NotoSansKR-Medium', 'NotoSerifKR-Bold', 'NotoSerifKR-ExtraLight']\n",
            "group 5 ['a고딕14', 'a세명조', 'a한글나라AL', 'a아시아명조B', 'a펜고딕B', 'a아시아명조L', 'a펜고딕L', 'a영고딕M', 'NanumBarunGothicLight', 'NanumGothicBold', 'NotoSerifKR-Light']\n",
            "group 6 ['a드림고딕2', 'a특고딕', 'a태고딕', 'a밀레니엄L', 'a뉴고딕L', 'a신신명조M', 'NotoSansKR-Bold']\n",
            "group 7 ['a드림고딕3', 'a예향체', 'a편봉체', 'a신신명조L', 'NanumBarunGothicUltraLight', 'NanumBarunGothic-YetHangul', 'NotoSansKR-Light']\n",
            "group 8 ['a고딕13', 'a고딕19', 'a세고딕', 'a중고딕', 'a궁서체', 'a신신명조B', 'a한글나라BM', 'a뉴고딕E', 'a영고딕L', 'a영명조M', 'NanumGothic-ExtraBold', 'NotoSansKR-Black']\n",
            "group 9 ['a뉴고딕B', 'NanumBarunGothicBold', 'NanumGothicEcoBold', 'NotoSansKR-Thin']\n"
          ]
        },
        {
          "name": "stderr",
          "output_type": "stream",
          "text": [
            "c:\\Users\\USER\\anaconda3\\envs\\pytorch_env\\lib\\site-packages\\sklearn\\cluster\\_kmeans.py:870: FutureWarning: The default value of `n_init` will change from 10 to 'auto' in 1.4. Set the value of `n_init` explicitly to suppress the warning\n",
            "  warnings.warn(\n",
            "c:\\Users\\USER\\anaconda3\\envs\\pytorch_env\\lib\\site-packages\\sklearn\\cluster\\_kmeans.py:870: FutureWarning: The default value of `n_init` will change from 10 to 'auto' in 1.4. Set the value of `n_init` explicitly to suppress the warning\n",
            "  warnings.warn(\n"
          ]
        }
      ],
      "source": [
        "stroke = 'HSZ'  # 클러스터링할 형태소 이름만 바꿔주면 된다\n",
        "\n",
        "pca_dim = [5, 10, 5, 15, 10,4,2,3,5,3,5]\n",
        "kmeans_k = [7, 9, 10, 10, 7,3,5,3,4,3,5]\n",
        "strokes = ['D', 'Hs', 'HSZ', 'Ne', 'PNc', 'Ps', 'PZe', 'SG', 'Sm', 'TPZ', 'Ts']\n",
        "dim = pca_dim[strokes.index(stroke)]\n",
        "k = kmeans_k[strokes.index(stroke)]\n",
        "\n",
        "df_pca = data_pca(D_df, dim)  # 차원축소\n",
        "data_scaled = data_scaling(df_pca)  # 데이터 스케일링\n",
        "df_pca = KMeans_clustering(df_pca, k, data_scaled)  # 클러스터링\n",
        "\n",
        "df_pca = add_fontname(df_pca)\n",
        "clustering_result = show_clustering_result(df_pca, k) # 클러스터링 결과"
      ]
    },
    {
      "attachments": {},
      "cell_type": "markdown",
      "metadata": {},
      "source": [
        "### 6. 클러스터링 결과 확인\n",
        "(클러스터링 결과에 따라 이미지 파일 분류)"
      ]
    },
    {
      "cell_type": "code",
      "execution_count": 16,
      "metadata": {},
      "outputs": [],
      "source": [
        "file_path = './클러스터링 결과/'+ stroke + '/'\n",
        "file_names = os.listdir(file_path)"
      ]
    },
    {
      "cell_type": "code",
      "execution_count": 17,
      "metadata": {},
      "outputs": [
        {
          "data": {
            "text/plain": [
              "['a견고딕_10.png',\n",
              " 'a견나루_10.png',\n",
              " 'a견명조_10.png',\n",
              " 'a고딕10_10.png',\n",
              " 'a고딕11_10.png',\n",
              " 'a고딕12_10.png',\n",
              " 'a고딕13_10.png',\n",
              " 'a고딕14_10.png',\n",
              " 'a고딕15_10.png',\n",
              " 'a고딕16_10.png',\n",
              " 'a고딕17_10.png',\n",
              " 'a고딕18_10.png',\n",
              " 'a고딕19_10.png',\n",
              " 'a궁서체_10.png',\n",
              " 'a뉴고딕B_10.png',\n",
              " 'a뉴고딕E_10.png',\n",
              " 'a뉴고딕L_10.png',\n",
              " 'a뉴고딕M_10.png',\n",
              " 'a둥근빅체_10.png',\n",
              " 'a드림고딕1_10.png',\n",
              " 'a드림고딕2_10.png',\n",
              " 'a드림고딕3_10.png',\n",
              " 'a드림고딕4_10.png',\n",
              " 'a드림고딕5_10.png',\n",
              " 'a드림고딕6_10.png',\n",
              " 'a드림고딕7_10.png',\n",
              " 'a디나루_10.png',\n",
              " 'a밀레니엄L_10.png',\n",
              " 'a밀레니엄M_10.png',\n",
              " 'a빅체_10.png',\n",
              " 'a세고딕_10.png',\n",
              " 'a세나루_10.png',\n",
              " 'a세명조_10.png',\n",
              " 'a순명조_10.png',\n",
              " 'a시네마B_10.png',\n",
              " 'a시네마L_10.png',\n",
              " 'a시네마M_10.png',\n",
              " 'a신고딕_10.png',\n",
              " 'a신디나루B_10.png',\n",
              " 'a신디나루M_10.png',\n",
              " 'a신명조_10.png',\n",
              " 'a신문고딕_10.png',\n",
              " 'a신문명조_10.png',\n",
              " 'a신신명조B_10.png',\n",
              " 'a신신명조L_10.png',\n",
              " 'a신신명조M_10.png',\n",
              " 'a신헤드_10.png',\n",
              " 'a아시아고딕B_10.png',\n",
              " 'a아시아고딕E_10.png',\n",
              " 'a아시아고딕L_10.png',\n",
              " 'a아시아고딕M_10.png',\n",
              " 'a아시아명조B_10.png',\n",
              " 'a아시아명조E_10.png',\n",
              " 'a아시아명조L_10.png',\n",
              " 'a아시아명조M_10.png',\n",
              " 'a영고딕B_10.png',\n",
              " 'a영고딕E_10.png',\n",
              " 'a영고딕L_10.png',\n",
              " 'a영고딕M_10.png',\n",
              " 'a영명조B_10.png',\n",
              " 'a영명조E_10.png',\n",
              " 'a영명조L_10.png',\n",
              " 'a영명조M_10.png',\n",
              " 'a예서체_10.png',\n",
              " 'a예향체_10.png',\n",
              " 'a인장체_10.png',\n",
              " 'a자막체_10.png',\n",
              " 'a중고딕_10.png',\n",
              " 'a중명조_10.png',\n",
              " 'a중봉체_10.png',\n",
              " 'a탈영고딕B_10.png',\n",
              " 'a탈영고딕E_10.png',\n",
              " 'a탈영고딕L_10.png',\n",
              " 'a탈영고딕M_10.png',\n",
              " 'a태고딕_10.png',\n",
              " 'a태명조_10.png',\n",
              " 'a특고딕_10.png',\n",
              " 'a특명조_10.png',\n",
              " 'a펜고딕B_10.png',\n",
              " 'a펜고딕L_10.png',\n",
              " 'a펜고딕M_10.png',\n",
              " 'a펜글씨B_10.png',\n",
              " 'a펜글씨L_10.png',\n",
              " 'a편봉체_10.png',\n",
              " 'a한글나라AB_10.png',\n",
              " 'a한글나라AL_10.png',\n",
              " 'a한글나라AM_10.png',\n",
              " 'a한글나라BB_10.png',\n",
              " 'a한글나라BL_10.png',\n",
              " 'a한글나라BM_10.png',\n",
              " 'a해서체_10.png',\n",
              " 'a행서체_10.png',\n",
              " 'NanumBarunGothic-YetHangul_10.png',\n",
              " 'NanumBarunGothicBold_10.png',\n",
              " 'NanumBarunGothicLight_10.png',\n",
              " 'NanumBarunGothicUltraLight_10.png',\n",
              " 'NanumBarunGothic_10.png',\n",
              " 'NanumGothic-Bold_10.png',\n",
              " 'NanumGothic-ExtraBold_10.png',\n",
              " 'NanumGothic-Regular_10.png',\n",
              " 'NanumGothicBold_10.png',\n",
              " 'NanumGothicEcoBold_10.png',\n",
              " 'NanumGothicEcoExtraBold_10.png',\n",
              " 'NanumGothicEco_10.png',\n",
              " 'NanumGothicExtraBold_10.png',\n",
              " 'NanumGothic_10.png',\n",
              " 'NanumMyeongjo-YetHangul_10.png',\n",
              " 'NotoSansKR-Black_10.png',\n",
              " 'NotoSansKR-Bold_10.png',\n",
              " 'NotoSansKR-Light_10.png',\n",
              " 'NotoSansKR-Medium_10.png',\n",
              " 'NotoSansKR-Regular_10.png',\n",
              " 'NotoSansKR-Thin_10.png',\n",
              " 'NotoSerifKR-Black_10.png',\n",
              " 'NotoSerifKR-Bold_10.png',\n",
              " 'NotoSerifKR-ExtraLight_10.png',\n",
              " 'NotoSerifKR-Light_10.png',\n",
              " 'NotoSerifKR-Medium_10.png',\n",
              " 'NotoSerifKR-Regular_10.png',\n",
              " 'NotoSerifKR-SemiBold_10.png']"
            ]
          },
          "execution_count": 17,
          "metadata": {},
          "output_type": "execute_result"
        }
      ],
      "source": [
        "file_names"
      ]
    },
    {
      "cell_type": "code",
      "execution_count": null,
      "metadata": {},
      "outputs": [],
      "source": []
    },
    {
      "cell_type": "code",
      "execution_count": 25,
      "metadata": {},
      "outputs": [],
      "source": [
        "# '_' 문자를 제거한 파일 이름들을 저장할 빈 리스트 생성\n",
        "cleaned_file_list = []\n",
        "\n",
        "# 각 파일 이름에 대해 '_' 문자를 제거하여 cleaned_file_list에 추가\n",
        "for file_name in file_names:\n",
        "    cleaned_file_name = file_name.replace('_10', '')\n",
        "    cleaned_file_list.append(cleaned_file_name)"
      ]
    },
    {
      "cell_type": "code",
      "execution_count": 33,
      "metadata": {},
      "outputs": [],
      "source": [
        "fontname = [\"a고딕10\", \"a고딕11\", \"a고딕12\", \"a고딕13\", \"a고딕14\", \"a고딕15\", \"a고딕16\", \"a고딕17\", \"a고딕18\", \"a고딕19\", \"a드림고딕1\", \"a드림고딕2\", \"a드림고딕3\", \"a드림고딕4\", \"a드림고딕5\", \"a드림고딕6\", \"a드림고딕7\", \"a신문명조\", \"a신문고딕\", \"a둥근빅체\", \"a견나루\", \"a디나루\", \"a견명조\", \"a순명조\", \"a세명조\", \"a신헤드\", \"a신고딕\", \"a세나루\", \"a세고딕\", \"a예서체\", \"a신명조\", \"a중고딕\", \"a인장체\", \"a자막체\", \"a특고딕\", \"a예향체\", \"a중봉체\", \"a태고딕\", \"a중명조\", \"a특명조\", \"a태명조\", \"a편봉체\", \"a해서체\", \"a행서체\", \"a견고딕\", \"a궁서체\", \"a빅체\", \"a한글나라AB\", \"a한글나라AL\", \"a한글나라AM\", \"a아시아고딕B\", \"a아시아명조B\", \"a신디나루B\", \"a신신명조B\", \"a탈영고딕B\", \"a뉴고딕B\", \"a영고딕B\", \"a영명조B\", \"a펜고딕B\", \"a펜글씨B\", \"a시네마B\", \"a한글나라BB\", \"a한글나라BL\", \"a한글나라BM\", \"a아시아고딕E\", \"a아시아명조E\", \"a탈영고딕E\", \"a뉴고딕E\", \"a영명조E\", \"a영고딕E\", \"a아시아고딕L\", \"a아시아명조L\", \"a밀레니엄L\", \"a신신명조L\", \"a탈영고딕L\", \"a뉴고딕L\", \"a시네마L\", \"a영고딕L\", \"a영명조L\", \"a펜고딕L\", \"a펜글씨L\", \"a아시아고딕M\", \"a아시아명조M\", \"a밀레니엄M\", \"a신디나루M\", \"a신신명조M\", \"a탈영고딕M\", \"a뉴고딕M\", \"a시네마M\", \"a영명조M\", \"a영고딕M\", \"a펜고딕M\", \"NanumBarunGothic\", \"NanumBarunGothicBold\", \"NanumBarunGothicLight\", \"NanumBarunGothicUltraLight\", \"NanumBarunGothic-YetHangul\", \"NanumGothic\", \"NanumGothic-Bold\", \"NanumGothicBold\", \"NanumGothicEco\", \"NanumGothicEcoBold\", \"NanumGothicEcoExtraBold\", \"NanumGothic-ExtraBold\", \"NanumGothicExtraBold\", \"NanumGothic-Regular\", \"NanumMyeongjo-YetHangul\", \"NotoSansKR-Black\", \"NotoSansKR-Bold\", \"NotoSansKR-Light\", \"NotoSansKR-Medium\", \"NotoSansKR-Regular\", \"NotoSansKR-Thin\", \"NotoSerifKR-Black\", \"NotoSerifKR-Bold\", \"NotoSerifKR-ExtraLight\", \"NotoSerifKR-Light\", \"NotoSerifKR-Medium\", \"NotoSerifKR-Regular\", \"NotoSerifKR-SemiBold\"]\n"
      ]
    },
    {
      "cell_type": "code",
      "execution_count": 34,
      "metadata": {},
      "outputs": [],
      "source": [
        "list1= cleaned_file_list\n",
        "list2 = fontname"
      ]
    },
    {
      "cell_type": "code",
      "execution_count": 41,
      "metadata": {},
      "outputs": [],
      "source": [
        "# .png를 제외한 앞부분의 이름 추출 함수\n",
        "def extract_name(file_name):\n",
        "    return file_name[:-4]\n",
        "\n",
        "# list1의 이름들을 추출하여 새로운 리스트 생성\n",
        "extracted_names = [extract_name(file) for file in list1]\n",
        "\n",
        "# list2의 항목들 중에서 이름이 다른 것 찾기\n",
        "different_items = [item for item in list2 if extract_name(item) not in extracted_names]"
      ]
    },
    {
      "cell_type": "code",
      "execution_count": 49,
      "metadata": {},
      "outputs": [
        {
          "name": "stdout",
          "output_type": "stream",
          "text": [
            "120\n"
          ]
        }
      ],
      "source": [
        "i=0\n",
        "for item in list2:\n",
        "    if item in extracted_names:\n",
        "        i+=1\n",
        "\n",
        "print(i)"
      ]
    },
    {
      "cell_type": "code",
      "execution_count": 53,
      "metadata": {},
      "outputs": [
        {
          "data": {
            "text/plain": [
              "['a견고딕',\n",
              " 'a견나루',\n",
              " 'a견명조',\n",
              " 'a고딕10',\n",
              " 'a고딕11',\n",
              " 'a고딕12',\n",
              " 'a고딕13',\n",
              " 'a고딕14',\n",
              " 'a고딕15',\n",
              " 'a고딕16',\n",
              " 'a고딕17',\n",
              " 'a고딕18',\n",
              " 'a고딕19',\n",
              " 'a궁서체',\n",
              " 'a뉴고딕B',\n",
              " 'a뉴고딕E',\n",
              " 'a뉴고딕L',\n",
              " 'a뉴고딕M',\n",
              " 'a둥근빅체',\n",
              " 'a드림고딕1',\n",
              " 'a드림고딕2',\n",
              " 'a드림고딕3',\n",
              " 'a드림고딕4',\n",
              " 'a드림고딕5',\n",
              " 'a드림고딕6',\n",
              " 'a드림고딕7',\n",
              " 'a디나루',\n",
              " 'a밀레니엄L',\n",
              " 'a밀레니엄M',\n",
              " 'a빅체',\n",
              " 'a세고딕',\n",
              " 'a세나루',\n",
              " 'a세명조',\n",
              " 'a순명조',\n",
              " 'a시네마B',\n",
              " 'a시네마L',\n",
              " 'a시네마M',\n",
              " 'a신고딕',\n",
              " 'a신디나루B',\n",
              " 'a신디나루M',\n",
              " 'a신명조',\n",
              " 'a신문고딕',\n",
              " 'a신문명조',\n",
              " 'a신신명조B',\n",
              " 'a신신명조L',\n",
              " 'a신신명조M',\n",
              " 'a신헤드',\n",
              " 'a아시아고딕B',\n",
              " 'a아시아고딕E',\n",
              " 'a아시아고딕L',\n",
              " 'a아시아고딕M',\n",
              " 'a아시아명조B',\n",
              " 'a아시아명조E',\n",
              " 'a아시아명조L',\n",
              " 'a아시아명조M',\n",
              " 'a영고딕B',\n",
              " 'a영고딕E',\n",
              " 'a영고딕L',\n",
              " 'a영고딕M',\n",
              " 'a영명조B',\n",
              " 'a영명조E',\n",
              " 'a영명조L',\n",
              " 'a영명조M',\n",
              " 'a예서체',\n",
              " 'a예향체',\n",
              " 'a인장체',\n",
              " 'a자막체',\n",
              " 'a중고딕',\n",
              " 'a중명조',\n",
              " 'a중봉체',\n",
              " 'a탈영고딕B',\n",
              " 'a탈영고딕E',\n",
              " 'a탈영고딕L',\n",
              " 'a탈영고딕M',\n",
              " 'a태고딕',\n",
              " 'a태명조',\n",
              " 'a특고딕',\n",
              " 'a특명조',\n",
              " 'a펜고딕B',\n",
              " 'a펜고딕L',\n",
              " 'a펜고딕M',\n",
              " 'a펜글씨B',\n",
              " 'a펜글씨L',\n",
              " 'a편봉체',\n",
              " 'a한글나라AB',\n",
              " 'a한글나라AL',\n",
              " 'a한글나라AM',\n",
              " 'a한글나라BB',\n",
              " 'a한글나라BL',\n",
              " 'a한글나라BM',\n",
              " 'a해서체',\n",
              " 'a행서체',\n",
              " 'NanumBarunGothic-YetHangul',\n",
              " 'NanumBarunGothicBold',\n",
              " 'NanumBarunGothicLight',\n",
              " 'NanumBarunGothicUltraLight',\n",
              " 'NanumBarunGothic',\n",
              " 'NanumGothic-Bold',\n",
              " 'NanumGothic-ExtraBold',\n",
              " 'NanumGothic-Regular',\n",
              " 'NanumGothicBold',\n",
              " 'NanumGothicEcoBold',\n",
              " 'NanumGothicEcoExtraBold',\n",
              " 'NanumGothicEco',\n",
              " 'NanumGothicExtraBold',\n",
              " 'NanumGothic',\n",
              " 'NanumMyeongjo-YetHangul',\n",
              " 'NotoSansKR-Black',\n",
              " 'NotoSansKR-Bold',\n",
              " 'NotoSansKR-Light',\n",
              " 'NotoSansKR-Medium',\n",
              " 'NotoSansKR-Regular',\n",
              " 'NotoSansKR-Thin',\n",
              " 'NotoSerifKR-Black',\n",
              " 'NotoSerifKR-Bold',\n",
              " 'NotoSerifKR-ExtraLight',\n",
              " 'NotoSerifKR-Light',\n",
              " 'NotoSerifKR-Medium',\n",
              " 'NotoSerifKR-Regular',\n",
              " 'NotoSerifKR-SemiBold']"
            ]
          },
          "execution_count": 53,
          "metadata": {},
          "output_type": "execute_result"
        }
      ],
      "source": [
        "extracted_names"
      ]
    },
    {
      "cell_type": "code",
      "execution_count": 52,
      "metadata": {},
      "outputs": [],
      "source": [
        "df1 = pd.DataFrame(list2, columns=['File_Name'])\n",
        "\n",
        "# 결과 출력\n",
        "df1\n",
        "\n",
        "df1.to_csv('D FontName.csv', index=False)\n"
      ]
    },
    {
      "cell_type": "code",
      "execution_count": 42,
      "metadata": {},
      "outputs": [
        {
          "data": {
            "text/plain": [
              "['a고딕10',\n",
              " 'a고딕11',\n",
              " 'a고딕12',\n",
              " 'a고딕13',\n",
              " 'a고딕14',\n",
              " 'a고딕15',\n",
              " 'a고딕16',\n",
              " 'a고딕17',\n",
              " 'a고딕18',\n",
              " 'a고딕19',\n",
              " 'a드림고딕1',\n",
              " 'a드림고딕2',\n",
              " 'a드림고딕3',\n",
              " 'a드림고딕4',\n",
              " 'a드림고딕5',\n",
              " 'a드림고딕6',\n",
              " 'a드림고딕7',\n",
              " 'a신문명조',\n",
              " 'a신문고딕',\n",
              " 'a둥근빅체',\n",
              " 'a견나루',\n",
              " 'a디나루',\n",
              " 'a견명조',\n",
              " 'a순명조',\n",
              " 'a세명조',\n",
              " 'a신헤드',\n",
              " 'a신고딕',\n",
              " 'a세나루',\n",
              " 'a세고딕',\n",
              " 'a예서체',\n",
              " 'a신명조',\n",
              " 'a중고딕',\n",
              " 'a인장체',\n",
              " 'a자막체',\n",
              " 'a특고딕',\n",
              " 'a예향체',\n",
              " 'a중봉체',\n",
              " 'a태고딕',\n",
              " 'a중명조',\n",
              " 'a특명조',\n",
              " 'a태명조',\n",
              " 'a편봉체',\n",
              " 'a해서체',\n",
              " 'a행서체',\n",
              " 'a견고딕',\n",
              " 'a궁서체',\n",
              " 'a빅체',\n",
              " 'a한글나라AB',\n",
              " 'a한글나라AL',\n",
              " 'a한글나라AM',\n",
              " 'a아시아고딕B',\n",
              " 'a아시아명조B',\n",
              " 'a신디나루B',\n",
              " 'a신신명조B',\n",
              " 'a탈영고딕B',\n",
              " 'a뉴고딕B',\n",
              " 'a영고딕B',\n",
              " 'a영명조B',\n",
              " 'a펜고딕B',\n",
              " 'a펜글씨B',\n",
              " 'a시네마B',\n",
              " 'a한글나라BB',\n",
              " 'a한글나라BL',\n",
              " 'a한글나라BM',\n",
              " 'a아시아고딕E',\n",
              " 'a아시아명조E',\n",
              " 'a탈영고딕E',\n",
              " 'a뉴고딕E',\n",
              " 'a영명조E',\n",
              " 'a영고딕E',\n",
              " 'a아시아고딕L',\n",
              " 'a아시아명조L',\n",
              " 'a밀레니엄L',\n",
              " 'a신신명조L',\n",
              " 'a탈영고딕L',\n",
              " 'a뉴고딕L',\n",
              " 'a시네마L',\n",
              " 'a영고딕L',\n",
              " 'a영명조L',\n",
              " 'a펜고딕L',\n",
              " 'a펜글씨L',\n",
              " 'a아시아고딕M',\n",
              " 'a아시아명조M',\n",
              " 'a밀레니엄M',\n",
              " 'a신디나루M',\n",
              " 'a신신명조M',\n",
              " 'a탈영고딕M',\n",
              " 'a뉴고딕M',\n",
              " 'a시네마M',\n",
              " 'a영명조M',\n",
              " 'a영고딕M',\n",
              " 'a펜고딕M',\n",
              " 'NanumBarunGothic',\n",
              " 'NanumBarunGothicLight',\n",
              " 'NanumBarunGothicUltraLight',\n",
              " 'NanumBarunGothic-YetHangul',\n",
              " 'NanumGothic',\n",
              " 'NanumGothic-Bold',\n",
              " 'NanumGothicEco',\n",
              " 'NanumGothicEcoExtraBold',\n",
              " 'NanumGothic-ExtraBold',\n",
              " 'NanumGothicExtraBold',\n",
              " 'NanumGothic-Regular',\n",
              " 'NanumMyeongjo-YetHangul',\n",
              " 'NotoSansKR-Black',\n",
              " 'NotoSansKR-Bold',\n",
              " 'NotoSansKR-Light',\n",
              " 'NotoSansKR-Medium',\n",
              " 'NotoSansKR-Regular',\n",
              " 'NotoSansKR-Thin',\n",
              " 'NotoSerifKR-Black',\n",
              " 'NotoSerifKR-Bold',\n",
              " 'NotoSerifKR-ExtraLight',\n",
              " 'NotoSerifKR-Light',\n",
              " 'NotoSerifKR-Medium',\n",
              " 'NotoSerifKR-Regular',\n",
              " 'NotoSerifKR-SemiBold']"
            ]
          },
          "execution_count": 42,
          "metadata": {},
          "output_type": "execute_result"
        }
      ],
      "source": [
        "different_items"
      ]
    },
    {
      "cell_type": "code",
      "execution_count": 32,
      "metadata": {},
      "outputs": [
        {
          "data": {
            "text/plain": [
              "['a견고딕.png',\n",
              " 'a견나루.png',\n",
              " 'a견명조.png',\n",
              " 'a고딕10.png',\n",
              " 'a고딕11.png',\n",
              " 'a고딕12.png',\n",
              " 'a고딕13.png',\n",
              " 'a고딕14.png',\n",
              " 'a고딕15.png',\n",
              " 'a고딕16.png',\n",
              " 'a고딕17.png',\n",
              " 'a고딕18.png',\n",
              " 'a고딕19.png',\n",
              " 'a궁서체.png',\n",
              " 'a뉴고딕B.png',\n",
              " 'a뉴고딕E.png',\n",
              " 'a뉴고딕L.png',\n",
              " 'a뉴고딕M.png',\n",
              " 'a둥근빅체.png',\n",
              " 'a드림고딕1.png',\n",
              " 'a드림고딕2.png',\n",
              " 'a드림고딕3.png',\n",
              " 'a드림고딕4.png',\n",
              " 'a드림고딕5.png',\n",
              " 'a드림고딕6.png',\n",
              " 'a드림고딕7.png',\n",
              " 'a디나루.png',\n",
              " 'a밀레니엄L.png',\n",
              " 'a밀레니엄M.png',\n",
              " 'a빅체.png',\n",
              " 'a세고딕.png',\n",
              " 'a세나루.png',\n",
              " 'a세명조.png',\n",
              " 'a순명조.png',\n",
              " 'a시네마B.png',\n",
              " 'a시네마L.png',\n",
              " 'a시네마M.png',\n",
              " 'a신고딕.png',\n",
              " 'a신디나루B.png',\n",
              " 'a신디나루M.png',\n",
              " 'a신명조.png',\n",
              " 'a신문고딕.png',\n",
              " 'a신문명조.png',\n",
              " 'a신신명조B.png',\n",
              " 'a신신명조L.png',\n",
              " 'a신신명조M.png',\n",
              " 'a신헤드.png',\n",
              " 'a아시아고딕B.png',\n",
              " 'a아시아고딕E.png',\n",
              " 'a아시아고딕L.png',\n",
              " 'a아시아고딕M.png',\n",
              " 'a아시아명조B.png',\n",
              " 'a아시아명조E.png',\n",
              " 'a아시아명조L.png',\n",
              " 'a아시아명조M.png',\n",
              " 'a영고딕B.png',\n",
              " 'a영고딕E.png',\n",
              " 'a영고딕L.png',\n",
              " 'a영고딕M.png',\n",
              " 'a영명조B.png',\n",
              " 'a영명조E.png',\n",
              " 'a영명조L.png',\n",
              " 'a영명조M.png',\n",
              " 'a예서체.png',\n",
              " 'a예향체.png',\n",
              " 'a인장체.png',\n",
              " 'a자막체.png',\n",
              " 'a중고딕.png',\n",
              " 'a중명조.png',\n",
              " 'a중봉체.png',\n",
              " 'a탈영고딕B.png',\n",
              " 'a탈영고딕E.png',\n",
              " 'a탈영고딕L.png',\n",
              " 'a탈영고딕M.png',\n",
              " 'a태고딕.png',\n",
              " 'a태명조.png',\n",
              " 'a특고딕.png',\n",
              " 'a특명조.png',\n",
              " 'a펜고딕B.png',\n",
              " 'a펜고딕L.png',\n",
              " 'a펜고딕M.png',\n",
              " 'a펜글씨B.png',\n",
              " 'a펜글씨L.png',\n",
              " 'a편봉체.png',\n",
              " 'a한글나라AB.png',\n",
              " 'a한글나라AL.png',\n",
              " 'a한글나라AM.png',\n",
              " 'a한글나라BB.png',\n",
              " 'a한글나라BL.png',\n",
              " 'a한글나라BM.png',\n",
              " 'a해서체.png',\n",
              " 'a행서체.png',\n",
              " 'NanumBarunGothic-YetHangul.png',\n",
              " 'NanumBarunGothicBold.png',\n",
              " 'NanumBarunGothicLight.png',\n",
              " 'NanumBarunGothicUltraLight.png',\n",
              " 'NanumBarunGothic.png',\n",
              " 'NanumGothic-Bold.png',\n",
              " 'NanumGothic-ExtraBold.png',\n",
              " 'NanumGothic-Regular.png',\n",
              " 'NanumGothicBold.png',\n",
              " 'NanumGothicEcoBold.png',\n",
              " 'NanumGothicEcoExtraBold.png',\n",
              " 'NanumGothicEco.png',\n",
              " 'NanumGothicExtraBold.png',\n",
              " 'NanumGothic.png',\n",
              " 'NanumMyeongjo-YetHangul.png',\n",
              " 'NotoSansKR-Black.png',\n",
              " 'NotoSansKR-Bold.png',\n",
              " 'NotoSansKR-Light.png',\n",
              " 'NotoSansKR-Medium.png',\n",
              " 'NotoSansKR-Regular.png',\n",
              " 'NotoSansKR-Thin.png',\n",
              " 'NotoSerifKR-Black.png',\n",
              " 'NotoSerifKR-Bold.png',\n",
              " 'NotoSerifKR-ExtraLight.png',\n",
              " 'NotoSerifKR-Light.png',\n",
              " 'NotoSerifKR-Medium.png',\n",
              " 'NotoSerifKR-Regular.png',\n",
              " 'NotoSerifKR-SemiBold.png']"
            ]
          },
          "execution_count": 32,
          "metadata": {},
          "output_type": "execute_result"
        }
      ],
      "source": [
        "fontname = [\"a고딕10\", \"a고딕11\", \"a고딕12\", \"a고딕13\", \"a고딕14\", \"a고딕15\", \"a고딕16\", \"a고딕17\", \"a고딕18\", \"a고딕19\", \"a드림고딕1\", \"a드림고딕2\", \"a드림고딕3\", \"a드림고딕4\", \"a드림고딕5\", \"a드림고딕6\", \"a드림고딕7\", \"a신문명조\", \"a신문고딕\", \"a둥근빅체\", \"a견나루\", \"a디나루\", \"a견명조\", \"a순명조\", \"a세명조\", \"a신헤드\", \"a신고딕\", \"a세나루\", \"a세고딕\", \"a예서체\", \"a신명조\", \"a중고딕\", \"a인장체\", \"a자막체\", \"a특고딕\", \"a예향체\", \"a중봉체\", \"a태고딕\", \"a중명조\", \"a특명조\", \"a태명조\", \"a편봉체\", \"a해서체\", \"a행서체\", \"a견고딕\", \"a궁서체\", \"a빅체\", \"a한글나라AB\", \"a한글나라AL\", \"a한글나라AM\", \"a아시아고딕B\", \"a아시아명조B\", \"a신디나루B\", \"a신신명조B\", \"a탈영고딕B\", \"a뉴고딕B\", \"a영고딕B\", \"a영명조B\", \"a펜고딕B\", \"a펜글씨B\", \"a시네마B\", \"a한글나라BB\", \"a한글나라BL\", \"a한글나라BM\", \"a아시아고딕E\", \"a아시아명조E\", \"a탈영고딕E\", \"a뉴고딕E\", \"a영명조E\", \"a영고딕E\", \"a아시아고딕L\", \"a아시아명조L\", \"a밀레니엄L\", \"a신신명조L\", \"a탈영고딕L\", \"a뉴고딕L\", \"a시네마L\", \"a영고딕L\", \"a영명조L\", \"a펜고딕L\", \"a펜글씨L\", \"a아시아고딕M\", \"a아시아명조M\", \"a밀레니엄M\", \"a신디나루M\", \"a신신명조M\", \"a탈영고딕M\", \"a뉴고딕M\", \"a시네마M\", \"a영명조M\", \"a영고딕M\", \"a펜고딕M\", \"NanumBarunGothic\", \"NanumBarunGothicBold\", \"NanumBarunGothicLight\", \"NanumBarunGothicUltraLight\", \"NanumBarunGothic-YetHangul\", \"NanumGothic\", \"NanumGothic-Bold\", \"NanumGothicBold\", \"NanumGothicEco\", \"NanumGothicEcoBold\", \"NanumGothicEcoExtraBold\", \"NanumGothic-ExtraBold\", \"NanumGothicExtraBold\", \"NanumGothic-Regular\", \"NanumMyeongjo-YetHangul\", \"NotoSansKR-Black\", \"NotoSansKR-Bold\", \"NotoSansKR-Light\", \"NotoSansKR-Medium\", \"NotoSansKR-Regular\", \"NotoSansKR-Thin\", \"NotoSerifKR-Black\", \"NotoSerifKR-Bold\", \"NotoSerifKR-ExtraLight\", \"NotoSerifKR-Light\", \"NotoSerifKR-Medium\", \"NotoSerifKR-Regular\", \"NotoSerifKR-SemiBold\"]\n",
        "cleaned_file_list"
      ]
    },
    {
      "cell_type": "code",
      "execution_count": 15,
      "metadata": {
        "id": "QjQdJIUKPX0j",
        "outputId": "3ef16e44-45d1-40a3-cc14-623934f0a8a3"
      },
      "outputs": [
        {
          "name": "stdout",
          "output_type": "stream",
          "text": [
            "0\n"
          ]
        }
      ],
      "source": [
        "# from fileinput import filename\n",
        "import os\n",
        "import shutil\n",
        "\n",
        "file_path = './클러스터링 결과/'+ stroke + '/'\n",
        "file_names = os.listdir(file_path)\n",
        "clust_file_path = file_path + '클러스터링 결과(' + str(dim) + ', ' + str(k) + ')/'\n",
        "os.mkdir(clust_file_path)\n",
        "\n",
        "for cluster_idx in range(k):\n",
        "  cluster_result_file = clust_file_path + 'group' + str(cluster_idx)\n",
        "  os.mkdir(cluster_result_file)\n",
        "\n",
        "copy_complete_font=0\n",
        "\n",
        "for file_name in file_names:\n",
        "  file_name = file_name.replace(\".png\", \"\")\n",
        "  for cluster_idx in range(k):\n",
        "    if file_name in clustering_result[cluster_idx]:\n",
        "      new_path = clust_file_path + 'group' + str(cluster_idx)\n",
        "      shutil.copy(file_path + file_name+\".png\", new_path)\n",
        "      \n",
        "      copy_complete_font+=1\n",
        "\n",
        "print(copy_complete_font)"
      ]
    },
    {
      "cell_type": "code",
      "execution_count": 54,
      "metadata": {},
      "outputs": [
        {
          "name": "stdout",
          "output_type": "stream",
          "text": [
            "120\n"
          ]
        }
      ],
      "source": [
        "# from fileinput import filename\n",
        "import os\n",
        "import shutil\n",
        "\n",
        "file_path = './클러스터링 결과/'+ stroke + '/'\n",
        "file_names = os.listdir(file_path)\n",
        "clust_file_path = file_path + '클러스터링 결과(' + str(dim) + ', ' + str(k) + ')/'\n",
        "os.mkdir(clust_file_path)\n",
        "\n",
        "for cluster_idx in range(k):\n",
        "  cluster_result_file = clust_file_path + 'group' + str(cluster_idx)\n",
        "  os.mkdir(cluster_result_file)\n",
        "\n",
        "copy_complete_font=0\n",
        "\n",
        "for file_name in cleaned_file_list:\n",
        "  file_name = file_name.replace(\".png\", \"\")\n",
        "  for cluster_idx in range(k):\n",
        "    if file_name in clustering_result[cluster_idx]:\n",
        "      new_path = clust_file_path + 'group' + str(cluster_idx)\n",
        "      shutil.copy(file_path + file_name+\"_10.png\", new_path)\n",
        "      \n",
        "      copy_complete_font+=1\n",
        "\n",
        "print(copy_complete_font)"
      ]
    },
    {
      "cell_type": "code",
      "execution_count": 56,
      "metadata": {},
      "outputs": [
        {
          "name": "stdout",
          "output_type": "stream",
          "text": [
            "120\n"
          ]
        }
      ],
      "source": [
        "# 각 파일 이름에 대해 '_' 문자를 제거하여 cleaned_file_list에 추가\n",
        "for file_name in file_names:\n",
        "    cleaned_file_name = file_name.replace('_1', '')\n",
        "    cleaned_file_list.append(cleaned_file_name)\n",
        "# from fileinput import filename\n",
        "import os\n",
        "import shutil\n",
        "\n",
        "file_path = './클러스터링 결과/'+ stroke + '/'\n",
        "file_names = os.listdir(file_path)\n",
        "clust_file_path = file_path + '클러스터링 결과(' + str(dim) + ', ' + str(k) + ')/'\n",
        "os.mkdir(clust_file_path)\n",
        "\n",
        "for cluster_idx in range(k):\n",
        "  cluster_result_file = clust_file_path + 'group' + str(cluster_idx)\n",
        "  os.mkdir(cluster_result_file)\n",
        "\n",
        "copy_complete_font=0\n",
        "\n",
        "for file_name in cleaned_file_list:\n",
        "  file_name = file_name.replace(\".png\", \"\")\n",
        "  for cluster_idx in range(k):\n",
        "    if file_name in clustering_result[cluster_idx]:\n",
        "      new_path = clust_file_path + 'group' + str(cluster_idx)\n",
        "      shutil.copy(file_path + file_name+\"_1.png\", new_path)\n",
        "      \n",
        "      copy_complete_font+=1\n",
        "\n",
        "print(copy_complete_font)"
      ]
    },
    {
      "attachments": {},
      "cell_type": "markdown",
      "metadata": {
        "id": "GvH5kmixPX0l"
      },
      "source": [
        "### + k 결정(Elbow Method)\n"
      ]
    },
    {
      "cell_type": "code",
      "execution_count": 16,
      "metadata": {
        "id": "P8qpu2jQPX0m"
      },
      "outputs": [],
      "source": [
        "# from yellowbrick.cluster import KElbowVisualizer\n",
        "\n",
        "# model = KMeans()\n",
        "# visualizer = KElbowVisualizer(model, k=(1, 20))\n",
        "# visualizer.fit(data_scaled)"
      ]
    }
  ],
  "metadata": {
    "colab": {
      "provenance": []
    },
    "kernelspec": {
      "display_name": "tf2_book",
      "language": "python",
      "name": "python3"
    },
    "language_info": {
      "codemirror_mode": {
        "name": "ipython",
        "version": 3
      },
      "file_extension": ".py",
      "mimetype": "text/x-python",
      "name": "python",
      "nbconvert_exporter": "python",
      "pygments_lexer": "ipython3",
      "version": "3.8.5"
    },
    "vscode": {
      "interpreter": {
        "hash": "d2b55dfa29c968a1098ab4cb1e3c7a2f5b1d0556bed92199c78f3e1a588022a1"
      }
    }
  },
  "nbformat": 4,
  "nbformat_minor": 0
}
