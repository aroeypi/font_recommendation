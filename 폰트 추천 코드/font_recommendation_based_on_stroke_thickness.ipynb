{
 "cells": [
  {
   "cell_type": "code",
   "execution_count": 1,
   "metadata": {},
   "outputs": [],
   "source": [
    "import pandas as pd\n",
    "stroke_thickness_df = pd.read_csv('stroke_thickness.csv') #.drop(columns = ['fontname'])"
   ]
  },
  {
   "cell_type": "code",
   "execution_count": 154,
   "metadata": {},
   "outputs": [
    {
     "data": {
      "text/plain": [
       "fontname    마포마포나루\n",
       "width         32.5\n",
       "height          25\n",
       "Name: 221, dtype: object"
      ]
     },
     "execution_count": 154,
     "metadata": {},
     "output_type": "execute_result"
    }
   ],
   "source": [
    "stroke_thickness_df.loc[221]"
   ]
  },
  {
   "cell_type": "code",
   "execution_count": 58,
   "metadata": {},
   "outputs": [],
   "source": [
    "# 3개 그룹으로 나눔\n",
    "import pandas as pd\n",
    "group_names=['low','mid','high']\n",
    "stroke_thickness_df['width_level'],mybin_width = pd.cut(stroke_thickness_df['width'],3,labels=group_names,retbins=True)\n",
    "stroke_thickness_df['height_level'],mybin_height = pd.cut(stroke_thickness_df['height'],3,labels=group_names,retbins=True)"
   ]
  },
  {
   "cell_type": "code",
   "execution_count": 6,
   "metadata": {},
   "outputs": [],
   "source": [
    "# 5개 그룹으로 나눔\n",
    "import pandas as pd\n",
    "group_names=[0,1,2,3,4]\n",
    "stroke_thickness_df['width_level'],mybin_width = pd.cut(stroke_thickness_df['width'],5,labels=group_names,retbins=True)\n",
    "stroke_thickness_df['height_level'],mybin_height = pd.cut(stroke_thickness_df['height'],5,labels=group_names,retbins=True)"
   ]
  },
  {
   "cell_type": "code",
   "execution_count": 60,
   "metadata": {},
   "outputs": [],
   "source": [
    "stroke_thickness_df.drop([\"wid_level\"],axis=1, inplace=True)"
   ]
  },
  {
   "cell_type": "code",
   "execution_count": 14,
   "metadata": {},
   "outputs": [
    {
     "data": {
      "text/plain": [
       "array([ 9.458, 17.9  , 26.3  , 34.7  , 43.1  , 51.5  ])"
      ]
     },
     "execution_count": 14,
     "metadata": {},
     "output_type": "execute_result"
    }
   ],
   "source": [
    "mybin_width"
   ]
  },
  {
   "cell_type": "code",
   "execution_count": 8,
   "metadata": {},
   "outputs": [
    {
     "data": {
      "text/plain": [
       "array([ 3.959, 12.2  , 20.4  , 28.6  , 36.8  , 45.   ])"
      ]
     },
     "execution_count": 8,
     "metadata": {},
     "output_type": "execute_result"
    }
   ],
   "source": [
    "mybin_height"
   ]
  },
  {
   "cell_type": "code",
   "execution_count": 52,
   "metadata": {},
   "outputs": [],
   "source": [
    "def find_interval(input,intervals):\n",
    "    for i in range(1,len(intervals)):\n",
    "        if input <= intervals[i]:\n",
    "            return i-1\n",
    "        else:\n",
    "            return 4"
   ]
  },
  {
   "cell_type": "code",
   "execution_count": null,
   "metadata": {},
   "outputs": [],
   "source": []
  },
  {
   "cell_type": "code",
   "execution_count": 27,
   "metadata": {},
   "outputs": [
    {
     "name": "stdout",
     "output_type": "stream",
     "text": [
      "6\n",
      "The input value 43.1 belongs to interval 3\n"
     ]
    }
   ],
   "source": [
    "# 어느 구간에 속하는 지 확인하는 예제 코드\n",
    "intervals = [ 9.458, 17.9  , 26.3  , 34.7  , 43.1  , 51.5  ]\n",
    "print(len(intervals))\n",
    "def find_interval(x):\n",
    "    for i in range(1,len(intervals)):\n",
    "        if x <= intervals[i]:\n",
    "            return i-1\n",
    "        elif x > intervals[len(intervals)-1]:\n",
    "            return 4\n",
    "\n",
    "# 입력값을 예시로 설정\n",
    "x = 43.1\n",
    "# 입력값이 속한 구간을 찾아 출력\n",
    "interval_index = find_interval(x)\n",
    "print(f\"The input value {x} belongs to interval {interval_index}\")"
   ]
  },
  {
   "cell_type": "code",
   "execution_count": 10,
   "metadata": {},
   "outputs": [
    {
     "data": {
      "text/html": [
       "<div>\n",
       "<style scoped>\n",
       "    .dataframe tbody tr th:only-of-type {\n",
       "        vertical-align: middle;\n",
       "    }\n",
       "\n",
       "    .dataframe tbody tr th {\n",
       "        vertical-align: top;\n",
       "    }\n",
       "\n",
       "    .dataframe thead th {\n",
       "        text-align: right;\n",
       "    }\n",
       "</style>\n",
       "<table border=\"1\" class=\"dataframe\">\n",
       "  <thead>\n",
       "    <tr style=\"text-align: right;\">\n",
       "      <th></th>\n",
       "      <th>fontname</th>\n",
       "      <th>width</th>\n",
       "      <th>height</th>\n",
       "      <th>width_level</th>\n",
       "      <th>height_level</th>\n",
       "    </tr>\n",
       "  </thead>\n",
       "  <tbody>\n",
       "    <tr>\n",
       "      <th>0</th>\n",
       "      <td>텐바이텐 폰트</td>\n",
       "      <td>31.0</td>\n",
       "      <td>18</td>\n",
       "      <td>2</td>\n",
       "      <td>1</td>\n",
       "    </tr>\n",
       "    <tr>\n",
       "      <th>1</th>\n",
       "      <td>텐바이텐 폰트 Bold</td>\n",
       "      <td>37.0</td>\n",
       "      <td>24</td>\n",
       "      <td>3</td>\n",
       "      <td>2</td>\n",
       "    </tr>\n",
       "    <tr>\n",
       "      <th>2</th>\n",
       "      <td>116앵무부리</td>\n",
       "      <td>13.0</td>\n",
       "      <td>11</td>\n",
       "      <td>0</td>\n",
       "      <td>0</td>\n",
       "    </tr>\n",
       "    <tr>\n",
       "      <th>3</th>\n",
       "      <td>116수박화체</td>\n",
       "      <td>38.0</td>\n",
       "      <td>13</td>\n",
       "      <td>3</td>\n",
       "      <td>1</td>\n",
       "    </tr>\n",
       "    <tr>\n",
       "      <th>4</th>\n",
       "      <td>12롯데마트드림Bold</td>\n",
       "      <td>33.0</td>\n",
       "      <td>20</td>\n",
       "      <td>2</td>\n",
       "      <td>1</td>\n",
       "    </tr>\n",
       "    <tr>\n",
       "      <th>...</th>\n",
       "      <td>...</td>\n",
       "      <td>...</td>\n",
       "      <td>...</td>\n",
       "      <td>...</td>\n",
       "      <td>...</td>\n",
       "    </tr>\n",
       "    <tr>\n",
       "      <th>415</th>\n",
       "      <td>행복고흥L</td>\n",
       "      <td>21.0</td>\n",
       "      <td>23</td>\n",
       "      <td>1</td>\n",
       "      <td>2</td>\n",
       "    </tr>\n",
       "    <tr>\n",
       "      <th>416</th>\n",
       "      <td>행복고흥M</td>\n",
       "      <td>27.0</td>\n",
       "      <td>33</td>\n",
       "      <td>2</td>\n",
       "      <td>3</td>\n",
       "    </tr>\n",
       "    <tr>\n",
       "      <th>417</th>\n",
       "      <td>헬스셋고딕Bold</td>\n",
       "      <td>29.0</td>\n",
       "      <td>19</td>\n",
       "      <td>2</td>\n",
       "      <td>1</td>\n",
       "    </tr>\n",
       "    <tr>\n",
       "      <th>418</th>\n",
       "      <td>헬스셋고딕Light</td>\n",
       "      <td>22.0</td>\n",
       "      <td>14</td>\n",
       "      <td>1</td>\n",
       "      <td>1</td>\n",
       "    </tr>\n",
       "    <tr>\n",
       "      <th>419</th>\n",
       "      <td>헬스셋조릿대Std</td>\n",
       "      <td>33.0</td>\n",
       "      <td>31</td>\n",
       "      <td>2</td>\n",
       "      <td>3</td>\n",
       "    </tr>\n",
       "  </tbody>\n",
       "</table>\n",
       "<p>420 rows × 5 columns</p>\n",
       "</div>"
      ],
      "text/plain": [
       "         fontname  width  height width_level height_level\n",
       "0         텐바이텐 폰트   31.0      18           2            1\n",
       "1    텐바이텐 폰트 Bold   37.0      24           3            2\n",
       "2         116앵무부리   13.0      11           0            0\n",
       "3         116수박화체   38.0      13           3            1\n",
       "4    12롯데마트드림Bold   33.0      20           2            1\n",
       "..            ...    ...     ...         ...          ...\n",
       "415         행복고흥L   21.0      23           1            2\n",
       "416         행복고흥M   27.0      33           2            3\n",
       "417     헬스셋고딕Bold   29.0      19           2            1\n",
       "418    헬스셋고딕Light   22.0      14           1            1\n",
       "419     헬스셋조릿대Std   33.0      31           2            3\n",
       "\n",
       "[420 rows x 5 columns]"
      ]
     },
     "execution_count": 10,
     "metadata": {},
     "output_type": "execute_result"
    }
   ],
   "source": [
    "stroke_thickness_df"
   ]
  },
  {
   "cell_type": "code",
   "execution_count": 49,
   "metadata": {},
   "outputs": [
    {
     "data": {
      "text/html": [
       "<div>\n",
       "<style scoped>\n",
       "    .dataframe tbody tr th:only-of-type {\n",
       "        vertical-align: middle;\n",
       "    }\n",
       "\n",
       "    .dataframe tbody tr th {\n",
       "        vertical-align: top;\n",
       "    }\n",
       "\n",
       "    .dataframe thead th {\n",
       "        text-align: right;\n",
       "    }\n",
       "</style>\n",
       "<table border=\"1\" class=\"dataframe\">\n",
       "  <thead>\n",
       "    <tr style=\"text-align: right;\">\n",
       "      <th></th>\n",
       "      <th>fontname</th>\n",
       "      <th>width</th>\n",
       "      <th>height</th>\n",
       "      <th>width_level</th>\n",
       "      <th>height_level</th>\n",
       "    </tr>\n",
       "  </thead>\n",
       "  <tbody>\n",
       "    <tr>\n",
       "      <th>5</th>\n",
       "      <td>12롯데마트드림Light</td>\n",
       "      <td>21.5</td>\n",
       "      <td>14</td>\n",
       "      <td>1</td>\n",
       "      <td>1</td>\n",
       "    </tr>\n",
       "    <tr>\n",
       "      <th>16</th>\n",
       "      <td>경기천년바탕 Bold</td>\n",
       "      <td>24.5</td>\n",
       "      <td>16</td>\n",
       "      <td>1</td>\n",
       "      <td>1</td>\n",
       "    </tr>\n",
       "    <tr>\n",
       "      <th>17</th>\n",
       "      <td>경기천년바탕 Regular</td>\n",
       "      <td>18.5</td>\n",
       "      <td>12</td>\n",
       "      <td>1</td>\n",
       "      <td>0</td>\n",
       "    </tr>\n",
       "    <tr>\n",
       "      <th>21</th>\n",
       "      <td>김포평화바탕</td>\n",
       "      <td>20.5</td>\n",
       "      <td>13</td>\n",
       "      <td>1</td>\n",
       "      <td>1</td>\n",
       "    </tr>\n",
       "    <tr>\n",
       "      <th>22</th>\n",
       "      <td>순천체R</td>\n",
       "      <td>24.0</td>\n",
       "      <td>16</td>\n",
       "      <td>1</td>\n",
       "      <td>1</td>\n",
       "    </tr>\n",
       "    <tr>\n",
       "      <th>...</th>\n",
       "      <td>...</td>\n",
       "      <td>...</td>\n",
       "      <td>...</td>\n",
       "      <td>...</td>\n",
       "      <td>...</td>\n",
       "    </tr>\n",
       "    <tr>\n",
       "      <th>407</th>\n",
       "      <td>한글틀고딕</td>\n",
       "      <td>24.0</td>\n",
       "      <td>16</td>\n",
       "      <td>1</td>\n",
       "      <td>1</td>\n",
       "    </tr>\n",
       "    <tr>\n",
       "      <th>410</th>\n",
       "      <td>한울림체 R</td>\n",
       "      <td>24.5</td>\n",
       "      <td>16</td>\n",
       "      <td>1</td>\n",
       "      <td>1</td>\n",
       "    </tr>\n",
       "    <tr>\n",
       "      <th>412</th>\n",
       "      <td>해수체L</td>\n",
       "      <td>23.0</td>\n",
       "      <td>14</td>\n",
       "      <td>1</td>\n",
       "      <td>1</td>\n",
       "    </tr>\n",
       "    <tr>\n",
       "      <th>415</th>\n",
       "      <td>행복고흥L</td>\n",
       "      <td>21.0</td>\n",
       "      <td>23</td>\n",
       "      <td>1</td>\n",
       "      <td>2</td>\n",
       "    </tr>\n",
       "    <tr>\n",
       "      <th>418</th>\n",
       "      <td>헬스셋고딕Light</td>\n",
       "      <td>22.0</td>\n",
       "      <td>14</td>\n",
       "      <td>1</td>\n",
       "      <td>1</td>\n",
       "    </tr>\n",
       "  </tbody>\n",
       "</table>\n",
       "<p>140 rows × 5 columns</p>\n",
       "</div>"
      ],
      "text/plain": [
       "           fontname  width  height width_level height_level\n",
       "5     12롯데마트드림Light   21.5      14           1            1\n",
       "16      경기천년바탕 Bold   24.5      16           1            1\n",
       "17   경기천년바탕 Regular   18.5      12           1            0\n",
       "21           김포평화바탕   20.5      13           1            1\n",
       "22             순천체R   24.0      16           1            1\n",
       "..              ...    ...     ...         ...          ...\n",
       "407           한글틀고딕   24.0      16           1            1\n",
       "410          한울림체 R   24.5      16           1            1\n",
       "412            해수체L   23.0      14           1            1\n",
       "415           행복고흥L   21.0      23           1            2\n",
       "418      헬스셋고딕Light   22.0      14           1            1\n",
       "\n",
       "[140 rows x 5 columns]"
      ]
     },
     "execution_count": 49,
     "metadata": {},
     "output_type": "execute_result"
    }
   ],
   "source": [
    "width_low_df = stroke_thickness_df[stroke_thickness_df['width_level'] == 1]\n",
    "width_low_df"
   ]
  },
  {
   "cell_type": "code",
   "execution_count": 50,
   "metadata": {},
   "outputs": [
    {
     "data": {
      "text/html": [
       "<div>\n",
       "<style scoped>\n",
       "    .dataframe tbody tr th:only-of-type {\n",
       "        vertical-align: middle;\n",
       "    }\n",
       "\n",
       "    .dataframe tbody tr th {\n",
       "        vertical-align: top;\n",
       "    }\n",
       "\n",
       "    .dataframe thead th {\n",
       "        text-align: right;\n",
       "    }\n",
       "</style>\n",
       "<table border=\"1\" class=\"dataframe\">\n",
       "  <thead>\n",
       "    <tr style=\"text-align: right;\">\n",
       "      <th></th>\n",
       "      <th>fontname</th>\n",
       "      <th>width</th>\n",
       "      <th>height</th>\n",
       "      <th>width_level</th>\n",
       "      <th>height_level</th>\n",
       "    </tr>\n",
       "  </thead>\n",
       "  <tbody>\n",
       "    <tr>\n",
       "      <th>5</th>\n",
       "      <td>12롯데마트드림Light</td>\n",
       "      <td>21.5</td>\n",
       "      <td>14</td>\n",
       "      <td>1</td>\n",
       "      <td>1</td>\n",
       "    </tr>\n",
       "    <tr>\n",
       "      <th>16</th>\n",
       "      <td>경기천년바탕 Bold</td>\n",
       "      <td>24.5</td>\n",
       "      <td>16</td>\n",
       "      <td>1</td>\n",
       "      <td>1</td>\n",
       "    </tr>\n",
       "    <tr>\n",
       "      <th>21</th>\n",
       "      <td>김포평화바탕</td>\n",
       "      <td>20.5</td>\n",
       "      <td>13</td>\n",
       "      <td>1</td>\n",
       "      <td>1</td>\n",
       "    </tr>\n",
       "    <tr>\n",
       "      <th>22</th>\n",
       "      <td>순천체R</td>\n",
       "      <td>24.0</td>\n",
       "      <td>16</td>\n",
       "      <td>1</td>\n",
       "      <td>1</td>\n",
       "    </tr>\n",
       "    <tr>\n",
       "      <th>26</th>\n",
       "      <td>전주완판본 순체 R</td>\n",
       "      <td>24.0</td>\n",
       "      <td>13</td>\n",
       "      <td>1</td>\n",
       "      <td>1</td>\n",
       "    </tr>\n",
       "    <tr>\n",
       "      <th>...</th>\n",
       "      <td>...</td>\n",
       "      <td>...</td>\n",
       "      <td>...</td>\n",
       "      <td>...</td>\n",
       "      <td>...</td>\n",
       "    </tr>\n",
       "    <tr>\n",
       "      <th>405</th>\n",
       "      <td>중나좋체 Light</td>\n",
       "      <td>25.0</td>\n",
       "      <td>15</td>\n",
       "      <td>1</td>\n",
       "      <td>1</td>\n",
       "    </tr>\n",
       "    <tr>\n",
       "      <th>407</th>\n",
       "      <td>한글틀고딕</td>\n",
       "      <td>24.0</td>\n",
       "      <td>16</td>\n",
       "      <td>1</td>\n",
       "      <td>1</td>\n",
       "    </tr>\n",
       "    <tr>\n",
       "      <th>410</th>\n",
       "      <td>한울림체 R</td>\n",
       "      <td>24.5</td>\n",
       "      <td>16</td>\n",
       "      <td>1</td>\n",
       "      <td>1</td>\n",
       "    </tr>\n",
       "    <tr>\n",
       "      <th>412</th>\n",
       "      <td>해수체L</td>\n",
       "      <td>23.0</td>\n",
       "      <td>14</td>\n",
       "      <td>1</td>\n",
       "      <td>1</td>\n",
       "    </tr>\n",
       "    <tr>\n",
       "      <th>418</th>\n",
       "      <td>헬스셋고딕Light</td>\n",
       "      <td>22.0</td>\n",
       "      <td>14</td>\n",
       "      <td>1</td>\n",
       "      <td>1</td>\n",
       "    </tr>\n",
       "  </tbody>\n",
       "</table>\n",
       "<p>90 rows × 5 columns</p>\n",
       "</div>"
      ],
      "text/plain": [
       "          fontname  width  height width_level height_level\n",
       "5    12롯데마트드림Light   21.5      14           1            1\n",
       "16     경기천년바탕 Bold   24.5      16           1            1\n",
       "21          김포평화바탕   20.5      13           1            1\n",
       "22            순천체R   24.0      16           1            1\n",
       "26      전주완판본 순체 R   24.0      13           1            1\n",
       "..             ...    ...     ...         ...          ...\n",
       "405     중나좋체 Light   25.0      15           1            1\n",
       "407          한글틀고딕   24.0      16           1            1\n",
       "410         한울림체 R   24.5      16           1            1\n",
       "412           해수체L   23.0      14           1            1\n",
       "418     헬스셋고딕Light   22.0      14           1            1\n",
       "\n",
       "[90 rows x 5 columns]"
      ]
     },
     "execution_count": 50,
     "metadata": {},
     "output_type": "execute_result"
    }
   ],
   "source": [
    "stroke_thickness_df.loc[(stroke_thickness_df['width_level'] == 1) & (stroke_thickness_df['height_level'] == 1)]"
   ]
  },
  {
   "cell_type": "code",
   "execution_count": 11,
   "metadata": {},
   "outputs": [],
   "source": [
    "stroke_thickness_df.to_csv('stroke_thickness_binning.csv',index=False)"
   ]
  },
  {
   "cell_type": "code",
   "execution_count": 34,
   "metadata": {},
   "outputs": [],
   "source": [
    "import numpy as np\n",
    "# 입력 형태소 가로, 세로 길이 계산하는 함수\n",
    "def stroke_width_height(img_np,flag):\n",
    "    \n",
    "    n = len(img_np)-1\n",
    "    if flag=='width':\n",
    "        img_np_tf = img_np[n]<128\n",
    "    elif flag=='height':\n",
    "        img_np_tf = img_np.T[0] <128\n",
    "    # 처음 나타나는 True의 인덱스를 찾습니다.\n",
    "    first_true = np.argmax(img_np_tf)\n",
    "    # 마지막으로 나타나는 True의 인덱스를 찾습니다.\n",
    "    last_true = len(img_np_tf) - np.argmax(img_np_tf[::-1]) - 1\n",
    "    # 처음 나타나는 True와 마지막으로 나타나는 True 사이의 모든 요소를 True로 설정합니다.\n",
    "    img_np_tf[first_true:last_true+1] = True\n",
    "    a= (img_np_tf).sum()\n",
    "    \n",
    "    return a"
   ]
  },
  {
   "cell_type": "code",
   "execution_count": 54,
   "metadata": {},
   "outputs": [],
   "source": [
    "\n",
    "# 입력 형태소 이미지 넘파이 배열로 저장\n",
    "import os\n",
    "from PIL import Image\n",
    "import numpy as np\n",
    "\n",
    "input_path = './test_img/'\n",
    "input_list_np = []\n",
    "filenames = []\n",
    "for file in os.listdir(input_path):\n",
    "  filename = os.fsdecode(file)\n",
    "  filenames.append(filename)\n",
    "\n",
    "  img = Image.open(os.path.join(input_path, filename)).convert('L')\n",
    "  # img_resize = img.resize((70, 70)) #이미지 크기를 (70,70)\n",
    "  img_array = np.array(img)\n",
    "  input_list_np.append(img_array)\n",
    "  # img_np = np.array(input_list_np) #리스트를 numpy로 변환\n",
    "\n",
    "imgs = {}\n",
    "for i, img_array in enumerate(input_list_np):\n",
    "  imgs[filenames[i]] = np.array(img_array)\n"
   ]
  },
  {
   "cell_type": "code",
   "execution_count": 55,
   "metadata": {},
   "outputs": [],
   "source": [
    "img = Image.open(os.path.join('./test_img/', 'Buri.png')).convert('L')"
   ]
  },
  {
   "cell_type": "code",
   "execution_count": 56,
   "metadata": {},
   "outputs": [
    {
     "data": {
      "text/plain": [
       "(34, 38)"
      ]
     },
     "execution_count": 56,
     "metadata": {},
     "output_type": "execute_result"
    }
   ],
   "source": [
    "img_array= np.array(img)\n",
    "img_array.shape\n"
   ]
  },
  {
   "cell_type": "code",
   "execution_count": 32,
   "metadata": {},
   "outputs": [
    {
     "data": {
      "text/plain": [
       "38"
      ]
     },
     "execution_count": 32,
     "metadata": {},
     "output_type": "execute_result"
    }
   ],
   "source": [
    "len(img_array[33])"
   ]
  },
  {
   "cell_type": "code",
   "execution_count": 21,
   "metadata": {},
   "outputs": [
    {
     "data": {
      "image/png": "[encoded data removed]",
      "text/plain": [
       "<Figure size 640x480 with 1 Axes>"
      ]
     },
     "metadata": {},
     "output_type": "display_data"
    }
   ],
   "source": [
    "import matplotlib.pylab as plt\n",
    "\n",
    "plt.imshow(img_array, cmap='gray')\n",
    "plt.show()"
   ]
  },
  {
   "cell_type": "code",
   "execution_count": 14,
   "metadata": {},
   "outputs": [
    {
     "data": {
      "text/plain": [
       "47"
      ]
     },
     "execution_count": 14,
     "metadata": {},
     "output_type": "execute_result"
    }
   ],
   "source": [
    "len(imgs['Bbichim.png'])"
   ]
  },
  {
   "cell_type": "code",
   "execution_count": 10,
   "metadata": {},
   "outputs": [],
   "source": [
    "kkeokim_np_array = imgs['Kkeokim.png']"
   ]
  },
  {
   "cell_type": "code",
   "execution_count": 29,
   "metadata": {},
   "outputs": [],
   "source": [
    "tf = kkeokim_np_array[69]<128"
   ]
  },
  {
   "cell_type": "code",
   "execution_count": 34,
   "metadata": {},
   "outputs": [
    {
     "data": {
      "text/plain": [
       "array([False, False, False, False, False, False, False, False, False,\n",
       "       False, False, False, False, False, False, False, False, False,\n",
       "       False, False, False, False, False, False, False, False, False,\n",
       "       False, False, False, False, False,  True,  True,  True,  True,\n",
       "        True,  True,  True,  True,  True,  True,  True,  True,  True,\n",
       "        True,  True,  True,  True,  True,  True,  True,  True, False,\n",
       "       False, False, False, False, False, False, False, False, False,\n",
       "       False, False, False, False, False, False, False])"
      ]
     },
     "execution_count": 34,
     "metadata": {},
     "output_type": "execute_result"
    }
   ],
   "source": [
    "tf"
   ]
  },
  {
   "cell_type": "code",
   "execution_count": 35,
   "metadata": {},
   "outputs": [
    {
     "data": {
      "text/plain": [
       "array([False, False, False, False, False, False, False, False, False,\n",
       "       False, False, False, False, False, False, False, False,  True,\n",
       "        True,  True,  True,  True,  True,  True,  True,  True,  True,\n",
       "        True,  True,  True,  True,  True,  True,  True,  True,  True,\n",
       "        True,  True, False, False, False, False, False, False, False,\n",
       "       False, False, False, False, False, False, False, False, False,\n",
       "       False, False, False, False, False, False, False, False, False,\n",
       "       False, False, False, False, False, False, False])"
      ]
     },
     "execution_count": 35,
     "metadata": {},
     "output_type": "execute_result"
    }
   ],
   "source": [
    "tf[::-1]"
   ]
  },
  {
   "cell_type": "code",
   "execution_count": 11,
   "metadata": {},
   "outputs": [
    {
     "data": {
      "text/plain": [
       "['Bbichim.png', 'Buri.png', 'Kkeokim.png', 'Kkokjijum.png', 'Sangtu.png']"
      ]
     },
     "execution_count": 11,
     "metadata": {},
     "output_type": "execute_result"
    }
   ],
   "source": [
    "filenames"
   ]
  },
  {
   "cell_type": "code",
   "execution_count": 57,
   "metadata": {},
   "outputs": [
    {
     "name": "stdout",
     "output_type": "stream",
     "text": [
      "kkeokim true\n",
      "buri true\n"
     ]
    }
   ],
   "source": [
    "width_list = []\n",
    "height_list = []\n",
    "if 'Kkeokim.png' in filenames:\n",
    "    kkeokim_width = stroke_width_height(imgs['Kkeokim.png'],'width')\n",
    "    kkeokim_height = stroke_width_height(imgs['Kkeokim.png'],'height')\n",
    "    width_list.append(kkeokim_width)\n",
    "    height_list.append(kkeokim_height)\n",
    "    print('kkeokim true')\n",
    "if 'Buri.png' in filenames:\n",
    "    buri_width = stroke_width_height(imgs['Buri.png'],'width')\n",
    "    width_list.append(buri_width)\n",
    "    print('buri true')\n",
    "if 'Gaji.png' in filenames:\n",
    "    gaji_width = stroke_width_height(imgs['Gaji.png'],'width')\n",
    "    gaji_height = stroke_width_height(imgs['Gaji.png'],'height')\n",
    "    print('gaji true')"
   ]
  },
  {
   "cell_type": "code",
   "execution_count": 58,
   "metadata": {},
   "outputs": [
    {
     "data": {
      "text/plain": [
       "18.0"
      ]
     },
     "execution_count": 58,
     "metadata": {},
     "output_type": "execute_result"
    }
   ],
   "source": [
    "# 입력 형태소 가로 굵기 평균\n",
    "width_np_array=  np.array(width_list)\n",
    "width = width_np_array.sum()\n",
    "n = len(width_np_array)\n",
    "width_avg = width/n\n",
    "width_avg"
   ]
  },
  {
   "cell_type": "code",
   "execution_count": 59,
   "metadata": {},
   "outputs": [
    {
     "data": {
      "text/plain": [
       "17.0"
      ]
     },
     "execution_count": 59,
     "metadata": {},
     "output_type": "execute_result"
    }
   ],
   "source": [
    "# 입력 형태소 세로 굵기 평균\n",
    "height_np_array= np.array(height_list)\n",
    "height = height_np_array.sum()\n",
    "n = len(height_np_array)\n",
    "height_avg = height/n\n",
    "height_avg"
   ]
  },
  {
   "cell_type": "code",
   "execution_count": 60,
   "metadata": {},
   "outputs": [
    {
     "data": {
      "text/plain": [
       "array([['18.0', '17.0']], dtype=object)"
      ]
     },
     "execution_count": 60,
     "metadata": {},
     "output_type": "execute_result"
    }
   ],
   "source": [
    "input = np.array(['input', width_avg, height_avg])\n",
    "stroke_thickness_df.loc[420] = input\n",
    "stroke_thickness_df.iloc[[-1]].iloc[:, 1:].values"
   ]
  },
  {
   "cell_type": "code",
   "execution_count": 61,
   "metadata": {},
   "outputs": [],
   "source": [
    "from sklearn.metrics.pairwise import cosine_similarity\n",
    "font_recommendation_list = []\n",
    "font_recommendation_sim = []\n",
    "test_font_vec =stroke_thickness_df.iloc[[-1]].iloc[:, 1:]\n",
    "for i in range(stroke_thickness_df.shape[0]-1):\n",
    "  font_recommendation_list.append(stroke_thickness_df.iloc[i]['fontname'])\n",
    "  font_recommendation_sim.append(cosine_similarity(test_font_vec.values, stroke_thickness_df.iloc[[i]].iloc[:, 1:].values)[0][0])"
   ]
  },
  {
   "cell_type": "code",
   "execution_count": 62,
   "metadata": {},
   "outputs": [
    {
     "data": {
      "text/plain": [
       "[0.9914874417273325,\n",
       " 0.9966322154577559,\n",
       " 0.9999348492606654,\n",
       " 0.8736585405855071,\n",
       " 0.9970045142789369,\n",
       " 0.9978558004211179,\n",
       " 0.9970895544587345,\n",
       " 0.9963062505926453,\n",
       " 0.9962428290175821,\n",
       " 0.9955269606759023,\n",
       " 0.9918142992769632,\n",
       " 0.9913074500107062,\n",
       " 0.9911935151682327,\n",
       " 0.9930554281808166,\n",
       " 0.9935846418180838,\n",
       " 0.9930554281808166,\n",
       " 0.9944128560114232,\n",
       " 0.998838208144504,\n",
       " 0.916610281486143,\n",
       " 0.9511884769858356,\n",
       " 0.9686538052228895,\n",
       " 0.9878938000592865,\n",
       " 0.9995442512120553,\n",
       " 0.9994691719928369,\n",
       " 0.9670327698091132,\n",
       " 0.975810287547736,\n",
       " 0.9685291962213972,\n",
       " 0.9670327698091132,\n",
       " 0.975810287547736,\n",
       " 0.9685291962213972,\n",
       " 0.999042085761543,\n",
       " 0.9754855783216217,\n",
       " 0.9999988092537654,\n",
       " 0.9602267475560817,\n",
       " 0.9999512037463184,\n",
       " 0.9962008751667287,\n",
       " 0.9999529750398799,\n",
       " 0.965085866522597,\n",
       " 0.9739483255515855,\n",
       " 0.9501773625834811,\n",
       " 0.9521109423699002,\n",
       " 0.9987041324026096,\n",
       " 0.998838208144504,\n",
       " 0.9990110653928119,\n",
       " 0.9977971227613771,\n",
       " 0.9985521462739706,\n",
       " 0.9980726485818241,\n",
       " 0.9549267422589123,\n",
       " 0.9670327698091132,\n",
       " 0.9626092990926453,\n",
       " 0.9828447030651812,\n",
       " 0.9999825629212131,\n",
       " 0.9970895544587345,\n",
       " 0.9982640308689817,\n",
       " 0.9975712211547988,\n",
       " 0.9871995295700831,\n",
       " 0.9992779156819374,\n",
       " 0.989345122114393,\n",
       " 0.9994890554339839,\n",
       " 0.9954155171084782,\n",
       " 0.9947551289554901,\n",
       " 0.9980726485818241,\n",
       " 0.9989568596260474,\n",
       " 0.9995999893844133,\n",
       " 0.9986190909917239,\n",
       " 0.9794352658690454,\n",
       " 0.9942847975815376,\n",
       " 0.9985521462739706,\n",
       " 0.91878545953044,\n",
       " 0.922427375659536,\n",
       " 0.999995712681032,\n",
       " 0.9998191357998507,\n",
       " 0.9999348492606654,\n",
       " 0.9986305517803309,\n",
       " 0.9997711413253698,\n",
       " 0.999999972396335,\n",
       " 0.999829563818623,\n",
       " 0.9996764755297116,\n",
       " 0.9906867583021696,\n",
       " 0.9995920864606949,\n",
       " 0.9927695221361963,\n",
       " 0.9998786751486889,\n",
       " 0.9997115479897084,\n",
       " 0.9997527003656018,\n",
       " 0.9999392628060174,\n",
       " 0.9532218237209864,\n",
       " 0.9366380997482383,\n",
       " 0.9552687799930655,\n",
       " 0.9980140933091634,\n",
       " 0.9928938921156302,\n",
       " 0.9611964965827836,\n",
       " 0.9924681065620521,\n",
       " 0.9656421655532025,\n",
       " 0.9935846418180838,\n",
       " 0.9972248220658021,\n",
       " 0.9971484913964055,\n",
       " 0.9950066196104274,\n",
       " 0.9998951654441717,\n",
       " 0.99995297503988,\n",
       " 0.9889151951316503,\n",
       " 0.9816846014761474,\n",
       " 0.9999932169359542,\n",
       " 0.9999932169359542,\n",
       " 0.9997369550364654,\n",
       " 0.999637278927466,\n",
       " 0.9918142992769632,\n",
       " 0.9983083304276787,\n",
       " 0.9976949940346217,\n",
       " 0.9993999852581202,\n",
       " 0.9899106363400042,\n",
       " 0.9846473361653922,\n",
       " 0.9991170404874545,\n",
       " 0.9999985033737697,\n",
       " 0.9573277107867141,\n",
       " 0.9656421655532024,\n",
       " 0.9976293166386891,\n",
       " 0.9975119744053447,\n",
       " 0.9948427299322021,\n",
       " 0.9970316335015612,\n",
       " 0.9890465550605992,\n",
       " 0.9983792630413255,\n",
       " 0.9208213859876311,\n",
       " 0.97979932706861,\n",
       " 0.9831437819743591,\n",
       " 0.9999713840663822,\n",
       " 0.9948898218061587,\n",
       " 0.9999713840663822,\n",
       " 0.8485819085317452,\n",
       " 0.9971840354055441,\n",
       " 0.9994691719928369,\n",
       " 0.9978558004211179,\n",
       " 0.9971840354055441,\n",
       " 0.9999642443718293,\n",
       " 0.9451835422725094,\n",
       " 0.9987183013540621,\n",
       " 0.9982640308689817,\n",
       " 0.9918142992769632,\n",
       " 0.9826682680598722,\n",
       " 0.949170173640112,\n",
       " 0.9999988092537654,\n",
       " 0.9873740538893051,\n",
       " 0.9905093223843112,\n",
       " 0.9959950116113943,\n",
       " 0.9966322154577559,\n",
       " 0.9998774585042289,\n",
       " 0.9734910013397218,\n",
       " 0.9640376596263858,\n",
       " 0.997327544192468,\n",
       " 0.9976949940346217,\n",
       " 0.9918142992769632,\n",
       " 0.9982640308689817,\n",
       " 0.9999798699680436,\n",
       " 0.9793571125518131,\n",
       " 0.9786557307913997,\n",
       " 0.9906867583021693,\n",
       " 0.9895157187977703,\n",
       " 0.9997634009351082,\n",
       " 0.9970426809065477,\n",
       " 0.998181871969999,\n",
       " 0.9999189089391105,\n",
       " 0.9670327698091132,\n",
       " 0.975810287547736,\n",
       " 0.9999998463626394,\n",
       " 0.9999998463626394,\n",
       " 0.9999912711317412,\n",
       " 0.9999912711317412,\n",
       " 0.9790244237494756,\n",
       " 0.9954155171084782,\n",
       " 0.9645991501151173,\n",
       " 0.9614738183410046,\n",
       " 0.9989707140731998,\n",
       " 0.9897837301268503,\n",
       " 0.9995920864606949,\n",
       " 0.9995920864606949,\n",
       " 0.9855067179008636,\n",
       " 0.993010683180176,\n",
       " 0.8191767017841142,\n",
       " 0.99980567886403,\n",
       " 0.9544484642331986,\n",
       " 0.9464027373865188,\n",
       " 0.9451835422725094,\n",
       " 0.9999825629212131,\n",
       " 0.999637278927466,\n",
       " 0.9930554281808166,\n",
       " 0.9948898218061588,\n",
       " 0.995415517108478,\n",
       " 0.9982640308689817,\n",
       " 0.9573277107867141,\n",
       " 0.9942752167285518,\n",
       " 0.9990110653928119,\n",
       " 0.9921797198547168,\n",
       " 0.9948898218061587,\n",
       " 0.9980726485818241,\n",
       " 0.9948898218061587,\n",
       " 0.9956982494456907,\n",
       " 0.9971484913964055,\n",
       " 0.9515939860116832,\n",
       " 0.9351750381089532,\n",
       " 0.9466703411184454,\n",
       " 0.9532218237209864,\n",
       " 0.9960824443573912,\n",
       " 0.9985315901148811,\n",
       " 0.9967094112089585,\n",
       " 0.9995920864606949,\n",
       " 0.9677277615575092,\n",
       " 0.9573277107867141,\n",
       " 0.9766735284979275,\n",
       " 0.9979555783258939,\n",
       " 0.9966322154577559,\n",
       " 0.999042085761543,\n",
       " 0.9801241278410581,\n",
       " 0.9766735284979277,\n",
       " 0.9999347641880474,\n",
       " 0.9998413814926359,\n",
       " 0.9994269690719781,\n",
       " 0.9989363352785394,\n",
       " 0.9966322154577559,\n",
       " 0.9700697649445544,\n",
       " 0.9999998463626394,\n",
       " 0.9631396477794888,\n",
       " 0.9997739186692859,\n",
       " 0.999155887096839,\n",
       " 0.9509634537707969,\n",
       " 0.9584820122450447,\n",
       " 0.9992779156819374,\n",
       " 0.9966322154577559,\n",
       " 0.9959950116113943,\n",
       " 0.9573277107867141,\n",
       " 0.9573277107867141,\n",
       " 0.9599625294553992,\n",
       " 0.9595562762743991,\n",
       " 0.9969825324528263,\n",
       " 0.9999932169359542,\n",
       " 0.9956982494456909,\n",
       " 0.9992779156819374,\n",
       " 0.9957955861735607,\n",
       " 0.9918142992769632,\n",
       " 0.9845382515773242,\n",
       " 0.9998507776306403,\n",
       " 0.9996638934646349,\n",
       " 0.9982117280815079,\n",
       " 0.9999946446711188,\n",
       " 0.9959399890858123,\n",
       " 0.9945981313648431,\n",
       " 0.9927174879842537,\n",
       " 0.9957955861735607,\n",
       " 0.9954155171084782,\n",
       " 0.9951990560257169,\n",
       " 0.998838208144504,\n",
       " 0.9906880704422565,\n",
       " 0.9611964965827836,\n",
       " 0.9975712211547988,\n",
       " 0.919185045522097,\n",
       " 0.9328630326886952,\n",
       " 0.9999763158113603,\n",
       " 0.9979205914843796,\n",
       " 0.99688632771314,\n",
       " 0.9986626556799859,\n",
       " 0.9961488001155888,\n",
       " 0.9996638934646349,\n",
       " 0.9969461236774056,\n",
       " 0.9966322154577559,\n",
       " 0.9960824443573912,\n",
       " 0.9992779156819374,\n",
       " 0.9950170232835596,\n",
       " 0.9552687799930655,\n",
       " 0.9776182270170234,\n",
       " 0.9495359602239324,\n",
       " 0.9928156696131218,\n",
       " 0.9999144721285368,\n",
       " 0.9573277107867141,\n",
       " 0.9985110138655007,\n",
       " 0.9404967240099769,\n",
       " 0.999155887096839,\n",
       " 0.9946797478057359,\n",
       " 0.9766735284979275,\n",
       " 0.9068346612107668,\n",
       " 0.9532218237209864,\n",
       " 0.9966322154577559,\n",
       " 0.9978558004211179,\n",
       " 0.8683163311011979,\n",
       " 0.9970895544587345,\n",
       " 0.9959950116113943,\n",
       " 0.9982640308689817,\n",
       " 0.9980726485818241,\n",
       " 0.9998191357998507,\n",
       " 0.9999066388347139,\n",
       " 0.9998578799465213,\n",
       " 0.9993812597649178,\n",
       " 0.9935846418180838,\n",
       " 0.9994691719928369,\n",
       " 0.9664244437725821,\n",
       " 0.9786557307913997,\n",
       " 0.9974182868021725,\n",
       " 0.9573277107867142,\n",
       " 0.9918142992769632,\n",
       " 0.9996638934646349,\n",
       " 0.9989645446435537,\n",
       " 0.997408072517414,\n",
       " 1.0,\n",
       " 0.9966322154577559,\n",
       " 0.9997115479897084,\n",
       " 0.9990545493010923,\n",
       " 0.9950170232835596,\n",
       " 0.9991754757997984,\n",
       " 0.9999642443718293,\n",
       " 0.9995920864606949,\n",
       " 0.9997885719294595,\n",
       " 0.986806351983963,\n",
       " 0.9994269690719781,\n",
       " 0.993920768533773,\n",
       " 0.994412856011423,\n",
       " 0.9955753914226649,\n",
       " 0.9992071816320736,\n",
       " 0.9998191357998507,\n",
       " 0.9966322154577559,\n",
       " 0.9985841115829752,\n",
       " 0.9985841115829752,\n",
       " 0.9983083304276787,\n",
       " 0.9983083304276787,\n",
       " 0.9954155171084782,\n",
       " 0.998838208144504,\n",
       " 0.9369307679381309,\n",
       " 0.9162467955389503,\n",
       " 0.925483762380564,\n",
       " 0.9906867583021696,\n",
       " 0.989345122114393,\n",
       " 0.9977559211914419,\n",
       " 0.9967094112089585,\n",
       " 0.9974731047853272,\n",
       " 0.9995920864606946,\n",
       " 0.9995920864606946,\n",
       " 0.998838208144504,\n",
       " 0.998838208144504,\n",
       " 0.9918142992769632,\n",
       " 0.9783869636520512,\n",
       " 0.9980726485818241,\n",
       " 0.9935846418180838,\n",
       " 0.9995920864606949,\n",
       " 0.9890690700196463,\n",
       " 0.9995442512120553,\n",
       " 0.9992779156819374,\n",
       " 0.9956982494456907,\n",
       " 0.9999348492606654,\n",
       " 0.998838208144504,\n",
       " 0.9992779156819374,\n",
       " 0.9918142992769632,\n",
       " 0.9813337071631127,\n",
       " 0.9995442512120553,\n",
       " 0.9997115479897084,\n",
       " 0.9857817160343929,\n",
       " 0.998838208144504,\n",
       " 0.9981516088016339,\n",
       " 0.9995920864606949,\n",
       " 0.9958639495743954,\n",
       " 0.997408072517414,\n",
       " 0.997850155060261,\n",
       " 0.9959785928124196,\n",
       " 0.9999988092537654,\n",
       " 0.997850155060261,\n",
       " 0.9966322154577559,\n",
       " 0.99836867862969,\n",
       " 0.9995920864606949,\n",
       " 0.9980726485818241,\n",
       " 0.9992779156819374,\n",
       " 0.9983792630413255,\n",
       " 0.9966322154577559,\n",
       " 0.9997369550364654,\n",
       " 0.9959950116113943,\n",
       " 0.998838208144504,\n",
       " 0.9959399890858123,\n",
       " 0.9986305517803309,\n",
       " 0.9999482184478333,\n",
       " 0.9914261829907973,\n",
       " 0.9966322154577559,\n",
       " 0.9982117280815079,\n",
       " 0.9998774585042289,\n",
       " 0.9993812597649178,\n",
       " 0.9978558004211179,\n",
       " 0.9995442512120553,\n",
       " 0.9944128560114232,\n",
       " 0.9831437819743591,\n",
       " 0.9885775039114557,\n",
       " 0.9935846418180838,\n",
       " 0.9925906015493712,\n",
       " 0.9992071816320736,\n",
       " 0.9942847975815376,\n",
       " 0.9989645446435537,\n",
       " 0.9997634009351082,\n",
       " 0.9997115479897084,\n",
       " 0.998838208144504,\n",
       " 0.9944128560114232,\n",
       " 0.9995920864606949,\n",
       " 0.9999529750398799,\n",
       " 0.999982562921213,\n",
       " 0.9992779156819374,\n",
       " 0.9995920864606949,\n",
       " 0.9966322154577559,\n",
       " 0.9999798699680436,\n",
       " 0.9999642443718293,\n",
       " 0.9990129126756261,\n",
       " 0.9955269606759023,\n",
       " 0.9980726485818241,\n",
       " 0.9927695221361963,\n",
       " 0.9614738183410046,\n",
       " 0.9910135403040807,\n",
       " 0.9948898218061589,\n",
       " 0.9980726485818241,\n",
       " 0.999086622560793,\n",
       " 0.998838208144504,\n",
       " 0.9960824443573912,\n",
       " 0.9870594618256495,\n",
       " 0.997224822065802,\n",
       " 0.9927695221361963,\n",
       " 0.9972642148882943,\n",
       " 0.9995920864606949,\n",
       " 0.9961900758724175,\n",
       " 0.9999825629212131,\n",
       " 0.9997527003656018,\n",
       " 0.9967094112089583]"
      ]
     },
     "execution_count": 62,
     "metadata": {},
     "output_type": "execute_result"
    }
   ],
   "source": [
    "font_recommendation_sim"
   ]
  },
  {
   "cell_type": "code",
   "execution_count": 47,
   "metadata": {},
   "outputs": [],
   "source": [
    "font_recommendation = pd.DataFrame()\n",
    "font_recommendation['fontname'] = font_recommendation_list\n",
    "font_recommendation['similarity'] = font_recommendation_sim\n",
    "font_search_rank = font_recommendation.sort_values(by='similarity', ascending=False)"
   ]
  },
  {
   "cell_type": "code",
   "execution_count": 123,
   "metadata": {},
   "outputs": [
    {
     "data": {
      "text/html": [
       "<div>\n",
       "<style scoped>\n",
       "    .dataframe tbody tr th:only-of-type {\n",
       "        vertical-align: middle;\n",
       "    }\n",
       "\n",
       "    .dataframe tbody tr th {\n",
       "        vertical-align: top;\n",
       "    }\n",
       "\n",
       "    .dataframe thead th {\n",
       "        text-align: right;\n",
       "    }\n",
       "</style>\n",
       "<table border=\"1\" class=\"dataframe\">\n",
       "  <thead>\n",
       "    <tr style=\"text-align: right;\">\n",
       "      <th></th>\n",
       "      <th>fontname</th>\n",
       "      <th>similarity</th>\n",
       "    </tr>\n",
       "  </thead>\n",
       "  <tbody>\n",
       "    <tr>\n",
       "      <th>0</th>\n",
       "      <td>텐바이텐 폰트</td>\n",
       "      <td>1.000000</td>\n",
       "    </tr>\n",
       "    <tr>\n",
       "      <th>318</th>\n",
       "      <td>강한육군 Medium Vert</td>\n",
       "      <td>1.000000</td>\n",
       "    </tr>\n",
       "    <tr>\n",
       "      <th>251</th>\n",
       "      <td>상주다정다감체</td>\n",
       "      <td>1.000000</td>\n",
       "    </tr>\n",
       "    <tr>\n",
       "      <th>124</th>\n",
       "      <td>가비아 봄바람체</td>\n",
       "      <td>1.000000</td>\n",
       "    </tr>\n",
       "    <tr>\n",
       "      <th>299</th>\n",
       "      <td>어비 남지은체 Bold</td>\n",
       "      <td>1.000000</td>\n",
       "    </tr>\n",
       "    <tr>\n",
       "      <th>319</th>\n",
       "      <td>강한육군 Medium</td>\n",
       "      <td>1.000000</td>\n",
       "    </tr>\n",
       "    <tr>\n",
       "      <th>393</th>\n",
       "      <td>온글잎 보현체</td>\n",
       "      <td>0.707107</td>\n",
       "    </tr>\n",
       "    <tr>\n",
       "      <th>181</th>\n",
       "      <td>HY 강 B</td>\n",
       "      <td>0.666667</td>\n",
       "    </tr>\n",
       "    <tr>\n",
       "      <th>257</th>\n",
       "      <td>세방고딕</td>\n",
       "      <td>0.554700</td>\n",
       "    </tr>\n",
       "    <tr>\n",
       "      <th>70</th>\n",
       "      <td>카페24 동동체</td>\n",
       "      <td>0.554700</td>\n",
       "    </tr>\n",
       "    <tr>\n",
       "      <th>88</th>\n",
       "      <td>도스샘물</td>\n",
       "      <td>0.554700</td>\n",
       "    </tr>\n",
       "    <tr>\n",
       "      <th>66</th>\n",
       "      <td>연성체</td>\n",
       "      <td>0.500000</td>\n",
       "    </tr>\n",
       "    <tr>\n",
       "      <th>281</th>\n",
       "      <td>타이포 발레리나 B</td>\n",
       "      <td>0.500000</td>\n",
       "    </tr>\n",
       "    <tr>\n",
       "      <th>32</th>\n",
       "      <td>유토이미지 빨간우체통체</td>\n",
       "      <td>0.500000</td>\n",
       "    </tr>\n",
       "    <tr>\n",
       "      <th>399</th>\n",
       "      <td>온글잎 의연체</td>\n",
       "      <td>0.447214</td>\n",
       "    </tr>\n",
       "  </tbody>\n",
       "</table>\n",
       "</div>"
      ],
      "text/plain": [
       "             fontname  similarity\n",
       "0             텐바이텐 폰트    1.000000\n",
       "318  강한육군 Medium Vert    1.000000\n",
       "251           상주다정다감체    1.000000\n",
       "124          가비아 봄바람체    1.000000\n",
       "299      어비 남지은체 Bold    1.000000\n",
       "319       강한육군 Medium    1.000000\n",
       "393           온글잎 보현체    0.707107\n",
       "181            HY 강 B    0.666667\n",
       "257              세방고딕    0.554700\n",
       "70           카페24 동동체    0.554700\n",
       "88               도스샘물    0.554700\n",
       "66                연성체    0.500000\n",
       "281        타이포 발레리나 B    0.500000\n",
       "32       유토이미지 빨간우체통체    0.500000\n",
       "399           온글잎 의연체    0.447214"
      ]
     },
     "execution_count": 123,
     "metadata": {},
     "output_type": "execute_result"
    }
   ],
   "source": [
    "font_search_rank.iloc[:15]"
   ]
  },
  {
   "cell_type": "code",
   "execution_count": 68,
   "metadata": {},
   "outputs": [
    {
     "data": {
      "text/plain": [
       "array([[31.0, 18]], dtype=object)"
      ]
     },
     "execution_count": 68,
     "metadata": {},
     "output_type": "execute_result"
    }
   ],
   "source": [
    "test_font_vec.values\n",
    "stroke_thickness_df.iloc[[0]].iloc[:, 1:].values"
   ]
  },
  {
   "cell_type": "code",
   "execution_count": 63,
   "metadata": {},
   "outputs": [],
   "source": [
    "from scipy.spatial import distance\n",
    "\n",
    "font_recommendation_list = []\n",
    "font_recommendation_sim = []\n",
    "test_font_vec =stroke_thickness_df.iloc[[-1]].iloc[:, 1:]\n",
    "for i in range(stroke_thickness_df.shape[0]-1):\n",
    "  font_recommendation_list.append(stroke_thickness_df.iloc[i]['fontname'])\n",
    "  font_recommendation_sim.append(distance.euclidean(test_font_vec.values.astype('float64').flatten(), \n",
    "                                                    stroke_thickness_df.iloc[[i]].iloc[:, 1:].values.astype('float64').flatten()))"
   ]
  },
  {
   "cell_type": "code",
   "execution_count": 64,
   "metadata": {},
   "outputs": [],
   "source": [
    "font_recommendation = pd.DataFrame()\n",
    "font_recommendation['fontname'] = font_recommendation_list\n",
    "font_recommendation['similarity'] = font_recommendation_sim\n",
    "font_search_rank = font_recommendation.sort_values(by='similarity', ascending=True)"
   ]
  },
  {
   "cell_type": "code",
   "execution_count": 67,
   "metadata": {},
   "outputs": [
    {
     "data": {
      "text/plain": [
       "1.8027756377319946"
      ]
     },
     "execution_count": 67,
     "metadata": {},
     "output_type": "execute_result"
    }
   ],
   "source": [
    "font_recommendation_sim[251]"
   ]
  },
  {
   "cell_type": "code",
   "execution_count": 66,
   "metadata": {},
   "outputs": [
    {
     "data": {
      "text/html": [
       "<div>\n",
       "<style scoped>\n",
       "    .dataframe tbody tr th:only-of-type {\n",
       "        vertical-align: middle;\n",
       "    }\n",
       "\n",
       "    .dataframe tbody tr th {\n",
       "        vertical-align: top;\n",
       "    }\n",
       "\n",
       "    .dataframe thead th {\n",
       "        text-align: right;\n",
       "    }\n",
       "</style>\n",
       "<table border=\"1\" class=\"dataframe\">\n",
       "  <thead>\n",
       "    <tr style=\"text-align: right;\">\n",
       "      <th></th>\n",
       "      <th>fontname</th>\n",
       "      <th>similarity</th>\n",
       "    </tr>\n",
       "  </thead>\n",
       "  <tbody>\n",
       "    <tr>\n",
       "      <th>299</th>\n",
       "      <td>어비 남지은체 Bold</td>\n",
       "      <td>0.000000</td>\n",
       "    </tr>\n",
       "    <tr>\n",
       "      <th>286</th>\n",
       "      <td>타이포 어울림 L</td>\n",
       "      <td>0.500000</td>\n",
       "    </tr>\n",
       "    <tr>\n",
       "      <th>104</th>\n",
       "      <td>DX한울 Bold</td>\n",
       "      <td>1.000000</td>\n",
       "    </tr>\n",
       "    <tr>\n",
       "      <th>22</th>\n",
       "      <td>순천체R</td>\n",
       "      <td>1.000000</td>\n",
       "    </tr>\n",
       "    <tr>\n",
       "      <th>379</th>\n",
       "      <td>서울남산 장체 M</td>\n",
       "      <td>1.000000</td>\n",
       "    </tr>\n",
       "    <tr>\n",
       "      <th>182</th>\n",
       "      <td>HY 강 M</td>\n",
       "      <td>1.000000</td>\n",
       "    </tr>\n",
       "    <tr>\n",
       "      <th>172</th>\n",
       "      <td>휴먼중간샘체</td>\n",
       "      <td>1.000000</td>\n",
       "    </tr>\n",
       "    <tr>\n",
       "      <th>30</th>\n",
       "      <td>유토이미지 고딕 R</td>\n",
       "      <td>1.118034</td>\n",
       "    </tr>\n",
       "    <tr>\n",
       "      <th>209</th>\n",
       "      <td>KoPub 돋움체 Medium</td>\n",
       "      <td>1.118034</td>\n",
       "    </tr>\n",
       "    <tr>\n",
       "      <th>139</th>\n",
       "      <td>HY얕은샘물M</td>\n",
       "      <td>1.414214</td>\n",
       "    </tr>\n",
       "    <tr>\n",
       "      <th>32</th>\n",
       "      <td>유토이미지 빨간우체통체</td>\n",
       "      <td>1.414214</td>\n",
       "    </tr>\n",
       "    <tr>\n",
       "      <th>120</th>\n",
       "      <td>엘리스디지털배움체 Regular</td>\n",
       "      <td>1.414214</td>\n",
       "    </tr>\n",
       "    <tr>\n",
       "      <th>385</th>\n",
       "      <td>솔뫼 김대건 Light</td>\n",
       "      <td>1.500000</td>\n",
       "    </tr>\n",
       "    <tr>\n",
       "      <th>302</th>\n",
       "      <td>어비 선홍체 BOLD</td>\n",
       "      <td>1.500000</td>\n",
       "    </tr>\n",
       "    <tr>\n",
       "      <th>313</th>\n",
       "      <td>영도체</td>\n",
       "      <td>1.500000</td>\n",
       "    </tr>\n",
       "  </tbody>\n",
       "</table>\n",
       "</div>"
      ],
      "text/plain": [
       "              fontname  similarity\n",
       "299       어비 남지은체 Bold    0.000000\n",
       "286          타이포 어울림 L    0.500000\n",
       "104          DX한울 Bold    1.000000\n",
       "22                순천체R    1.000000\n",
       "379          서울남산 장체 M    1.000000\n",
       "182             HY 강 M    1.000000\n",
       "172             휴먼중간샘체    1.000000\n",
       "30          유토이미지 고딕 R    1.118034\n",
       "209   KoPub 돋움체 Medium    1.118034\n",
       "139            HY얕은샘물M    1.414214\n",
       "32        유토이미지 빨간우체통체    1.414214\n",
       "120  엘리스디지털배움체 Regular    1.414214\n",
       "385       솔뫼 김대건 Light    1.500000\n",
       "302        어비 선홍체 BOLD    1.500000\n",
       "313                영도체    1.500000"
      ]
     },
     "execution_count": 66,
     "metadata": {},
     "output_type": "execute_result"
    }
   ],
   "source": [
    "font_search_rank[:15]"
   ]
  },
  {
   "cell_type": "code",
   "execution_count": 56,
   "metadata": {},
   "outputs": [
    {
     "name": "stdout",
     "output_type": "stream",
     "text": [
      "문서 1과 문서2의 유사도 : 0.9994547296150675\n"
     ]
    }
   ],
   "source": [
    "import numpy as np\n",
    "from numpy import dot\n",
    "from numpy.linalg import norm\n",
    "\n",
    "def cos_sim(A, B):\n",
    "  return dot(A, B)/(norm(A)*norm(B))\n",
    "\n",
    "doc1 = np.array([26,20])\n",
    "doc2 = np.array([19.5,14])\n",
    "doc3 = np.array([2,0,2,2])\n",
    "\n",
    "print('문서 1과 문서2의 유사도 :',cos_sim(doc1, doc2))\n"
   ]
  },
  {
   "cell_type": "code",
   "execution_count": 69,
   "metadata": {},
   "outputs": [
    {
     "name": "stdout",
     "output_type": "stream",
     "text": [
      "7.810\n",
      "8.846\n"
     ]
    }
   ],
   "source": [
    "from math import*\n",
    "from decimal import Decimal\n",
    "\n",
    "def nth_root(value, n_root):\n",
    "    root_value = 1/float(n_root)\n",
    "    return round (Decimal(value) ** Decimal(root_value),3)\n",
    "\n",
    "def minkowski_distance(x,y,p_value):\n",
    "    return nth_root(sum(pow(abs(a-b),p_value) for a,b in zip(x, y)),p_value)\n",
    "\n",
    "print(minkowski_distance([26,20],[32,25],2))\n",
    "print(minkowski_distance([26,20],[19.5,14],2))"
   ]
  },
  {
   "cell_type": "code",
   "execution_count": 81,
   "metadata": {},
   "outputs": [],
   "source": [
    "import pandas as pd\n",
    "import numpy as np\n",
    "\n",
    "# 예시 데이터프레임 생성\n",
    "df = pd.DataFrame({'A': [1, 2, 3], 'B': [4, 5, 6], 'C': [7, 8, 9]})\n",
    "\n",
    "# 마지막 행의 값들을 넘파이 배열로 가져오기\n",
    "last_row = df.iloc[-1].to_numpy()"
   ]
  },
  {
   "cell_type": "code",
   "execution_count": 84,
   "metadata": {},
   "outputs": [
    {
     "data": {
      "text/plain": [
       "numpy.ndarray"
      ]
     },
     "execution_count": 84,
     "metadata": {},
     "output_type": "execute_result"
    }
   ],
   "source": [
    "type(last_row)"
   ]
  },
  {
   "cell_type": "code",
   "execution_count": 88,
   "metadata": {},
   "outputs": [
    {
     "data": {
      "text/plain": [
       "array([['26.0', '20.0']], dtype=object)"
      ]
     },
     "execution_count": 88,
     "metadata": {},
     "output_type": "execute_result"
    }
   ],
   "source": [
    "arr = test_font_vec.to_numpy()\n",
    "arr"
   ]
  },
  {
   "cell_type": "code",
   "execution_count": 95,
   "metadata": {},
   "outputs": [],
   "source": [
    "arr= arr.astype('float64').flatten()"
   ]
  },
  {
   "cell_type": "code",
   "execution_count": 96,
   "metadata": {},
   "outputs": [
    {
     "data": {
      "text/plain": [
       "array([26., 20.])"
      ]
     },
     "execution_count": 96,
     "metadata": {},
     "output_type": "execute_result"
    }
   ],
   "source": [
    "arr"
   ]
  },
  {
   "cell_type": "code",
   "execution_count": 97,
   "metadata": {},
   "outputs": [
    {
     "name": "stdout",
     "output_type": "stream",
     "text": [
      "0.0\n"
     ]
    }
   ],
   "source": [
    "from scipy.spatial import distance\n",
    "a = np.array([26,20])\n",
    "b = np.array([32,25])\n",
    "print(distance.euclidean(arr,arr))"
   ]
  },
  {
   "cell_type": "code",
   "execution_count": 86,
   "metadata": {},
   "outputs": [
    {
     "data": {
      "text/plain": [
       "numpy.ndarray"
      ]
     },
     "execution_count": 86,
     "metadata": {},
     "output_type": "execute_result"
    }
   ],
   "source": [
    "type(a)"
   ]
  },
  {
   "cell_type": "code",
   "execution_count": 17,
   "metadata": {},
   "outputs": [
    {
     "data": {
      "text/plain": [
       "0      31.0\n",
       "1      37.0\n",
       "2      13.0\n",
       "3      38.0\n",
       "4      33.0\n",
       "       ... \n",
       "415    21.0\n",
       "416    27.0\n",
       "417    29.0\n",
       "418    22.0\n",
       "419    33.0\n",
       "Name: width, Length: 420, dtype: float64"
      ]
     },
     "execution_count": 17,
     "metadata": {},
     "output_type": "execute_result"
    }
   ],
   "source": [
    "stroke_thickness_df['width']"
   ]
  },
  {
   "cell_type": "code",
   "execution_count": 37,
   "metadata": {},
   "outputs": [],
   "source": [
    "def find_interval(input,intervals):\n",
    "    for i in range(1,len(intervals)):\n",
    "        if input <= intervals[i]:\n",
    "            return i-1\n",
    "        elif x > intervals[len(intervals)-1]:\n",
    "            return 4"
   ]
  },
  {
   "cell_type": "code",
   "execution_count": 38,
   "metadata": {},
   "outputs": [
    {
     "data": {
      "text/plain": [
       "array([ 9.458, 17.9  , 26.3  , 34.7  , 43.1  , 51.5  ])"
      ]
     },
     "execution_count": 38,
     "metadata": {},
     "output_type": "execute_result"
    }
   ],
   "source": [
    "mybin_width"
   ]
  },
  {
   "cell_type": "code",
   "execution_count": 39,
   "metadata": {},
   "outputs": [
    {
     "data": {
      "text/plain": [
       "26.0"
      ]
     },
     "execution_count": 39,
     "metadata": {},
     "output_type": "execute_result"
    }
   ],
   "source": [
    "width_avg"
   ]
  },
  {
   "cell_type": "code",
   "execution_count": 41,
   "metadata": {},
   "outputs": [
    {
     "name": "stdout",
     "output_type": "stream",
     "text": [
      "1\n"
     ]
    }
   ],
   "source": [
    "print(find_interval(width_avg, mybin_width))"
   ]
  },
  {
   "cell_type": "code",
   "execution_count": 43,
   "metadata": {},
   "outputs": [
    {
     "data": {
      "text/plain": [
       "array([ 3.959, 12.2  , 20.4  , 28.6  , 36.8  , 45.   ])"
      ]
     },
     "execution_count": 43,
     "metadata": {},
     "output_type": "execute_result"
    }
   ],
   "source": [
    "mybin_height"
   ]
  },
  {
   "cell_type": "code",
   "execution_count": 44,
   "metadata": {},
   "outputs": [
    {
     "data": {
      "text/plain": [
       "20.0"
      ]
     },
     "execution_count": 44,
     "metadata": {},
     "output_type": "execute_result"
    }
   ],
   "source": [
    "height_avg"
   ]
  },
  {
   "cell_type": "code",
   "execution_count": 42,
   "metadata": {},
   "outputs": [
    {
     "name": "stdout",
     "output_type": "stream",
     "text": [
      "1\n"
     ]
    }
   ],
   "source": [
    "print(find_interval(height_avg, mybin_height))"
   ]
  },
  {
   "cell_type": "code",
   "execution_count": 51,
   "metadata": {},
   "outputs": [],
   "source": [
    "fontname = [\"텐바이텐 폰트\", \"텐바이텐 폰트 Bold\", \"116앵무부리\", \"116수박화체\", \"12롯데마트드림Bold\", \"12롯데마트드림Light\", \"12롯데마트드림Medium\", \"12롯데마트행복Bold\", \"12롯데마트행복Light\", \"12롯데마트행복Medium\", \"도서관체\", \"성동고딕\", \"성동고딕B\", \"경기천년제목 Bold\", \"경기천년제목 Medium\", \"경기천년제목V Bold\", \"경기천년바탕 Bold\", \"경기천년바탕 Regular\", \"빛고을광주체 Light\", \"빛고을광주체 Medium\", \"빛고을광주체 Bold\", \"김포평화바탕\", \"순천체R\", \"순천체B\", \"전주완판본 순체 B\", \"전주완판본 순체 L\", \"전주완판본 순체 R\", \"전주완판본 각체 B\", \"전주완판본 각체 L\", \"전주완판본 각체 R\", \"유토이미지 고딕 R\", \"유토이미지 별나라달님체\", \"유토이미지 빨간우체통체\", \"유토이미지 플라워체\", \"유토이미지체\", \"유토이미지 고딕 B\", \"유토이미지 고딕 L\", \"아리따 부리 B\", \"아리따 부리 L\", \"아리따 부리 M\", \"아리따 부리 SB\", \"애터미체 Bold\", \"애터미체 Light\", \"애터미체 Medium\", \"a타이틀고딕2\", \"a타이틀고딕3\", \"a타이틀고딕4\", \"바른바탕체 B\", \"바른바탕체 L\", \"바른바탕체 M\", \"바탕체\", \"넥슨 배찌체\", \"빙그레체\", \"빙그레 메로나체 Bold\", \"빙그레 메로나\", \"빙그레 싸만코체 Bold\", \"빙그레 싸만코체\", \"빙그레체Ⅱ\", \"도현체\", \"을지로10년후체\", \"을지로체\", \"한나체 Air\", \"한나체 Pro\", \"한나는11살체\", \"주아체\", \"기랑해랑체\", \"연성체\", \"부산체\", \"카페24 당당해체\", \"카페24 단정해체\", \"카페24 동동체\", \"카페24 아네모네 에어체\", \"카페24 빛나는별체\", \"카페24 쑥쑥체\", \"카페24 숑숑체\", \"창원단감아삭체 Bold\", \"쿠키런체 Black\", \"쿠키런체 Bold\", \"디자인하우스체\", \"디자인하우스체 Light\", \"영양군 음식디미방체\", \"동글 Bold\", \"동글 Light\", \"동글 Regular\", \"도스고딕\", \"도스이야기 굵은체\", \"도스명조\", \"도스필기\", \"도스샘물\", \"돋움체\", \"둥근모꼴\", \"DX아리랑 B\", \"DX아우라\", \"DX작가세상 M\", \"DX방탄고딕\", \"DX봄결 ExBold\", \"DX블루마린라운드 ExBold\", \"DX어린이그림\", \"DX동화나라 Bold\", \"DX퓨리티 Bold\", \"DX헤드02 Bold\", \"DX설레임2 Medium\", \"DX설레임 Medium\", \"DX우등생 Bold\", \"DX한울 Bold\", \"DX경필명조 Bold\", \"DX모던고딕 Bold\", \"DX모던고딕 RoundBold\", \"DX국민시대 Regular\", \"DX새신문명조 Bold\", \"DX프로방스 Bold\", \"DX르네상스 Bold\", \"DX단선고딕 Thin\", \"DX신문명조\", \"DX스피드 Medium\", \"DX우리강산 Bold\", \"EBS주시경B\", \"EBS주시경L\", \"EBS주시경M\", \"마초체\", \"엘리스디지털배움체 Regular\", \"설립체\", \"가비아 청연체\", \"가비아 마음결체\", \"가비아 봄바람체\", \"가비아 납작블럭체\", \"가비아 솔미체\", \"가나초콜릿체\", \"고도체 B\", \"고도체 M\", \"고양덕양체 B\", \"고양덕양체 EB\", \"굴림체\", \"HY그래픽M\", \"HY견고딕\", \"HY중고딕\", \"HY헤드라인M\", \"HY견명조\", \"HY신명조\", \"HY얕은샘물M\", \"함렡체 Black\", \"함렡체 Bold\", \"함렡체 Light\", \"함렡체 Regular\", \"한컴 백제 B\", \"함초롬바탕체\", \"함초롬바탕체 B\", \"한글누리체\", \"한글누리체 R\", \"한겨레결체\", \"한컴 바겐세일 B\", \"한컴 바겐세일 M\", \"한솔체 B\", \"한솔체 M\", \"한컴 소망 B\", \"한컴 소망 M\", \"HanS 붐붐\", \"윤고딕 230\", \"윤고딕 240\", \"Headline\", \"빛의계승자체 Bold\", \"빛의계승자체 Regular\", \"휴먼굵은팸체\", \"휴먼굵은샘체\", \"휴먼가는팸체\", \"휴먼가는샘체\", \"휴먼아미체\", \"휴먼고딕\", \"휴먼명조\", \"휴먼매직체\", \"휴먼옛체\", \"휴먼둥근헤드라인\", \"휴먼중간샘체\", \"HS새마을체 Regular\", \"HS겨울눈꽃체\", \"HS두꺼비체\", \"HS봄바람체 2.0\", \"HS새마을체\", \"HY 바다 L\", \"HY 바다 M\", \"HY 그래픽\", \"HY 강 B\", \"HY 강 M\", \"이롭게 바탕체\", \"한글재민체\", \"제주고딕\", \"제주한라산\", \"제주명조\", \"정선아리랑체\", \"정선아리랑혼체\", \"정선아리랑뿌리체\", \"KBIZ 한마음고딕 B\", \"KBIZ 한마음고딕 H\", \"KBIZ 한마음고딕 L\", \"KBIZ 한마음고딕 M\", \"KBIZ 한마음고딕 R\", \"KBIZ 한마음명조 B\", \"KBIZ 한마음명조 L\", \"KBIZ 한마음명조 M\", \"KBIZ 한마음명조 R\", \"KCC안중근체\", \"KCC임권택체\", \"KCC김훈체\", \"KCC은영체\", \"KoPub 바탕체 Bold\", \"KoPub 바탕체 Light\", \"KoPub 바탕체 Medium\", \"KoPub 돋움체 Bold\", \"KoPub 돋움체 Light\", \"KoPub 돋움체 Medium\", \"코트라 희망체\", \"코트라 도약체\", \"코트라 볼드체\", \"로커스 상상고딕체\", \"맑은 고딕\", \"메이플스토리 Bold\", \"메이플스토리 Light\", \"마포애민\", \"마포배낭여행\", \"마포다카포\", \"마포홍대프리덤\", \"마포마포나루\", \"미래로글꼴\", \"나눔손글씨 붓\", \"나눔고딕에코\", \"나눔고딕에코 Bold\", \"나눔고딕에코 ExtraBold\", \"나눔명조\", \"나눔명조에코\", \"나눔명조에코 Bold\", \"나눔명조에코 ExtraBold\", \"나눔손글씨 펜\", \"나눔스퀘어\", \"넷마블체 B\", \"넷마블체 L\", \"넷마블체 M\", \"넥센타이어체 Bold\", \"넥센타이어체 Regular\", \"닉스곤체 B 2.0\", \"닉스곤체 M 2.0\", \"ON I고딕\", \"원스토어 모바일POP체\", \"포천 오성과한음체 Bold\", \"포천 오성과한음체 Regular\", \"푸른전남체 Bold\", \"푸른전남체 Medium\", \"푸른전남체\", \"평창평화체 Bold\", \"평창평화체 Light\", \"노회찬체\", \"삼국지3글꼴\", \"상주다정다감체\", \"상주곶감체\", \"상주경천섬체\", \"산돌독수리체\", \"산돌이야기체\", \"세방고딕 Bold\", \"세방고딕\", \"서울남산체\", \"SF망고빙수\", \"스포카 한 산스 Bold\", \"스포카 한 산스 Light\", \"스포카 한 산스 Regular\", \"스포카 한 산스 Thin\", \"정묵바위체\", \"순바탕 Bold\", \"순바탕 Light\", \"순바탕 Medium\", \"태-조각TB\", \"태-으뜸B\", \"THE뉴스속보\", \"THE명품굴림B\", \"THE선인장\", \"THE정직\", \"티몬체\", \"tvN 즐거운이야기 Bold\", \"tvN 즐거운이야기 Light\", \"tvN 즐거운이야기 Medium\", \"티웨이 항공체\", \"티웨이 날다체\", \"티웨이 하늘체\", \"타이포 발레리나 B\", \"타이포 발레리나 M\", \"타이포 도담\", \"타이포 돈키왕자 M\", \"타이포 어울림 B\", \"타이포 어울림 L\", \"타이포 어울림 M\", \"타이포 홍익인간 M\", \"타이포 정조 M\", \"타이포 세종대왕 훈민\", \"타이포 달꽃\", \"타이포 명탐정\", \"타이포 씨고딕180\", \"타이포 씨명조180\", \"타이포 스톰 B\", \"어비 꿍디체\", \"어비 나현체 Bold\", \"어비 나현체\", \"어비 남지은체 Bold\", \"어비 남지은체\", \"어비 소윤체\", \"어비 선홍체 BOLD\", \"어비 선홍체\", \"어비 스윗체\", \"어비 순수결정체 Bold\", \"어비 순수결정체\", \"양굵은구조고딕\", \"양평군체 B\", \"양평군체 L\", \"양평군체 M\", \"Y이드스트릿체 B\", \"Y이드스트릿체 L\", \"영도체\", \"양재깨비체M\", \"청소년체\", \"강한육군 Bold Vert\", \"강한육군 Bold\", \"강한육군 Medium Vert\", \"강한육군 Medium\", \"경기천년제목 Light\", \"고양일산 R\", \"국립박물관문화재단클래식B\", \"국립박물관문화재단클래식L\", \"국립박물관문화재단클래식M\", \"국립중앙도서관글자체\", \"나눔손글씨 가람연꽃\", \"나눔손글씨 갈맷글\", \"나눔손글씨 강부장님체\", \"나눔손글씨 고딕 아니고 고딩\", \"나눔손글씨 고려글꼴\", \"나눔손글씨 곰신체\", \"나눔손글씨 규리의 일기\", \"나눔손글씨 김유이체\", \"나눔손글씨 꽃내음\", \"나눔손글씨 끄트머리체\", \"나눔손글씨 다행체\", \"나눔손글씨 대광유리\", \"나눔손글씨 딸에게 엄마가\", \"나눔손글씨 반짝반짝 별\", \"나눔손글씨 세계적인 한글\", \"나눔손글씨 세아체\", \"나눔손글씨 세화체\", \"나눔손글씨 소방관의 기도\", \"나눔손글씨 시우 귀여워\", \"나눔손글씨 신혼부부\", \"나눔손글씨 아빠의 연애편지\", \"나눔손글씨 아줌마 자유\", \"나눔손글씨 엄마사랑\", \"나눔손글씨 와일드\", \"나눔손글씨 외할머니글씨\", \"나눔손글씨 유니 띵땅띵땅\", \"나눔손글씨 자부심지우\", \"나눔손글씨 잘하고 있어\", \"나눔손글씨 장미체\", \"나눔손글씨 점꼴체\", \"나눔손글씨 정은체\", \"나눔손글씨 중학생\", \"나눔손글씨 진주 박경아체\", \"나눔손글씨 철필글씨\", \"나눔손글씨 칼국수\", \"나눔손글씨 코코체\", \"나눔손글씨 한윤체\", \"나눔손글씨 행복한 도비\", \"나눔손글씨 혜준체\", \"나눔손글씨 희망누리\", \"나눔손글씨 흰꼬리수리\", \"동그라미재단B\", \"동그라미재단L\", \"동그라미재단M\", \"문화재돌봄체 Bold\", \"문화재돌봄체 Regular\", \"배스킨라빈스 B\", \"비트로 코어체\", \"비트로 프라이드체\", \"서울남산 장체 B\", \"서울남산 장체 BL\", \"서울남산 장체 EB\", \"서울남산 장체 L\", \"서울남산 장체 M\", \"서울한강 장체 B\", \"서울한강 장체 BL\", \"서울한강 장체 EB\", \"서울한강 장체 L\", \"서울한강 장체 M\", \"솔뫼 김대건 Light\", \"솔뫼 김대건 Medium\", \"솔인써니체\", \"양진체\", \"온글잎 경영체\", \"온글잎 만두몽키체\", \"온글잎 무궁체\", \"온글잎 민혜체\", \"온글잎 보현체\", \"온글잎 석영체\", \"온글잎 안될과학궤도체\", \"온글잎 안될과학약체\", \"온글잎 안될과학유니랩장체\", \"온글잎 윤우체\", \"온글잎 의연체\", \"온글잎 해솜체\", \"이순신돋움체B\", \"이순신돋움체L\", \"이순신돋움체M\", \"조선일보명조\", \"중나좋체 Light\", \"중나좋체 Medium\", \"한글틀고딕\", \"한수원_한돋음_B\", \"한돋음체 R\", \"한울림체 R\", \"해수체B\", \"해수체L\", \"해수체M\", \"행복고흥B\", \"행복고흥L\", \"행복고흥M\", \"헬스셋고딕Bold\", \"헬스셋고딕Light\", \"헬스셋조릿대Std\"]"
   ]
  },
  {
   "cell_type": "code",
   "execution_count": 52,
   "metadata": {},
   "outputs": [
    {
     "data": {
      "text/plain": [
       "420"
      ]
     },
     "execution_count": 52,
     "metadata": {},
     "output_type": "execute_result"
    }
   ],
   "source": [
    "len(fontname)"
   ]
  }
 ],
 "metadata": {
  "kernelspec": {
   "display_name": "pytorch_env",
   "language": "python",
   "name": "python3"
  },
  "language_info": {
   "codemirror_mode": {
    "name": "ipython",
    "version": 3
   },
   "file_extension": ".py",
   "mimetype": "text/x-python",
   "name": "python",
   "nbconvert_exporter": "python",
   "pygments_lexer": "ipython3",
   "version": "3.8.5"
  },
  "orig_nbformat": 4
 },
 "nbformat": 4,
 "nbformat_minor": 2
}
