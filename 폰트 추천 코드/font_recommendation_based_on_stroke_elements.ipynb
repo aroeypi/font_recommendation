{
 "cells": [
  {
   "cell_type": "markdown",
   "metadata": {},
   "source": [
    "##### 1. 라이브러리 로드"
   ]
  },
  {
   "cell_type": "code",
   "execution_count": 3,
   "metadata": {},
   "outputs": [],
   "source": [
    "import sys\n",
    "import os\n",
    "sys.path.append(\"./img2vec_pytorch\")  # Adds higher directory to python modules path.\n",
    "from img_to_vec import Img2Vec\n",
    "from PIL import Image\n",
    "import pandas as pd\n",
    "import numpy as np\n",
    "from sklearn.preprocessing import MinMaxScaler\n",
    "from sklearn.metrics.pairwise import cosine_similarity"
   ]
  },
  {
   "attachments": {},
   "cell_type": "markdown",
   "metadata": {},
   "source": [
    "#### 2. 특징벡터 파일 로드\n",
    "##### 2-1. 형태소의 특징 벡터 파일 로드"
   ]
  },
  {
   "cell_type": "code",
   "execution_count": 4,
   "metadata": {},
   "outputs": [
    {
     "ename": "FileNotFoundError",
     "evalue": "[Errno 2] No such file or directory: '형태소별 특징벡터/bbichim_clustering_feature_vector.csv'",
     "output_type": "error",
     "traceback": [
      "\u001b[1;31m---------------------------------------------------------------------------\u001b[0m",
      "\u001b[1;31mFileNotFoundError\u001b[0m                         Traceback (most recent call last)",
      "\u001b[1;32m<ipython-input-4-fabf8609af75>\u001b[0m in \u001b[0;36m<module>\u001b[1;34m\u001b[0m\n\u001b[1;32m----> 1\u001b[1;33m \u001b[0mbbichim_df\u001b[0m \u001b[1;33m=\u001b[0m \u001b[0mpd\u001b[0m\u001b[1;33m.\u001b[0m\u001b[0mread_csv\u001b[0m\u001b[1;33m(\u001b[0m\u001b[1;34m'형태소별 특징벡터/bbichim_clustering_feature_vector.csv'\u001b[0m\u001b[1;33m)\u001b[0m\u001b[1;33m.\u001b[0m\u001b[0mdrop\u001b[0m\u001b[1;33m(\u001b[0m\u001b[0mcolumns\u001b[0m \u001b[1;33m=\u001b[0m \u001b[1;33m[\u001b[0m\u001b[1;34m'fontname'\u001b[0m\u001b[1;33m]\u001b[0m\u001b[1;33m)\u001b[0m\u001b[1;33m\u001b[0m\u001b[1;33m\u001b[0m\u001b[0m\n\u001b[0m\u001b[0;32m      2\u001b[0m \u001b[0mburi_df\u001b[0m \u001b[1;33m=\u001b[0m \u001b[0mpd\u001b[0m\u001b[1;33m.\u001b[0m\u001b[0mread_csv\u001b[0m\u001b[1;33m(\u001b[0m\u001b[1;34m'형태소별 특징벡터/buri_clustering_feature_vector.csv'\u001b[0m\u001b[1;33m)\u001b[0m\u001b[1;33m.\u001b[0m\u001b[0mdrop\u001b[0m\u001b[1;33m(\u001b[0m\u001b[0mcolumns\u001b[0m \u001b[1;33m=\u001b[0m \u001b[1;33m[\u001b[0m\u001b[1;34m'fontname'\u001b[0m\u001b[1;33m]\u001b[0m\u001b[1;33m)\u001b[0m\u001b[1;33m\u001b[0m\u001b[1;33m\u001b[0m\u001b[0m\n\u001b[0;32m      3\u001b[0m \u001b[0mkkeokim_df\u001b[0m \u001b[1;33m=\u001b[0m \u001b[0mpd\u001b[0m\u001b[1;33m.\u001b[0m\u001b[0mread_csv\u001b[0m\u001b[1;33m(\u001b[0m\u001b[1;34m'형태소별 특징벡터/kkeokim_clustering_feature_vector.csv'\u001b[0m\u001b[1;33m)\u001b[0m\u001b[1;33m.\u001b[0m\u001b[0mdrop\u001b[0m\u001b[1;33m(\u001b[0m\u001b[0mcolumns\u001b[0m \u001b[1;33m=\u001b[0m \u001b[1;33m[\u001b[0m\u001b[1;34m'fontname'\u001b[0m\u001b[1;33m]\u001b[0m\u001b[1;33m)\u001b[0m\u001b[1;33m\u001b[0m\u001b[1;33m\u001b[0m\u001b[0m\n\u001b[0;32m      4\u001b[0m \u001b[0mkkokjijum_df\u001b[0m \u001b[1;33m=\u001b[0m \u001b[0mpd\u001b[0m\u001b[1;33m.\u001b[0m\u001b[0mread_csv\u001b[0m\u001b[1;33m(\u001b[0m\u001b[1;34m'형태소별 특징벡터/kkokjijum_clustering_feature_vector.csv'\u001b[0m\u001b[1;33m)\u001b[0m\u001b[1;33m.\u001b[0m\u001b[0mdrop\u001b[0m\u001b[1;33m(\u001b[0m\u001b[0mcolumns\u001b[0m \u001b[1;33m=\u001b[0m \u001b[1;33m[\u001b[0m\u001b[1;34m'fontname'\u001b[0m\u001b[1;33m]\u001b[0m\u001b[1;33m)\u001b[0m\u001b[1;33m\u001b[0m\u001b[1;33m\u001b[0m\u001b[0m\n\u001b[0;32m      5\u001b[0m \u001b[0msangtu_df\u001b[0m \u001b[1;33m=\u001b[0m \u001b[0mpd\u001b[0m\u001b[1;33m.\u001b[0m\u001b[0mread_csv\u001b[0m\u001b[1;33m(\u001b[0m\u001b[1;34m'형태소별 특징벡터/sangtu_clustering_feature_vector.csv'\u001b[0m\u001b[1;33m)\u001b[0m\u001b[1;33m.\u001b[0m\u001b[0mdrop\u001b[0m\u001b[1;33m(\u001b[0m\u001b[0mcolumns\u001b[0m \u001b[1;33m=\u001b[0m \u001b[1;33m[\u001b[0m\u001b[1;34m'fontname'\u001b[0m\u001b[1;33m]\u001b[0m\u001b[1;33m)\u001b[0m\u001b[1;33m\u001b[0m\u001b[1;33m\u001b[0m\u001b[0m\n",
      "\u001b[1;32mc:\\Users\\SM\\anaconda3\\lib\\site-packages\\pandas\\util\\_decorators.py\u001b[0m in \u001b[0;36mwrapper\u001b[1;34m(*args, **kwargs)\u001b[0m\n\u001b[0;32m    309\u001b[0m                     \u001b[0mstacklevel\u001b[0m\u001b[1;33m=\u001b[0m\u001b[0mstacklevel\u001b[0m\u001b[1;33m,\u001b[0m\u001b[1;33m\u001b[0m\u001b[1;33m\u001b[0m\u001b[0m\n\u001b[0;32m    310\u001b[0m                 )\n\u001b[1;32m--> 311\u001b[1;33m             \u001b[1;32mreturn\u001b[0m \u001b[0mfunc\u001b[0m\u001b[1;33m(\u001b[0m\u001b[1;33m*\u001b[0m\u001b[0margs\u001b[0m\u001b[1;33m,\u001b[0m \u001b[1;33m**\u001b[0m\u001b[0mkwargs\u001b[0m\u001b[1;33m)\u001b[0m\u001b[1;33m\u001b[0m\u001b[1;33m\u001b[0m\u001b[0m\n\u001b[0m\u001b[0;32m    312\u001b[0m \u001b[1;33m\u001b[0m\u001b[0m\n\u001b[0;32m    313\u001b[0m         \u001b[1;32mreturn\u001b[0m \u001b[0mwrapper\u001b[0m\u001b[1;33m\u001b[0m\u001b[1;33m\u001b[0m\u001b[0m\n",
      "\u001b[1;32mc:\\Users\\SM\\anaconda3\\lib\\site-packages\\pandas\\io\\parsers\\readers.py\u001b[0m in \u001b[0;36mread_csv\u001b[1;34m(filepath_or_buffer, sep, delimiter, header, names, index_col, usecols, squeeze, prefix, mangle_dupe_cols, dtype, engine, converters, true_values, false_values, skipinitialspace, skiprows, skipfooter, nrows, na_values, keep_default_na, na_filter, verbose, skip_blank_lines, parse_dates, infer_datetime_format, keep_date_col, date_parser, dayfirst, cache_dates, iterator, chunksize, compression, thousands, decimal, lineterminator, quotechar, quoting, doublequote, escapechar, comment, encoding, encoding_errors, dialect, error_bad_lines, warn_bad_lines, on_bad_lines, delim_whitespace, low_memory, memory_map, float_precision, storage_options)\u001b[0m\n\u001b[0;32m    678\u001b[0m     \u001b[0mkwds\u001b[0m\u001b[1;33m.\u001b[0m\u001b[0mupdate\u001b[0m\u001b[1;33m(\u001b[0m\u001b[0mkwds_defaults\u001b[0m\u001b[1;33m)\u001b[0m\u001b[1;33m\u001b[0m\u001b[1;33m\u001b[0m\u001b[0m\n\u001b[0;32m    679\u001b[0m \u001b[1;33m\u001b[0m\u001b[0m\n\u001b[1;32m--> 680\u001b[1;33m     \u001b[1;32mreturn\u001b[0m \u001b[0m_read\u001b[0m\u001b[1;33m(\u001b[0m\u001b[0mfilepath_or_buffer\u001b[0m\u001b[1;33m,\u001b[0m \u001b[0mkwds\u001b[0m\u001b[1;33m)\u001b[0m\u001b[1;33m\u001b[0m\u001b[1;33m\u001b[0m\u001b[0m\n\u001b[0m\u001b[0;32m    681\u001b[0m \u001b[1;33m\u001b[0m\u001b[0m\n\u001b[0;32m    682\u001b[0m \u001b[1;33m\u001b[0m\u001b[0m\n",
      "\u001b[1;32mc:\\Users\\SM\\anaconda3\\lib\\site-packages\\pandas\\io\\parsers\\readers.py\u001b[0m in \u001b[0;36m_read\u001b[1;34m(filepath_or_buffer, kwds)\u001b[0m\n\u001b[0;32m    573\u001b[0m \u001b[1;33m\u001b[0m\u001b[0m\n\u001b[0;32m    574\u001b[0m     \u001b[1;31m# Create the parser.\u001b[0m\u001b[1;33m\u001b[0m\u001b[1;33m\u001b[0m\u001b[1;33m\u001b[0m\u001b[0m\n\u001b[1;32m--> 575\u001b[1;33m     \u001b[0mparser\u001b[0m \u001b[1;33m=\u001b[0m \u001b[0mTextFileReader\u001b[0m\u001b[1;33m(\u001b[0m\u001b[0mfilepath_or_buffer\u001b[0m\u001b[1;33m,\u001b[0m \u001b[1;33m**\u001b[0m\u001b[0mkwds\u001b[0m\u001b[1;33m)\u001b[0m\u001b[1;33m\u001b[0m\u001b[1;33m\u001b[0m\u001b[0m\n\u001b[0m\u001b[0;32m    576\u001b[0m \u001b[1;33m\u001b[0m\u001b[0m\n\u001b[0;32m    577\u001b[0m     \u001b[1;32mif\u001b[0m \u001b[0mchunksize\u001b[0m \u001b[1;32mor\u001b[0m \u001b[0miterator\u001b[0m\u001b[1;33m:\u001b[0m\u001b[1;33m\u001b[0m\u001b[1;33m\u001b[0m\u001b[0m\n",
      "\u001b[1;32mc:\\Users\\SM\\anaconda3\\lib\\site-packages\\pandas\\io\\parsers\\readers.py\u001b[0m in \u001b[0;36m__init__\u001b[1;34m(self, f, engine, **kwds)\u001b[0m\n\u001b[0;32m    931\u001b[0m \u001b[1;33m\u001b[0m\u001b[0m\n\u001b[0;32m    932\u001b[0m         \u001b[0mself\u001b[0m\u001b[1;33m.\u001b[0m\u001b[0mhandles\u001b[0m\u001b[1;33m:\u001b[0m \u001b[0mIOHandles\u001b[0m \u001b[1;33m|\u001b[0m \u001b[1;32mNone\u001b[0m \u001b[1;33m=\u001b[0m \u001b[1;32mNone\u001b[0m\u001b[1;33m\u001b[0m\u001b[1;33m\u001b[0m\u001b[0m\n\u001b[1;32m--> 933\u001b[1;33m         \u001b[0mself\u001b[0m\u001b[1;33m.\u001b[0m\u001b[0m_engine\u001b[0m \u001b[1;33m=\u001b[0m \u001b[0mself\u001b[0m\u001b[1;33m.\u001b[0m\u001b[0m_make_engine\u001b[0m\u001b[1;33m(\u001b[0m\u001b[0mf\u001b[0m\u001b[1;33m,\u001b[0m \u001b[0mself\u001b[0m\u001b[1;33m.\u001b[0m\u001b[0mengine\u001b[0m\u001b[1;33m)\u001b[0m\u001b[1;33m\u001b[0m\u001b[1;33m\u001b[0m\u001b[0m\n\u001b[0m\u001b[0;32m    934\u001b[0m \u001b[1;33m\u001b[0m\u001b[0m\n\u001b[0;32m    935\u001b[0m     \u001b[1;32mdef\u001b[0m \u001b[0mclose\u001b[0m\u001b[1;33m(\u001b[0m\u001b[0mself\u001b[0m\u001b[1;33m)\u001b[0m\u001b[1;33m:\u001b[0m\u001b[1;33m\u001b[0m\u001b[1;33m\u001b[0m\u001b[0m\n",
      "\u001b[1;32mc:\\Users\\SM\\anaconda3\\lib\\site-packages\\pandas\\io\\parsers\\readers.py\u001b[0m in \u001b[0;36m_make_engine\u001b[1;34m(self, f, engine)\u001b[0m\n\u001b[0;32m   1215\u001b[0m             \u001b[1;31m# \"Union[str, PathLike[str], ReadCsvBuffer[bytes], ReadCsvBuffer[str]]\"\u001b[0m\u001b[1;33m\u001b[0m\u001b[1;33m\u001b[0m\u001b[1;33m\u001b[0m\u001b[0m\n\u001b[0;32m   1216\u001b[0m             \u001b[1;31m# , \"str\", \"bool\", \"Any\", \"Any\", \"Any\", \"Any\", \"Any\"\u001b[0m\u001b[1;33m\u001b[0m\u001b[1;33m\u001b[0m\u001b[1;33m\u001b[0m\u001b[0m\n\u001b[1;32m-> 1217\u001b[1;33m             self.handles = get_handle(  # type: ignore[call-overload]\n\u001b[0m\u001b[0;32m   1218\u001b[0m                 \u001b[0mf\u001b[0m\u001b[1;33m,\u001b[0m\u001b[1;33m\u001b[0m\u001b[1;33m\u001b[0m\u001b[0m\n\u001b[0;32m   1219\u001b[0m                 \u001b[0mmode\u001b[0m\u001b[1;33m,\u001b[0m\u001b[1;33m\u001b[0m\u001b[1;33m\u001b[0m\u001b[0m\n",
      "\u001b[1;32mc:\\Users\\SM\\anaconda3\\lib\\site-packages\\pandas\\io\\common.py\u001b[0m in \u001b[0;36mget_handle\u001b[1;34m(path_or_buf, mode, encoding, compression, memory_map, is_text, errors, storage_options)\u001b[0m\n\u001b[0;32m    787\u001b[0m         \u001b[1;32mif\u001b[0m \u001b[0mioargs\u001b[0m\u001b[1;33m.\u001b[0m\u001b[0mencoding\u001b[0m \u001b[1;32mand\u001b[0m \u001b[1;34m\"b\"\u001b[0m \u001b[1;32mnot\u001b[0m \u001b[1;32min\u001b[0m \u001b[0mioargs\u001b[0m\u001b[1;33m.\u001b[0m\u001b[0mmode\u001b[0m\u001b[1;33m:\u001b[0m\u001b[1;33m\u001b[0m\u001b[1;33m\u001b[0m\u001b[0m\n\u001b[0;32m    788\u001b[0m             \u001b[1;31m# Encoding\u001b[0m\u001b[1;33m\u001b[0m\u001b[1;33m\u001b[0m\u001b[1;33m\u001b[0m\u001b[0m\n\u001b[1;32m--> 789\u001b[1;33m             handle = open(\n\u001b[0m\u001b[0;32m    790\u001b[0m                 \u001b[0mhandle\u001b[0m\u001b[1;33m,\u001b[0m\u001b[1;33m\u001b[0m\u001b[1;33m\u001b[0m\u001b[0m\n\u001b[0;32m    791\u001b[0m                 \u001b[0mioargs\u001b[0m\u001b[1;33m.\u001b[0m\u001b[0mmode\u001b[0m\u001b[1;33m,\u001b[0m\u001b[1;33m\u001b[0m\u001b[1;33m\u001b[0m\u001b[0m\n",
      "\u001b[1;31mFileNotFoundError\u001b[0m: [Errno 2] No such file or directory: '형태소별 특징벡터/bbichim_clustering_feature_vector.csv'"
     ]
    }
   ],
   "source": [
    "bbichim_df = pd.read_csv('형태소별 특징벡터/bbichim_clustering_feature_vector.csv').drop(columns = ['fontname'])\n",
    "buri_df = pd.read_csv('형태소별 특징벡터/buri_clustering_feature_vector.csv').drop(columns = ['fontname'])\n",
    "kkeokim_df = pd.read_csv('형태소별 특징벡터/kkeokim_clustering_feature_vector.csv').drop(columns = ['fontname'])\n",
    "kkokjijum_df = pd.read_csv('형태소별 특징벡터/kkokjijum_clustering_feature_vector.csv').drop(columns = ['fontname'])\n",
    "sangtu_df = pd.read_csv('형태소별 특징벡터/sangtu_clustering_feature_vector.csv').drop(columns = ['fontname'])"
   ]
  },
  {
   "attachments": {},
   "cell_type": "markdown",
   "metadata": {},
   "source": [
    "##### 2-2. 클러스터의 중심점 벡터 파일 로드"
   ]
  },
  {
   "cell_type": "code",
   "execution_count": null,
   "metadata": {},
   "outputs": [],
   "source": [
    "bbichim_centroid = pd.read_csv(\"클러스터 중심점/bbichim_cluster_centers_.csv\")\n",
    "buri_centroid = pd.read_csv(\"클러스터 중심점/buri_cluster_centers_.csv\")\n",
    "kkeokim_centroid = pd.read_csv(\"클러스터 중심점/kkeokim_cluster_centers_.csv\")\n",
    "kkokjijum_centroid = pd.read_csv(\"클러스터 중심점/kkokjijum_cluster_centers_.csv\")\n",
    "sangtu_centroid = pd.read_csv(\"클러스터 중심점/sangtu_cluster_centers_.csv\")"
   ]
  },
  {
   "attachments": {},
   "cell_type": "markdown",
   "metadata": {},
   "source": [
    "#### 3. 입력이미지 형태소의 특징벡터 추출"
   ]
  },
  {
   "cell_type": "code",
   "execution_count": null,
   "metadata": {},
   "outputs": [
    {
     "name": "stdout",
     "output_type": "stream",
     "text": [
      "AdaptiveAvgPool2d(output_size=(1, 1))\n",
      "(5, 2048)\n"
     ]
    }
   ],
   "source": [
    "img2vec =Img2Vec(model=\"inception\")\n",
    "\n",
    "### 테스트 폰트 경로\n",
    "input_path = './test_img/'\n",
    "\n",
    "list_pics = []\n",
    "filenames = []\n",
    "for file in os.listdir(input_path):\n",
    "  filename = os.fsdecode(file)\n",
    "  img = Image.open(os.path.join(input_path, filename))\n",
    "  list_pics.append(img)\n",
    "  filenames.append(filename)\n",
    "\n",
    "vectors1 = img2vec.get_vec(list_pics)\n",
    "\n",
    "pics = {}\n",
    "for i, vec in enumerate(vectors1):\n",
    "  pics[filenames[i]] = vec"
   ]
  },
  {
   "attachments": {},
   "cell_type": "markdown",
   "metadata": {},
   "source": [
    "#### 3. 클러스터링 관련 함수"
   ]
  },
  {
   "cell_type": "markdown",
   "metadata": {},
   "source": [
    "##### 3-1. PCA(차원축소)"
   ]
  },
  {
   "cell_type": "code",
   "execution_count": null,
   "metadata": {},
   "outputs": [],
   "source": [
    "from sklearn.preprocessing import StandardScaler\n",
    "from sklearn.decomposition import PCA\n",
    "\n",
    "def data_pca(df, n):\n",
    "  scaler = StandardScaler()\n",
    "  X_scaled=scaler.fit_transform(df)\n",
    "  #n차원으로 축소\n",
    "  pca=PCA(n_components=n)\n",
    "  pca.fit(X_scaled)\n",
    "  X_pca=pca.transform(X_scaled)\n",
    "  df_pca =pd.DataFrame(X_pca)\n",
    "  return df_pca"
   ]
  },
  {
   "attachments": {},
   "cell_type": "markdown",
   "metadata": {},
   "source": [
    "##### 3-2. DataFrame에 폰트명 추가"
   ]
  },
  {
   "cell_type": "code",
   "execution_count": null,
   "metadata": {},
   "outputs": [],
   "source": [
    "def add_fontname(df_pca):\n",
    "  fontname = [\"텐바이텐 폰트\", \"텐바이텐 폰트 Bold\", \"116앵무부리\", \"116수박화체\", \"12롯데마트드림Bold\", \"12롯데마트드림Light\", \"12롯데마트드림Medium\", \"12롯데마트행복Bold\", \"12롯데마트행복Light\", \"12롯데마트행복Medium\", \"도서관체\", \"성동고딕\", \"성동고딕B\", \"경기천년제목 Bold\", \"경기천년제목 Medium\", \"경기천년제목V Bold\", \"경기천년바탕 Bold\", \"경기천년바탕 Regular\", \"빛고을광주체 Light\", \"빛고을광주체 Medium\", \"빛고을광주체 Bold\", \"김포평화바탕\", \"순천체R\", \"순천체B\", \"전주완판본 순체 B\", \"전주완판본 순체 L\", \"전주완판본 순체 R\", \"전주완판본 각체 B\", \"전주완판본 각체 L\", \"전주완판본 각체 R\", \"유토이미지 고딕 R\", \"유토이미지 별나라달님체\", \"유토이미지 빨간우체통체\", \"유토이미지 플라워체\", \"유토이미지체\", \"유토이미지 고딕 B\", \"유토이미지 고딕 L\", \"아리따 부리 B\", \"아리따 부리 L\", \"아리따 부리 M\", \"아리따 부리 SB\", \"애터미체 Bold\", \"애터미체 Light\", \"애터미체 Medium\", \"a타이틀고딕2\", \"a타이틀고딕3\", \"a타이틀고딕4\", \"바른바탕체 B\", \"바른바탕체 L\", \"바른바탕체 M\", \"바탕체\", \"넥슨 배찌체\", \"빙그레체\", \"빙그레 메로나체 Bold\", \"빙그레 메로나\", \"빙그레 싸만코체 Bold\", \"빙그레 싸만코체\", \"빙그레체Ⅱ\", \"도현체\", \"을지로10년후체\", \"을지로체\", \"한나체 Air\", \"한나체 Pro\", \"한나는11살체\", \"주아체\", \"기랑해랑체\", \"연성체\", \"부산체\", \"카페24 당당해체\", \"카페24 단정해체\", \"카페24 동동체\", \"카페24 아네모네 에어체\", \"카페24 빛나는별체\", \"카페24 쑥쑥체\", \"카페24 숑숑체\", \"창원단감아삭체 Bold\", \"쿠키런체 Black\", \"쿠키런체 Bold\", \"디자인하우스체\", \"디자인하우스체 Light\", \"영양군 음식디미방체\", \"동글 Bold\", \"동글 Light\", \"동글 Regular\", \"도스고딕\", \"도스이야기 굵은체\", \"도스명조\", \"도스필기\", \"도스샘물\", \"돋움체\", \"둥근모꼴\", \"DX아리랑 B\", \"DX아우라\", \"DX작가세상 M\", \"DX방탄고딕\", \"DX봄결 ExBold\", \"DX블루마린라운드 ExBold\", \"DX어린이그림\", \"DX동화나라 Bold\", \"DX퓨리티 Bold\", \"DX헤드02 Bold\", \"DX설레임2 Medium\", \"DX설레임 Medium\", \"DX우등생 Bold\", \"DX한울 Bold\", \"DX경필명조 Bold\", \"DX모던고딕 Bold\", \"DX모던고딕 RoundBold\", \"DX국민시대 Regular\", \"DX새신문명조 Bold\", \"DX프로방스 Bold\", \"DX르네상스 Bold\", \"DX단선고딕 Thin\", \"DX신문명조\", \"DX스피드 Medium\", \"DX우리강산 Bold\", \"EBS주시경B\", \"EBS주시경L\", \"EBS주시경M\", \"마초체\", \"엘리스디지털배움체 Regular\", \"설립체\", \"가비아 청연체\", \"가비아 마음결체\", \"가비아 봄바람체\", \"가비아 납작블럭체\", \"가비아 솔미체\", \"가나초콜릿체\", \"고도체 B\", \"고도체 M\", \"고양덕양체 B\", \"고양덕양체 EB\", \"굴림체\", \"HY그래픽M\", \"HY견고딕\", \"HY중고딕\", \"HY헤드라인M\", \"HY견명조\", \"HY신명조\", \"HY얕은샘물M\", \"함렡체 Black\", \"함렡체 Bold\", \"함렡체 Light\", \"함렡체 Regular\", \"한컴 백제 B\", \"함초롬바탕체\", \"함초롬바탕체 B\", \"한글누리체\", \"한글누리체 R\", \"한겨레결체\", \"한컴 바겐세일 B\", \"한컴 바겐세일 M\", \"한솔체 B\", \"한솔체 M\", \"한컴 소망 B\", \"한컴 소망 M\", \"HanS 붐붐\", \"윤고딕 230\", \"윤고딕 240\", \"Headline\", \"빛의계승자체 Bold\", \"빛의계승자체 Regular\", \"휴먼굵은팸체\", \"휴먼굵은샘체\", \"휴먼가는팸체\", \"휴먼가는샘체\", \"휴먼아미체\", \"휴먼고딕\", \"휴먼명조\", \"휴먼매직체\", \"휴먼옛체\", \"휴먼둥근헤드라인\", \"휴먼중간샘체\", \"HS새마을체 Regular\", \"HS겨울눈꽃체\", \"HS두꺼비체\", \"HS봄바람체 2.0\", \"HS새마을체\", \"HY 바다 L\", \"HY 바다 M\", \"HY 그래픽\", \"HY 강 B\", \"HY 강 M\", \"이롭게 바탕체\", \"한글재민체\", \"제주고딕\", \"제주한라산\", \"제주명조\", \"정선아리랑체\", \"정선아리랑혼체\", \"정선아리랑뿌리체\", \"KBIZ 한마음고딕 B\", \"KBIZ 한마음고딕 H\", \"KBIZ 한마음고딕 L\", \"KBIZ 한마음고딕 M\", \"KBIZ 한마음고딕 R\", \"KBIZ 한마음명조 B\", \"KBIZ 한마음명조 L\", \"KBIZ 한마음명조 M\", \"KBIZ 한마음명조 R\", \"KCC안중근체\", \"KCC임권택체\", \"KCC김훈체\", \"KCC은영체\", \"KoPub 바탕체 Bold\", \"KoPub 바탕체 Light\", \"KoPub 바탕체 Medium\", \"KoPub 돋움체 Bold\", \"KoPub 돋움체 Light\", \"KoPub 돋움체 Medium\", \"코트라 희망체\", \"코트라 도약체\", \"코트라 볼드체\", \"로커스 상상고딕체\", \"맑은 고딕\", \"메이플스토리 Bold\", \"메이플스토리 Light\", \"마포애민\", \"마포배낭여행\", \"마포다카포\", \"마포홍대프리덤\", \"마포마포나루\", \"미래로글꼴\", \"나눔손글씨 붓\", \"나눔고딕에코\", \"나눔고딕에코 Bold\", \"나눔고딕에코 ExtraBold\", \"나눔명조\", \"나눔명조에코\", \"나눔명조에코 Bold\", \"나눔명조에코 ExtraBold\", \"나눔손글씨 펜\", \"나눔스퀘어\", \"넷마블체 B\", \"넷마블체 L\", \"넷마블체 M\", \"넥센타이어체 Bold\", \"넥센타이어체 Regular\", \"닉스곤체 B 2.0\", \"닉스곤체 M 2.0\", \"ON I고딕\", \"원스토어 모바일POP체\", \"포천 오성과한음체 Bold\", \"포천 오성과한음체 Regular\", \"푸른전남체 Bold\", \"푸른전남체 Medium\", \"푸른전남체\", \"평창평화체 Bold\", \"평창평화체 Light\", \"노회찬체\", \"삼국지3글꼴\", \"상주다정다감체\", \"상주곶감체\", \"상주경천섬체\", \"산돌독수리체\", \"산돌이야기체\", \"세방고딕 Bold\", \"세방고딕\", \"서울남산체\", \"SF망고빙수\", \"스포카 한 산스 Bold\", \"스포카 한 산스 Light\", \"스포카 한 산스 Regular\", \"스포카 한 산스 Thin\", \"정묵바위체\", \"순바탕 Bold\", \"순바탕 Light\", \"순바탕 Medium\", \"태-조각TB\", \"태-으뜸B\", \"THE뉴스속보\", \"THE명품굴림B\", \"THE선인장\", \"THE정직\", \"티몬체\", \"tvN 즐거운이야기 Bold\", \"tvN 즐거운이야기 Light\", \"tvN 즐거운이야기 Medium\", \"티웨이 항공체\", \"티웨이 날다체\", \"티웨이 하늘체\", \"타이포 발레리나 B\", \"타이포 발레리나 M\", \"타이포 도담\", \"타이포 돈키왕자 M\", \"타이포 어울림 B\", \"타이포 어울림 L\", \"타이포 어울림 M\", \"타이포 홍익인간 M\", \"타이포 정조 M\", \"타이포 세종대왕 훈민\", \"타이포 달꽃\", \"타이포 명탐정\", \"타이포 씨고딕180\", \"타이포 씨명조180\", \"타이포 스톰 B\", \"어비 꿍디체\", \"어비 나현체 Bold\", \"어비 나현체\", \"어비 남지은체 Bold\", \"어비 남지은체\", \"어비 소윤체\", \"어비 선홍체 BOLD\", \"어비 선홍체\", \"어비 스윗체\", \"어비 순수결정체 Bold\", \"어비 순수결정체\", \"양굵은구조고딕\", \"양평군체 B\", \"양평군체 L\", \"양평군체 M\", \"Y이드스트릿체 B\", \"Y이드스트릿체 L\", \"영도체\", \"양재깨비체M\", \"청소년체\", \"강한육군 Bold Vert\", \"강한육군 Bold\", \"강한육군 Medium Vert\", \"강한육군 Medium\", \"경기천년제목 Light\", \"고양일산 R\", \"국립박물관문화재단클래식B\", \"국립박물관문화재단클래식L\", \"국립박물관문화재단클래식M\", \"국립중앙도서관글자체\", \"나눔손글씨 가람연꽃\", \"나눔손글씨 갈맷글\", \"나눔손글씨 강부장님체\", \"나눔손글씨 고딕 아니고 고딩\", \"나눔손글씨 고려글꼴\", \"나눔손글씨 곰신체\", \"나눔손글씨 규리의 일기\", \"나눔손글씨 김유이체\", \"나눔손글씨 꽃내음\", \"나눔손글씨 끄트머리체\", \"나눔손글씨 다행체\", \"나눔손글씨 대광유리\", \"나눔손글씨 딸에게 엄마가\", \"나눔손글씨 반짝반짝 별\", \"나눔손글씨 세계적인 한글\", \"나눔손글씨 세아체\", \"나눔손글씨 세화체\", \"나눔손글씨 소방관의 기도\", \"나눔손글씨 시우 귀여워\", \"나눔손글씨 신혼부부\", \"나눔손글씨 아빠의 연애편지\", \"나눔손글씨 아줌마 자유\", \"나눔손글씨 엄마사랑\", \"나눔손글씨 와일드\", \"나눔손글씨 외할머니글씨\", \"나눔손글씨 유니 띵땅띵땅\", \"나눔손글씨 자부심지우\", \"나눔손글씨 잘하고 있어\", \"나눔손글씨 장미체\", \"나눔손글씨 점꼴체\", \"나눔손글씨 정은체\", \"나눔손글씨 중학생\", \"나눔손글씨 진주 박경아체\", \"나눔손글씨 철필글씨\", \"나눔손글씨 칼국수\", \"나눔손글씨 코코체\", \"나눔손글씨 한윤체\", \"나눔손글씨 행복한 도비\", \"나눔손글씨 혜준체\", \"나눔손글씨 희망누리\", \"나눔손글씨 흰꼬리수리\", \"동그라미재단B\", \"동그라미재단L\", \"동그라미재단M\", \"문화재돌봄체 Bold\", \"문화재돌봄체 Regular\", \"배스킨라빈스 B\", \"비트로 코어체\", \"비트로 프라이드체\", \"서울남산 장체 B\", \"서울남산 장체 BL\", \"서울남산 장체 EB\", \"서울남산 장체 L\", \"서울남산 장체 M\", \"서울한강 장체 B\", \"서울한강 장체 BL\", \"서울한강 장체 EB\", \"서울한강 장체 L\", \"서울한강 장체 M\", \"솔뫼 김대건 Light\", \"솔뫼 김대건 Medium\", \"솔인써니체\", \"양진체\", \"온글잎 경영체\", \"온글잎 만두몽키체\", \"온글잎 무궁체\", \"온글잎 민혜체\", \"온글잎 보현체\", \"온글잎 석영체\", \"온글잎 안될과학궤도체\", \"온글잎 안될과학약체\", \"온글잎 안될과학유니랩장체\", \"온글잎 윤우체\", \"온글잎 의연체\", \"온글잎 해솜체\", \"이순신돋움체B\", \"이순신돋움체L\", \"이순신돋움체M\", \"조선일보명조\", \"중나좋체 Light\", \"중나좋체 Medium\", \"한글틀고딕\", \"한수원_한돋음_B\", \"한돋음체 R\", \"한울림체 R\", \"해수체B\", \"해수체L\", \"해수체M\", \"행복고흥B\", \"행복고흥L\", \"행복고흥M\", \"헬스셋고딕Bold\", \"헬스셋고딕Light\", \"헬스셋조릿대Std\"]\n",
    "  fontname.append(\"input font\")  \n",
    "  df_pca.insert(0, 'fontname', fontname)\n",
    "  return df_pca"
   ]
  },
  {
   "attachments": {},
   "cell_type": "markdown",
   "metadata": {},
   "source": [
    "##### 3-3. 클러스터링"
   ]
  },
  {
   "cell_type": "code",
   "execution_count": null,
   "metadata": {},
   "outputs": [],
   "source": [
    "def find_cluster(df, centroid, pic, pca_n, candidate_font, comparative_font_df):\n",
    "  \n",
    "  prev_pca = df.drop(columns=['cluster'])\n",
    "  prev_pca.loc[len(df)] = pic\n",
    "  \n",
    "  # 입력 이미지를 포함해 전체 데이터 차원축소\n",
    "  pca = data_pca(prev_pca, pca_n)\n",
    "    \n",
    "  # 입력 이미지의 특징벡터\n",
    "  input = pca.iloc[[-1]]  \n",
    "\n",
    "  # 입력이미지와 중심점까지의 거리를 측정해서 어느 클러스터에 속하는지 계산\n",
    "  dist_to_centroid = [] \n",
    "  for idx, row in centroid.iterrows():\n",
    "    dist_to_centroid.append(cosine_similarity(input.values, centroid.loc[[idx]].values)[0][0])\n",
    "  input_cluster = dist_to_centroid.index(max(dist_to_centroid))\n",
    "  print(\"input_cluster : \", input_cluster)  \n",
    "\n",
    "  # 입력이미지와 클러스터 폰트의 유사도 계산\n",
    "  similarity = []\n",
    "  same_cluster_idx = df[df['cluster']==input_cluster].index\n",
    "  for idx in same_cluster_idx:\n",
    "    similarity.append(cosine_similarity(input.values, pca.iloc[[idx]].values)[0][0])\n",
    "\n",
    "  # 유사도가 0.6보다 큰 폰트만 후보 폰트(최종 유사도 계산 대상 폰트)로 함\n",
    "  similarity_df = add_fontname(pca).loc[same_cluster_idx, :]\n",
    "  similarity_df['similarity'] = similarity\n",
    "  sim_high_df = similarity_df[similarity_df['similarity'] >= 0.6]\n",
    "  candidate_font = np.concatenate((candidate_font, sim_high_df['fontname'].values), axis=0)\n",
    "\n",
    "  # 입력 삐침 형태소와의 비교를 위해 기존 폰트의 삐침 형태소를 포함시킴\n",
    "  comparative_font_df = pd.concat([comparative_font_df, pca.drop(columns=['fontname'])], axis=1)\n",
    "  return candidate_font, comparative_font_df"
   ]
  },
  {
   "attachments": {},
   "cell_type": "markdown",
   "metadata": {},
   "source": [
    "### 4. 형태소 클러스터링"
   ]
  },
  {
   "cell_type": "code",
   "execution_count": null,
   "metadata": {},
   "outputs": [],
   "source": [
    "# 입력 형태소와 비교하기 위해 기존 폰트(420)의 특징벡터를 저장할 DataFrame\n",
    "# 입력 형태소가 삐침, 상투면 해당 df에도 기존 폰트의 삐침, 상투만 저장하여 비교함\n",
    "comparative_font_df = pd.DataFrame()\n",
    "\n",
    "# 입력 형태소와 같은 클러스터에 속한 폰트\n",
    "candidate_font = np.array([])"
   ]
  },
  {
   "cell_type": "code",
   "execution_count": null,
   "metadata": {},
   "outputs": [
    {
     "name": "stdout",
     "output_type": "stream",
     "text": [
      "input_cluster :  3\n"
     ]
    }
   ],
   "source": [
    "if 'Bbichim.png' in filenames:\n",
    "  candidate_font, comparative_font_df = find_cluster(bbichim_df, bbichim_centroid, pics['Bbichim.png'], 18, candidate_font, comparative_font_df)\n",
    "\n",
    "if 'Buri.png' in filenames:\n",
    "  candidate_font, comparative_font_df = find_cluster(buri_df, buri_centroid, pics['Buri.png'], 10, candidate_font, comparative_font_df)\n",
    "\n",
    "if 'Kkeokim.png' in filenames:\n",
    "  candidate_font, comparative_font_df = find_cluster(kkeokim_df, kkeokim_centroid, pics['Kkeokim.png'], 20, candidate_font, comparative_font_df)\n",
    "\n",
    "if 'Kkokjijum.png' in filenames:\n",
    "  candidate_font, comparative_font_df = find_cluster(kkokjijum_df, kkokjijum_centroid, pics['Kkokjijum.png'], 18, candidate_font, comparative_font_df)\n",
    "\n",
    "if 'Sangtu.png' in filenames:\n",
    "  candidate_font, comparative_font_df = find_cluster(sangtu_df, sangtu_centroid, pics['Sangtu.png'], 18, candidate_font, comparative_font_df)  "
   ]
  },
  {
   "attachments": {},
   "cell_type": "markdown",
   "metadata": {},
   "source": [
    "### 5. 입력 형태소 이미지와 비교 대상 폰트의 형태소 이미지를 비교"
   ]
  },
  {
   "cell_type": "code",
   "execution_count": null,
   "metadata": {},
   "outputs": [],
   "source": [
    "comparative_font_df = add_fontname(comparative_font_df)\n",
    "test_font_vec = comparative_font_df.iloc[[-1]].iloc[:, 1:]\n",
    "\n",
    "font_recommendation_list = []\n",
    "font_recommendation_sim = []\n",
    "\n",
    "for i in range(comparative_font_df.shape[0]):\n",
    "  if comparative_font_df.iloc[i]['fontname'] in candidate_font:\n",
    "    font_recommendation_list.append(comparative_font_df.iloc[i]['fontname'])\n",
    "    font_recommendation_sim.append(cosine_similarity(test_font_vec.values, comparative_font_df.iloc[[i]].iloc[:, 1:].values)[0][0])"
   ]
  },
  {
   "attachments": {},
   "cell_type": "markdown",
   "metadata": {},
   "source": [
    "### 6. 폰트 추천 결과"
   ]
  },
  {
   "cell_type": "code",
   "execution_count": null,
   "metadata": {},
   "outputs": [],
   "source": [
    "font_recommendation = pd.DataFrame()\n",
    "font_recommendation['fontname'] = font_recommendation_list\n",
    "font_recommendation['similarity'] = font_recommendation_sim\n",
    "font_search_rank = font_recommendation.sort_values(by='similarity', ascending=False)"
   ]
  },
  {
   "cell_type": "code",
   "execution_count": null,
   "metadata": {},
   "outputs": [
    {
     "data": {
      "text/html": [
       "<div>\n",
       "<style scoped>\n",
       "    .dataframe tbody tr th:only-of-type {\n",
       "        vertical-align: middle;\n",
       "    }\n",
       "\n",
       "    .dataframe tbody tr th {\n",
       "        vertical-align: top;\n",
       "    }\n",
       "\n",
       "    .dataframe thead th {\n",
       "        text-align: right;\n",
       "    }\n",
       "</style>\n",
       "<table border=\"1\" class=\"dataframe\">\n",
       "  <thead>\n",
       "    <tr style=\"text-align: right;\">\n",
       "      <th></th>\n",
       "      <th>fontname</th>\n",
       "      <th>similarity</th>\n",
       "    </tr>\n",
       "  </thead>\n",
       "  <tbody>\n",
       "    <tr>\n",
       "      <th>50</th>\n",
       "      <td>어비 남지은체 Bold</td>\n",
       "      <td>1.000000</td>\n",
       "    </tr>\n",
       "    <tr>\n",
       "      <th>83</th>\n",
       "      <td>온글잎 민혜체</td>\n",
       "      <td>0.581632</td>\n",
       "    </tr>\n",
       "    <tr>\n",
       "      <th>16</th>\n",
       "      <td>동글 Light</td>\n",
       "      <td>0.570141</td>\n",
       "    </tr>\n",
       "    <tr>\n",
       "      <th>75</th>\n",
       "      <td>나눔손글씨 중학생</td>\n",
       "      <td>0.504449</td>\n",
       "    </tr>\n",
       "    <tr>\n",
       "      <th>51</th>\n",
       "      <td>어비 남지은체</td>\n",
       "      <td>0.473871</td>\n",
       "    </tr>\n",
       "    <tr>\n",
       "      <th>11</th>\n",
       "      <td>카페24 동동체</td>\n",
       "      <td>0.445302</td>\n",
       "    </tr>\n",
       "    <tr>\n",
       "      <th>73</th>\n",
       "      <td>나눔손글씨 잘하고 있어</td>\n",
       "      <td>0.434230</td>\n",
       "    </tr>\n",
       "    <tr>\n",
       "      <th>84</th>\n",
       "      <td>온글잎 안될과학궤도체</td>\n",
       "      <td>0.429493</td>\n",
       "    </tr>\n",
       "    <tr>\n",
       "      <th>65</th>\n",
       "      <td>나눔손글씨 세계적인 한글</td>\n",
       "      <td>0.428344</td>\n",
       "    </tr>\n",
       "    <tr>\n",
       "      <th>40</th>\n",
       "      <td>넷마블체 L</td>\n",
       "      <td>0.425547</td>\n",
       "    </tr>\n",
       "    <tr>\n",
       "      <th>53</th>\n",
       "      <td>어비 순수결정체</td>\n",
       "      <td>0.388375</td>\n",
       "    </tr>\n",
       "    <tr>\n",
       "      <th>76</th>\n",
       "      <td>나눔손글씨 코코체</td>\n",
       "      <td>0.383877</td>\n",
       "    </tr>\n",
       "    <tr>\n",
       "      <th>48</th>\n",
       "      <td>THE선인장</td>\n",
       "      <td>0.381871</td>\n",
       "    </tr>\n",
       "    <tr>\n",
       "      <th>1</th>\n",
       "      <td>경기천년바탕 Regular</td>\n",
       "      <td>0.375653</td>\n",
       "    </tr>\n",
       "    <tr>\n",
       "      <th>21</th>\n",
       "      <td>굴림체</td>\n",
       "      <td>0.365839</td>\n",
       "    </tr>\n",
       "  </tbody>\n",
       "</table>\n",
       "</div>"
      ],
      "text/plain": [
       "          fontname  similarity\n",
       "50    어비 남지은체 Bold    1.000000\n",
       "83         온글잎 민혜체    0.581632\n",
       "16        동글 Light    0.570141\n",
       "75       나눔손글씨 중학생    0.504449\n",
       "51         어비 남지은체    0.473871\n",
       "11        카페24 동동체    0.445302\n",
       "73    나눔손글씨 잘하고 있어    0.434230\n",
       "84     온글잎 안될과학궤도체    0.429493\n",
       "65   나눔손글씨 세계적인 한글    0.428344\n",
       "40          넷마블체 L    0.425547\n",
       "53        어비 순수결정체    0.388375\n",
       "76       나눔손글씨 코코체    0.383877\n",
       "48          THE선인장    0.381871\n",
       "1   경기천년바탕 Regular    0.375653\n",
       "21             굴림체    0.365839"
      ]
     },
     "execution_count": 39,
     "metadata": {},
     "output_type": "execute_result"
    }
   ],
   "source": [
    "font_search_rank  # 전체 유사도 순위\n",
    "font_search_rank.iloc[:15]  # 상위 유사도 15위 폰트"
   ]
  }
 ],
 "metadata": {
  "kernelspec": {
   "display_name": "Python 3.8.5 ('base')",
   "language": "python",
   "name": "python3"
  },
  "language_info": {
   "codemirror_mode": {
    "name": "ipython",
    "version": 3
   },
   "file_extension": ".py",
   "mimetype": "text/x-python",
   "name": "python",
   "nbconvert_exporter": "python",
   "pygments_lexer": "ipython3",
   "version": "3.8.5"
  },
  "vscode": {
   "interpreter": {
    "hash": "3d846d80525939fc67cf21a1222fcca1daba31c8fddd2ba1792ca86a1af098cb"
   }
  }
 },
 "nbformat": 4,
 "nbformat_minor": 2
}
