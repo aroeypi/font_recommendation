{
 "cells": [
  {
   "attachments": {},
   "cell_type": "markdown",
   "metadata": {},
   "source": [
    "##### 1. 라이브러리 로드"
   ]
  },
  {
   "cell_type": "code",
   "execution_count": 1,
   "metadata": {},
   "outputs": [],
   "source": [
    "import sys\n",
    "import os\n",
    "sys.path.append(\"C:/Users/USER/OneDrive/문서/인턴/특징벡터 추출/img2vec_pytorch\")  # Adds higher directory to python modules path.\n",
    "from img_to_vec import Img2Vec\n",
    "from PIL import Image\n",
    "import pandas as pd\n",
    "import numpy as np\n",
    "from sklearn.preprocessing import MinMaxScaler\n",
    "from sklearn.metrics.pairwise import cosine_similarity"
   ]
  },
  {
   "attachments": {},
   "cell_type": "markdown",
   "metadata": {},
   "source": [
    "#### 2. 특징벡터 파일 로드\n",
    "##### 2-1. 형태소의 특징 벡터 파일 로드"
   ]
  },
  {
   "cell_type": "code",
   "execution_count": 2,
   "metadata": {},
   "outputs": [],
   "source": [
    "bbichim_df = pd.read_csv('형태소별 특징벡터/bbichim_clustering_feature_vector.csv').drop(columns = ['fontname'])\n",
    "buri_df = pd.read_csv('형태소별 특징벡터/buri_clustering_feature_vector.csv').drop(columns = ['fontname'])\n",
    "kkeokim_df = pd.read_csv('형태소별 특징벡터/kkeokim_clustering_feature_vector.csv').drop(columns = ['fontname'])\n",
    "kkokjijum_df = pd.read_csv('형태소별 특징벡터/kkokjijum_clustering_feature_vector.csv').drop(columns = ['fontname'])\n",
    "sangtu_df = pd.read_csv('형태소별 특징벡터/sangtu_clustering_feature_vector.csv').drop(columns = ['fontname'])"
   ]
  },
  {
   "attachments": {},
   "cell_type": "markdown",
   "metadata": {},
   "source": [
    "##### 2-2. 클러스터의 중심점 벡터 파일 로드"
   ]
  },
  {
   "cell_type": "code",
   "execution_count": 3,
   "metadata": {},
   "outputs": [],
   "source": [
    "bbichim_centroid = pd.read_csv(\"클러스터 중심점/bbichim_cluster_centers_.csv\")\n",
    "buri_centroid = pd.read_csv(\"클러스터 중심점/buri_cluster_centers_.csv\")\n",
    "kkeokim_centroid = pd.read_csv(\"클러스터 중심점/kkeokim_cluster_centers_.csv\")\n",
    "kkokjijum_centroid = pd.read_csv(\"클러스터 중심점/kkokjijum_cluster_centers_.csv\")\n",
    "sangtu_centroid = pd.read_csv(\"클러스터 중심점/sangtu_cluster_centers_.csv\")"
   ]
  },
  {
   "attachments": {},
   "cell_type": "markdown",
   "metadata": {},
   "source": [
    "##### 2-3. 폰트별 가로, 세로 굵기 파일 로드"
   ]
  },
  {
   "cell_type": "code",
   "execution_count": 4,
   "metadata": {},
   "outputs": [],
   "source": [
    "stroke_thickness_df = pd.read_csv('stroke_thickness.csv') #.drop(columns=['fontname'])"
   ]
  },
  {
   "cell_type": "code",
   "execution_count": 5,
   "metadata": {},
   "outputs": [
    {
     "data": {
      "text/html": [
       "<div>\n",
       "<style scoped>\n",
       "    .dataframe tbody tr th:only-of-type {\n",
       "        vertical-align: middle;\n",
       "    }\n",
       "\n",
       "    .dataframe tbody tr th {\n",
       "        vertical-align: top;\n",
       "    }\n",
       "\n",
       "    .dataframe thead th {\n",
       "        text-align: right;\n",
       "    }\n",
       "</style>\n",
       "<table border=\"1\" class=\"dataframe\">\n",
       "  <thead>\n",
       "    <tr style=\"text-align: right;\">\n",
       "      <th></th>\n",
       "      <th>fontname</th>\n",
       "      <th>width</th>\n",
       "      <th>height</th>\n",
       "    </tr>\n",
       "  </thead>\n",
       "  <tbody>\n",
       "    <tr>\n",
       "      <th>0</th>\n",
       "      <td>텐바이텐 폰트</td>\n",
       "      <td>23.5</td>\n",
       "      <td>17</td>\n",
       "    </tr>\n",
       "    <tr>\n",
       "      <th>1</th>\n",
       "      <td>텐바이텐 폰트 Bold</td>\n",
       "      <td>30.0</td>\n",
       "      <td>24</td>\n",
       "    </tr>\n",
       "    <tr>\n",
       "      <th>2</th>\n",
       "      <td>116앵무부리</td>\n",
       "      <td>6.5</td>\n",
       "      <td>6</td>\n",
       "    </tr>\n",
       "    <tr>\n",
       "      <th>3</th>\n",
       "      <td>116수박화체</td>\n",
       "      <td>31.5</td>\n",
       "      <td>8</td>\n",
       "    </tr>\n",
       "    <tr>\n",
       "      <th>4</th>\n",
       "      <td>12롯데마트드림Bold</td>\n",
       "      <td>26.0</td>\n",
       "      <td>21</td>\n",
       "    </tr>\n",
       "    <tr>\n",
       "      <th>...</th>\n",
       "      <td>...</td>\n",
       "      <td>...</td>\n",
       "      <td>...</td>\n",
       "    </tr>\n",
       "    <tr>\n",
       "      <th>415</th>\n",
       "      <td>행복고흥L</td>\n",
       "      <td>11.0</td>\n",
       "      <td>11</td>\n",
       "    </tr>\n",
       "    <tr>\n",
       "      <th>416</th>\n",
       "      <td>행복고흥M</td>\n",
       "      <td>16.0</td>\n",
       "      <td>18</td>\n",
       "    </tr>\n",
       "    <tr>\n",
       "      <th>417</th>\n",
       "      <td>헬스셋고딕Bold</td>\n",
       "      <td>22.5</td>\n",
       "      <td>21</td>\n",
       "    </tr>\n",
       "    <tr>\n",
       "      <th>418</th>\n",
       "      <td>헬스셋고딕Light</td>\n",
       "      <td>15.5</td>\n",
       "      <td>14</td>\n",
       "    </tr>\n",
       "    <tr>\n",
       "      <th>419</th>\n",
       "      <td>헬스셋조릿대Std</td>\n",
       "      <td>22.5</td>\n",
       "      <td>25</td>\n",
       "    </tr>\n",
       "  </tbody>\n",
       "</table>\n",
       "<p>420 rows × 3 columns</p>\n",
       "</div>"
      ],
      "text/plain": [
       "         fontname  width  height\n",
       "0         텐바이텐 폰트   23.5      17\n",
       "1    텐바이텐 폰트 Bold   30.0      24\n",
       "2         116앵무부리    6.5       6\n",
       "3         116수박화체   31.5       8\n",
       "4    12롯데마트드림Bold   26.0      21\n",
       "..            ...    ...     ...\n",
       "415         행복고흥L   11.0      11\n",
       "416         행복고흥M   16.0      18\n",
       "417     헬스셋고딕Bold   22.5      21\n",
       "418    헬스셋고딕Light   15.5      14\n",
       "419     헬스셋조릿대Std   22.5      25\n",
       "\n",
       "[420 rows x 3 columns]"
      ]
     },
     "execution_count": 5,
     "metadata": {},
     "output_type": "execute_result"
    }
   ],
   "source": [
    "stroke_thickness_df"
   ]
  },
  {
   "attachments": {},
   "cell_type": "markdown",
   "metadata": {},
   "source": [
    "#### 3. 입력이미지 형태소의 특징벡터 추출"
   ]
  },
  {
   "cell_type": "code",
   "execution_count": 6,
   "metadata": {},
   "outputs": [
    {
     "name": "stdout",
     "output_type": "stream",
     "text": [
      "AdaptiveAvgPool2d(output_size=(1, 1))\n",
      "(5, 2048)\n"
     ]
    }
   ],
   "source": [
    "img2vec =Img2Vec(model=\"inception\")\n",
    "\n",
    "### 테스트 폰트 경로\n",
    "input_path = './test_img/'\n",
    "\n",
    "list_pics = []\n",
    "filenames = []\n",
    "for file in os.listdir(input_path):\n",
    "  filename = os.fsdecode(file)\n",
    "  img = Image.open(os.path.join(input_path, filename))\n",
    "  list_pics.append(img)\n",
    "  filenames.append(filename)\n",
    "\n",
    "vectors1 = img2vec.get_vec(list_pics)\n",
    "\n",
    "pics = {}\n",
    "for i, vec in enumerate(vectors1):\n",
    "  pics[filenames[i]] = vec"
   ]
  },
  {
   "attachments": {},
   "cell_type": "markdown",
   "metadata": {},
   "source": [
    "##### 2-2.입력 형태소 가로 세로 굵기 계산 함수"
   ]
  },
  {
   "cell_type": "code",
   "execution_count": 35,
   "metadata": {},
   "outputs": [],
   "source": [
    "import numpy as np\n",
    "# 입력 형태소 가로, 세로 길이 계산하는 함수\n",
    "def stroke_width_height(img_np,flag):\n",
    "    n = len(img_np)-1 #마지막 행\n",
    "    if flag=='width':\n",
    "        img_np_tf = img_np[n]<128\n",
    "    elif flag=='height':\n",
    "        img_np_tf = img_np.T[0] <128\n",
    "    # 처음 나타나는 True의 인덱스를 찾습니다.\n",
    "    first_true = np.argmax(img_np_tf)\n",
    "    # 마지막으로 나타나는 True의 인덱스를 찾습니다.\n",
    "    last_true = len(img_np_tf) - np.argmax(img_np_tf[::-1]) - 1\n",
    "    # 처음 나타나는 True와 마지막으로 나타나는 True 사이의 모든 요소를 True로 설정합니다.\n",
    "    img_np_tf[first_true:last_true+1] = True\n",
    "    a= (img_np_tf).sum()\n",
    "    \n",
    "    return a"
   ]
  },
  {
   "cell_type": "code",
   "execution_count": 36,
   "metadata": {},
   "outputs": [],
   "source": [
    "\n",
    "# 입력 형태소 이미지 넘파이 배열로 저장\n",
    "import os\n",
    "from PIL import Image\n",
    "\n",
    "input_path = './test_img/'\n",
    "input_list = []\n",
    "filenames = []\n",
    "for file in os.listdir(input_path):\n",
    "  filename = os.fsdecode(file)\n",
    "  filenames.append(filename)\n",
    "\n",
    "  img = Image.open(os.path.join(input_path, filename)).convert('L')\n",
    "  # img_resize = img.resize((70, 70)) #이미지 크기를 (70,70)\n",
    "  img_array = np.array(img)\n",
    "  input_list.append(img_array)\n",
    "  # img_np = np.array(input_list_np) #리스트를 numpy로 변환\n",
    "\n",
    "imgs = {}\n",
    "for i, img_array in enumerate(input_list):\n",
    "  imgs[filenames[i]] = img_array\n"
   ]
  },
  {
   "cell_type": "code",
   "execution_count": 34,
   "metadata": {},
   "outputs": [
    {
     "data": {
      "text/plain": [
       "(47, 55)"
      ]
     },
     "execution_count": 34,
     "metadata": {},
     "output_type": "execute_result"
    }
   ],
   "source": [
    "imgs['Bbichim.png'].shape"
   ]
  },
  {
   "attachments": {},
   "cell_type": "markdown",
   "metadata": {},
   "source": [
    "#### 3. 클러스터링 관련 함수"
   ]
  },
  {
   "attachments": {},
   "cell_type": "markdown",
   "metadata": {},
   "source": [
    "##### 3-1. PCA(차원축소)"
   ]
  },
  {
   "cell_type": "code",
   "execution_count": 9,
   "metadata": {},
   "outputs": [],
   "source": [
    "from sklearn.preprocessing import StandardScaler\n",
    "from sklearn.decomposition import PCA\n",
    "\n",
    "def data_pca(df, n):\n",
    "  scaler = StandardScaler()\n",
    "  X_scaled=scaler.fit_transform(df)\n",
    "  #n차원으로 축소\n",
    "  pca=PCA(n_components=n)\n",
    "  pca.fit(X_scaled)\n",
    "  X_pca=pca.transform(X_scaled)\n",
    "  df_pca =pd.DataFrame(X_pca)\n",
    "  return df_pca"
   ]
  },
  {
   "attachments": {},
   "cell_type": "markdown",
   "metadata": {},
   "source": [
    "##### 3-2. DataFrame에 폰트명 추가"
   ]
  },
  {
   "cell_type": "code",
   "execution_count": 10,
   "metadata": {},
   "outputs": [],
   "source": [
    "def add_fontname(df_pca):\n",
    "  fontname = [\"텐바이텐 폰트\", \"텐바이텐 폰트 Bold\", \"116앵무부리\", \"116수박화체\", \"12롯데마트드림Bold\", \"12롯데마트드림Light\", \"12롯데마트드림Medium\", \"12롯데마트행복Bold\", \"12롯데마트행복Light\", \"12롯데마트행복Medium\", \"도서관체\", \"성동고딕\", \"성동고딕B\", \"경기천년제목 Bold\", \"경기천년제목 Medium\", \"경기천년제목V Bold\", \"경기천년바탕 Bold\", \"경기천년바탕 Regular\", \"빛고을광주체 Light\", \"빛고을광주체 Medium\", \"빛고을광주체 Bold\", \"김포평화바탕\", \"순천체R\", \"순천체B\", \"전주완판본 순체 B\", \"전주완판본 순체 L\", \"전주완판본 순체 R\", \"전주완판본 각체 B\", \"전주완판본 각체 L\", \"전주완판본 각체 R\", \"유토이미지 고딕 R\", \"유토이미지 별나라달님체\", \"유토이미지 빨간우체통체\", \"유토이미지 플라워체\", \"유토이미지체\", \"유토이미지 고딕 B\", \"유토이미지 고딕 L\", \"아리따 부리 B\", \"아리따 부리 L\", \"아리따 부리 M\", \"아리따 부리 SB\", \"애터미체 Bold\", \"애터미체 Light\", \"애터미체 Medium\", \"a타이틀고딕2\", \"a타이틀고딕3\", \"a타이틀고딕4\", \"바른바탕체 B\", \"바른바탕체 L\", \"바른바탕체 M\", \"바탕체\", \"넥슨 배찌체\", \"빙그레체\", \"빙그레 메로나체 Bold\", \"빙그레 메로나\", \"빙그레 싸만코체 Bold\", \"빙그레 싸만코체\", \"빙그레체Ⅱ\", \"도현체\", \"을지로10년후체\", \"을지로체\", \"한나체 Air\", \"한나체 Pro\", \"한나는11살체\", \"주아체\", \"기랑해랑체\", \"연성체\", \"부산체\", \"카페24 당당해체\", \"카페24 단정해체\", \"카페24 동동체\", \"카페24 아네모네 에어체\", \"카페24 빛나는별체\", \"카페24 쑥쑥체\", \"카페24 숑숑체\", \"창원단감아삭체 Bold\", \"쿠키런체 Black\", \"쿠키런체 Bold\", \"디자인하우스체\", \"디자인하우스체 Light\", \"영양군 음식디미방체\", \"동글 Bold\", \"동글 Light\", \"동글 Regular\", \"도스고딕\", \"도스이야기 굵은체\", \"도스명조\", \"도스필기\", \"도스샘물\", \"돋움체\", \"둥근모꼴\", \"DX아리랑 B\", \"DX아우라\", \"DX작가세상 M\", \"DX방탄고딕\", \"DX봄결 ExBold\", \"DX블루마린라운드 ExBold\", \"DX어린이그림\", \"DX동화나라 Bold\", \"DX퓨리티 Bold\", \"DX헤드02 Bold\", \"DX설레임2 Medium\", \"DX설레임 Medium\", \"DX우등생 Bold\", \"DX한울 Bold\", \"DX경필명조 Bold\", \"DX모던고딕 Bold\", \"DX모던고딕 RoundBold\", \"DX국민시대 Regular\", \"DX새신문명조 Bold\", \"DX프로방스 Bold\", \"DX르네상스 Bold\", \"DX단선고딕 Thin\", \"DX신문명조\", \"DX스피드 Medium\", \"DX우리강산 Bold\", \"EBS주시경B\", \"EBS주시경L\", \"EBS주시경M\", \"마초체\", \"엘리스디지털배움체 Regular\", \"설립체\", \"가비아 청연체\", \"가비아 마음결체\", \"가비아 봄바람체\", \"가비아 납작블럭체\", \"가비아 솔미체\", \"가나초콜릿체\", \"고도체 B\", \"고도체 M\", \"고양덕양체 B\", \"고양덕양체 EB\", \"굴림체\", \"HY그래픽M\", \"HY견고딕\", \"HY중고딕\", \"HY헤드라인M\", \"HY견명조\", \"HY신명조\", \"HY얕은샘물M\", \"함렡체 Black\", \"함렡체 Bold\", \"함렡체 Light\", \"함렡체 Regular\", \"한컴 백제 B\", \"함초롬바탕체\", \"함초롬바탕체 B\", \"한글누리체\", \"한글누리체 R\", \"한겨레결체\", \"한컴 바겐세일 B\", \"한컴 바겐세일 M\", \"한솔체 B\", \"한솔체 M\", \"한컴 소망 B\", \"한컴 소망 M\", \"HanS 붐붐\", \"윤고딕 230\", \"윤고딕 240\", \"Headline\", \"빛의계승자체 Bold\", \"빛의계승자체 Regular\", \"휴먼굵은팸체\", \"휴먼굵은샘체\", \"휴먼가는팸체\", \"휴먼가는샘체\", \"휴먼아미체\", \"휴먼고딕\", \"휴먼명조\", \"휴먼매직체\", \"휴먼옛체\", \"휴먼둥근헤드라인\", \"휴먼중간샘체\", \"HS새마을체 Regular\", \"HS겨울눈꽃체\", \"HS두꺼비체\", \"HS봄바람체 2.0\", \"HS새마을체\", \"HY 바다 L\", \"HY 바다 M\", \"HY 그래픽\", \"HY 강 B\", \"HY 강 M\", \"이롭게 바탕체\", \"한글재민체\", \"제주고딕\", \"제주한라산\", \"제주명조\", \"정선아리랑체\", \"정선아리랑혼체\", \"정선아리랑뿌리체\", \"KBIZ 한마음고딕 B\", \"KBIZ 한마음고딕 H\", \"KBIZ 한마음고딕 L\", \"KBIZ 한마음고딕 M\", \"KBIZ 한마음고딕 R\", \"KBIZ 한마음명조 B\", \"KBIZ 한마음명조 L\", \"KBIZ 한마음명조 M\", \"KBIZ 한마음명조 R\", \"KCC안중근체\", \"KCC임권택체\", \"KCC김훈체\", \"KCC은영체\", \"KoPub 바탕체 Bold\", \"KoPub 바탕체 Light\", \"KoPub 바탕체 Medium\", \"KoPub 돋움체 Bold\", \"KoPub 돋움체 Light\", \"KoPub 돋움체 Medium\", \"코트라 희망체\", \"코트라 도약체\", \"코트라 볼드체\", \"로커스 상상고딕체\", \"맑은 고딕\", \"메이플스토리 Bold\", \"메이플스토리 Light\", \"마포애민\", \"마포배낭여행\", \"마포다카포\", \"마포홍대프리덤\", \"마포마포나루\", \"미래로글꼴\", \"나눔손글씨 붓\", \"나눔고딕에코\", \"나눔고딕에코 Bold\", \"나눔고딕에코 ExtraBold\", \"나눔명조\", \"나눔명조에코\", \"나눔명조에코 Bold\", \"나눔명조에코 ExtraBold\", \"나눔손글씨 펜\", \"나눔스퀘어\", \"넷마블체 B\", \"넷마블체 L\", \"넷마블체 M\", \"넥센타이어체 Bold\", \"넥센타이어체 Regular\", \"닉스곤체 B 2.0\", \"닉스곤체 M 2.0\", \"ON I고딕\", \"원스토어 모바일POP체\", \"포천 오성과한음체 Bold\", \"포천 오성과한음체 Regular\", \"푸른전남체 Bold\", \"푸른전남체 Medium\", \"푸른전남체\", \"평창평화체 Bold\", \"평창평화체 Light\", \"노회찬체\", \"삼국지3글꼴\", \"상주다정다감체\", \"상주곶감체\", \"상주경천섬체\", \"산돌독수리체\", \"산돌이야기체\", \"세방고딕 Bold\", \"세방고딕\", \"서울남산체\", \"SF망고빙수\", \"스포카 한 산스 Bold\", \"스포카 한 산스 Light\", \"스포카 한 산스 Regular\", \"스포카 한 산스 Thin\", \"정묵바위체\", \"순바탕 Bold\", \"순바탕 Light\", \"순바탕 Medium\", \"태-조각TB\", \"태-으뜸B\", \"THE뉴스속보\", \"THE명품굴림B\", \"THE선인장\", \"THE정직\", \"티몬체\", \"tvN 즐거운이야기 Bold\", \"tvN 즐거운이야기 Light\", \"tvN 즐거운이야기 Medium\", \"티웨이 항공체\", \"티웨이 날다체\", \"티웨이 하늘체\", \"타이포 발레리나 B\", \"타이포 발레리나 M\", \"타이포 도담\", \"타이포 돈키왕자 M\", \"타이포 어울림 B\", \"타이포 어울림 L\", \"타이포 어울림 M\", \"타이포 홍익인간 M\", \"타이포 정조 M\", \"타이포 세종대왕 훈민\", \"타이포 달꽃\", \"타이포 명탐정\", \"타이포 씨고딕180\", \"타이포 씨명조180\", \"타이포 스톰 B\", \"어비 꿍디체\", \"어비 나현체 Bold\", \"어비 나현체\", \"어비 남지은체 Bold\", \"어비 남지은체\", \"어비 소윤체\", \"어비 선홍체 BOLD\", \"어비 선홍체\", \"어비 스윗체\", \"어비 순수결정체 Bold\", \"어비 순수결정체\", \"양굵은구조고딕\", \"양평군체 B\", \"양평군체 L\", \"양평군체 M\", \"Y이드스트릿체 B\", \"Y이드스트릿체 L\", \"영도체\", \"양재깨비체M\", \"청소년체\", \"강한육군 Bold Vert\", \"강한육군 Bold\", \"강한육군 Medium Vert\", \"강한육군 Medium\", \"경기천년제목 Light\", \"고양일산 R\", \"국립박물관문화재단클래식B\", \"국립박물관문화재단클래식L\", \"국립박물관문화재단클래식M\", \"국립중앙도서관글자체\", \"나눔손글씨 가람연꽃\", \"나눔손글씨 갈맷글\", \"나눔손글씨 강부장님체\", \"나눔손글씨 고딕 아니고 고딩\", \"나눔손글씨 고려글꼴\", \"나눔손글씨 곰신체\", \"나눔손글씨 규리의 일기\", \"나눔손글씨 김유이체\", \"나눔손글씨 꽃내음\", \"나눔손글씨 끄트머리체\", \"나눔손글씨 다행체\", \"나눔손글씨 대광유리\", \"나눔손글씨 딸에게 엄마가\", \"나눔손글씨 반짝반짝 별\", \"나눔손글씨 세계적인 한글\", \"나눔손글씨 세아체\", \"나눔손글씨 세화체\", \"나눔손글씨 소방관의 기도\", \"나눔손글씨 시우 귀여워\", \"나눔손글씨 신혼부부\", \"나눔손글씨 아빠의 연애편지\", \"나눔손글씨 아줌마 자유\", \"나눔손글씨 엄마사랑\", \"나눔손글씨 와일드\", \"나눔손글씨 외할머니글씨\", \"나눔손글씨 유니 띵땅띵땅\", \"나눔손글씨 자부심지우\", \"나눔손글씨 잘하고 있어\", \"나눔손글씨 장미체\", \"나눔손글씨 점꼴체\", \"나눔손글씨 정은체\", \"나눔손글씨 중학생\", \"나눔손글씨 진주 박경아체\", \"나눔손글씨 철필글씨\", \"나눔손글씨 칼국수\", \"나눔손글씨 코코체\", \"나눔손글씨 한윤체\", \"나눔손글씨 행복한 도비\", \"나눔손글씨 혜준체\", \"나눔손글씨 희망누리\", \"나눔손글씨 흰꼬리수리\", \"동그라미재단B\", \"동그라미재단L\", \"동그라미재단M\", \"문화재돌봄체 Bold\", \"문화재돌봄체 Regular\", \"배스킨라빈스 B\", \"비트로 코어체\", \"비트로 프라이드체\", \"서울남산 장체 B\", \"서울남산 장체 BL\", \"서울남산 장체 EB\", \"서울남산 장체 L\", \"서울남산 장체 M\", \"서울한강 장체 B\", \"서울한강 장체 BL\", \"서울한강 장체 EB\", \"서울한강 장체 L\", \"서울한강 장체 M\", \"솔뫼 김대건 Light\", \"솔뫼 김대건 Medium\", \"솔인써니체\", \"양진체\", \"온글잎 경영체\", \"온글잎 만두몽키체\", \"온글잎 무궁체\", \"온글잎 민혜체\", \"온글잎 보현체\", \"온글잎 석영체\", \"온글잎 안될과학궤도체\", \"온글잎 안될과학약체\", \"온글잎 안될과학유니랩장체\", \"온글잎 윤우체\", \"온글잎 의연체\", \"온글잎 해솜체\", \"이순신돋움체B\", \"이순신돋움체L\", \"이순신돋움체M\", \"조선일보명조\", \"중나좋체 Light\", \"중나좋체 Medium\", \"한글틀고딕\", \"한수원_한돋음_B\", \"한돋음체 R\", \"한울림체 R\", \"해수체B\", \"해수체L\", \"해수체M\", \"행복고흥B\", \"행복고흥L\", \"행복고흥M\", \"헬스셋고딕Bold\", \"헬스셋고딕Light\", \"헬스셋조릿대Std\"]\n",
    "  fontname.append(\"input font\")  \n",
    "  df_pca.insert(0, 'fontname', fontname)\n",
    "  return df_pca"
   ]
  },
  {
   "attachments": {},
   "cell_type": "markdown",
   "metadata": {},
   "source": [
    "##### 3-3. 클러스터링"
   ]
  },
  {
   "cell_type": "code",
   "execution_count": 42,
   "metadata": {},
   "outputs": [],
   "source": [
    "def find_cluster(df, centroid, pic, pca_n, candidate_font, comparative_font_df):\n",
    "  \n",
    "  prev_pca = df.drop(columns=['cluster'])\n",
    "  prev_pca.loc[len(df)] = pic\n",
    "  \n",
    "  # 입력 이미지를 포함해 전체 데이터 차원축소\n",
    "  pca = data_pca(prev_pca, pca_n)\n",
    "    \n",
    "  # 입력 이미지의 특징벡터\n",
    "  input = pca.iloc[[-1]]  \n",
    "\n",
    "  # 입력이미지와 중심점까지의 거리를 측정해서 어느 클러스터에 속하는지 계산\n",
    "  dist_to_centroid = [] \n",
    "  for idx, row in centroid.iterrows():\n",
    "    dist_to_centroid.append(cosine_similarity(input.values, centroid.loc[[idx]].values)[0][0])\n",
    "  input_cluster = dist_to_centroid.index(max(dist_to_centroid))\n",
    "  print(\"input_cluster : \", input_cluster)  \n",
    "\n",
    "  # 입력이미지와 클러스터 폰트의 유사도 계산\n",
    "  similarity = []\n",
    "  same_cluster_idx = df[df['cluster']==input_cluster].index\n",
    "  for idx in same_cluster_idx:\n",
    "    similarity.append(cosine_similarity(input.values, pca.iloc[[idx]].values)[0][0])\n",
    "\n",
    "  # 유사도가 0.6보다 큰 폰트만 후보 폰트(최종 유사도 계산 대상 폰트)로 함\n",
    "  similarity_df = add_fontname(pca).loc[same_cluster_idx, :]\n",
    "  similarity_df['similarity'] = similarity\n",
    "  sim_high_df = similarity_df[similarity_df['similarity'] >= 0.6]\n",
    "  candidate_font = np.concatenate((candidate_font, sim_high_df['fontname'].values), axis=0)\n",
    "\n",
    "  # 입력 삐침 형태소와의 비교를 위해 기존 폰트의 삐침 형태소를 포함시킴\n",
    "  comparative_font_df = pd.concat([comparative_font_df, pca.drop(columns=['fontname'])], axis=1)\n",
    "  return candidate_font, comparative_font_df"
   ]
  },
  {
   "attachments": {},
   "cell_type": "markdown",
   "metadata": {},
   "source": [
    "### 4. 형태소 클러스터링"
   ]
  },
  {
   "cell_type": "code",
   "execution_count": 43,
   "metadata": {},
   "outputs": [],
   "source": [
    "# 입력 형태소와 비교하기 위해 기존 폰트(420)의 특징벡터를 저장할 DataFrame\n",
    "# 입력 형태소가 삐침, 상투면 해당 df에도 기존 폰트의 삐침, 상투만 저장하여 비교함\n",
    "comparative_font_df = pd.DataFrame()\n",
    "\n",
    "# 입력 형태소와 같은 클러스터에 속한 폰트\n",
    "candidate_font = np.array([])"
   ]
  },
  {
   "cell_type": "code",
   "execution_count": 44,
   "metadata": {},
   "outputs": [
    {
     "name": "stdout",
     "output_type": "stream",
     "text": [
      "input_cluster :  3\n",
      "input_cluster :  0\n",
      "input_cluster :  7\n",
      "input_cluster :  4\n",
      "input_cluster :  1\n"
     ]
    }
   ],
   "source": [
    "if 'Bbichim.png' in filenames:\n",
    "  candidate_font, comparative_font_df = find_cluster(bbichim_df, bbichim_centroid, pics['Bbichim.png'], 18, candidate_font, comparative_font_df)\n",
    "\n",
    "if 'Buri.png' in filenames:\n",
    "  candidate_font, comparative_font_df = find_cluster(buri_df, buri_centroid, pics['Buri.png'], 10, candidate_font, comparative_font_df)\n",
    "\n",
    "if 'Kkeokim.png' in filenames:\n",
    "  candidate_font, comparative_font_df = find_cluster(kkeokim_df, kkeokim_centroid, pics['Kkeokim.png'], 20, candidate_font, comparative_font_df)\n",
    "\n",
    "if 'Kkokjijum.png' in filenames:\n",
    "  candidate_font, comparative_font_df = find_cluster(kkokjijum_df, kkokjijum_centroid, pics['Kkokjijum.png'], 18, candidate_font, comparative_font_df)\n",
    "\n",
    "if 'Sangtu.png' in filenames:\n",
    "  candidate_font, comparative_font_df = find_cluster(sangtu_df, sangtu_centroid, pics['Sangtu.png'], 18, candidate_font, comparative_font_df)  "
   ]
  },
  {
   "cell_type": "code",
   "execution_count": 45,
   "metadata": {},
   "outputs": [
    {
     "name": "stdout",
     "output_type": "stream",
     "text": [
      "kkeokim true\n",
      "buri true\n"
     ]
    }
   ],
   "source": [
    "width_list = []\n",
    "height_list = []\n",
    "if 'Kkeokim.png' in filenames:\n",
    "    kkeokim_width = stroke_width_height(imgs['Kkeokim.png'],'width')\n",
    "    kkeokim_height = stroke_width_height(imgs['Kkeokim.png'],'height')\n",
    "    width_list.append(kkeokim_width)\n",
    "    height_list.append(kkeokim_height)\n",
    "    print('kkeokim true')\n",
    "if 'Buri.png' in filenames:\n",
    "    buri_width = stroke_width_height(imgs['Buri.png'],'width')\n",
    "    width_list.append(buri_width)\n",
    "    print('buri true')\n",
    "if 'Gaji.png' in filenames:\n",
    "    gaji_width = stroke_width_height(imgs['Gaji.png'],'width')\n",
    "    gaji_height = stroke_width_height(imgs['Gaji.png'],'height')\n",
    "    print('gaji true')"
   ]
  },
  {
   "cell_type": "code",
   "execution_count": 46,
   "metadata": {},
   "outputs": [
    {
     "data": {
      "text/plain": [
       "18.0"
      ]
     },
     "execution_count": 46,
     "metadata": {},
     "output_type": "execute_result"
    }
   ],
   "source": [
    "# 입력 형태소 가로 굵기 평균\n",
    "width_np_array=  np.array(width_list)\n",
    "width = width_np_array.sum()\n",
    "n = len(width_np_array)\n",
    "width_avg = width/n\n",
    "width_avg"
   ]
  },
  {
   "cell_type": "code",
   "execution_count": 47,
   "metadata": {},
   "outputs": [
    {
     "data": {
      "text/plain": [
       "17.0"
      ]
     },
     "execution_count": 47,
     "metadata": {},
     "output_type": "execute_result"
    }
   ],
   "source": [
    "# 입력 형태소 세로 굵기 평균\n",
    "height_np_array= np.array(height_list)\n",
    "height = height_np_array.sum()\n",
    "n = len(height_np_array)\n",
    "height_avg = height/n\n",
    "height_avg"
   ]
  },
  {
   "cell_type": "code",
   "execution_count": 48,
   "metadata": {},
   "outputs": [
    {
     "data": {
      "text/plain": [
       "array([['18.0', '17.0']], dtype=object)"
      ]
     },
     "execution_count": 48,
     "metadata": {},
     "output_type": "execute_result"
    }
   ],
   "source": [
    "input = np.array(['input', width_avg, height_avg])\n",
    "stroke_thickness_df.loc[420] = input\n",
    "stroke_thickness_df.iloc[[-1]].iloc[:, 1:].values"
   ]
  },
  {
   "attachments": {},
   "cell_type": "markdown",
   "metadata": {},
   "source": [
    "### 5. 입력 형태소 이미지와 비교 대상 폰트의 형태소 이미지를 비교"
   ]
  },
  {
   "cell_type": "code",
   "execution_count": 49,
   "metadata": {},
   "outputs": [],
   "source": [
    "comparative_font_df = add_fontname(comparative_font_df)\n",
    "test_font_vec = comparative_font_df.iloc[[-1]].iloc[:, 1:] #입력 이미지의 형태소 특징벡터\n",
    "\n",
    "font_recommendation_list = []\n",
    "font_recommendation_sim = []\n",
    "\n",
    "for i in range(comparative_font_df.shape[0]):\n",
    "  if comparative_font_df.iloc[i]['fontname'] in candidate_font:\n",
    "    font_recommendation_list.append(comparative_font_df.iloc[i]['fontname'])\n",
    "    font_recommendation_sim.append(cosine_similarity(test_font_vec.values, comparative_font_df.iloc[[i]].iloc[:, 1:].values)[0][0])"
   ]
  },
  {
   "cell_type": "code",
   "execution_count": 50,
   "metadata": {},
   "outputs": [],
   "source": [
    "from scipy.spatial import distance\n",
    "\n",
    "font_thickness_sim = []\n",
    "test_font_vec =stroke_thickness_df.iloc[[-1]].iloc[:, 1:]\n",
    "for i in range(stroke_thickness_df.shape[0]-1):\n",
    "    if stroke_thickness_df.iloc[i]['fontname'] in candidate_font:\n",
    "        font_thickness_sim.append(distance.euclidean(test_font_vec.values.astype('float64').flatten(), \n",
    "                                                    stroke_thickness_df.iloc[[i]].iloc[:, 1:].values.astype('float64').flatten()))"
   ]
  },
  {
   "cell_type": "code",
   "execution_count": 51,
   "metadata": {},
   "outputs": [
    {
     "data": {
      "text/plain": [
       "[15.913830462839549,\n",
       " 6.4031242374328485,\n",
       " 10.0,\n",
       " 1.118033988749895,\n",
       " 6.324555320336759,\n",
       " 11.661903789690601,\n",
       " 6.4031242374328485,\n",
       " 4.47213595499958,\n",
       " 5.385164807134504,\n",
       " 14.0089257261219,\n",
       " 3.0,\n",
       " 2.8284271247461903,\n",
       " 2.5,\n",
       " 7.0710678118654755,\n",
       " 2.0,\n",
       " 27.65863337187866,\n",
       " 11.313708498984761,\n",
       " 3.905124837953327,\n",
       " 5.220153254455275,\n",
       " 13.0862523283024,\n",
       " 8.73212459828649,\n",
       " 5.656854249492381,\n",
       " 10.307764064044152,\n",
       " 4.272001872658765,\n",
       " 8.381527307120106,\n",
       " 10.259142264341596,\n",
       " 10.259142264341596,\n",
       " 14.866068747318506,\n",
       " 20.0,\n",
       " 15.20690632574555,\n",
       " 11.236102527122116,\n",
       " 10.307764064044152,\n",
       " 9.219544457292887,\n",
       " 4.47213595499958,\n",
       " 3.1622776601683795,\n",
       " 9.219544457292887,\n",
       " 12.658988901172163,\n",
       " 27.408940147331492,\n",
       " 7.615773105863909,\n",
       " 19.29378138157474,\n",
       " 3.605551275463989,\n",
       " 8.077747210701755,\n",
       " 14.326548781894402,\n",
       " 6.4031242374328485,\n",
       " 1.8027756377319946,\n",
       " 14.142135623730951,\n",
       " 7.158910531638177,\n",
       " 9.433981132056603,\n",
       " 8.602325267042627,\n",
       " 4.031128874149275,\n",
       " 0.0,\n",
       " 5.830951894845301,\n",
       " 1.5,\n",
       " 12.041594578792296,\n",
       " 2.23606797749979,\n",
       " 2.692582403567252,\n",
       " 12.806248474865697,\n",
       " 12.206555615733702,\n",
       " 11.40175425099138,\n",
       " 2.23606797749979,\n",
       " 13.45362404707371,\n",
       " 15.556349186104045,\n",
       " 9.219544457292887,\n",
       " 14.866068747318506,\n",
       " 16.00781059358212,\n",
       " 12.727922061357855,\n",
       " 14.142135623730951,\n",
       " 10.307764064044152,\n",
       " 15.913830462839549,\n",
       " 12.727922061357855,\n",
       " 15.945218719101975,\n",
       " 15.556349186104045,\n",
       " 13.82931668593933,\n",
       " 14.866068747318506,\n",
       " 15.239750654128171,\n",
       " 7.632168761236874,\n",
       " 12.419742348374221,\n",
       " 12.041594578792296,\n",
       " 5.830951894845301,\n",
       " 4.031128874149275,\n",
       " 24.45914961727002,\n",
       " 11.313708498984761,\n",
       " 11.715374513859981,\n",
       " 12.041594578792296,\n",
       " 14.142135623730951,\n",
       " 9.219544457292887,\n",
       " 5.0]"
      ]
     },
     "execution_count": 51,
     "metadata": {},
     "output_type": "execute_result"
    }
   ],
   "source": [
    "font_thickness_sim"
   ]
  },
  {
   "cell_type": "code",
   "execution_count": 52,
   "metadata": {},
   "outputs": [
    {
     "data": {
      "text/plain": [
       "[1.2266233962799383e-07,\n",
       " 0.0016563742744195005,\n",
       " 4.5399929762484854e-05,\n",
       " 0.3269218953517579,\n",
       " 0.0017917628339095223,\n",
       " 8.615877898528333e-06,\n",
       " 0.0016563742744195005,\n",
       " 0.01142289099346694,\n",
       " 0.004584084770106734,\n",
       " 8.241397465228292e-07,\n",
       " 0.049787068367863944,\n",
       " 0.059105746561956225,\n",
       " 0.0820849986238988,\n",
       " 0.0008493257047191695,\n",
       " 0.1353352832366127,\n",
       " 9.727654777111843e-13,\n",
       " 1.2204467326041992e-05,\n",
       " 0.02013844029268878,\n",
       " 0.005406500492658723,\n",
       " 2.0735419451677834e-06,\n",
       " 0.00016131935305528384,\n",
       " 0.0034934892766462,\n",
       " 3.3372976775367666e-05,\n",
       " 0.01395382140119445,\n",
       " 0.00022905983344471606,\n",
       " 3.503572634614853e-05,\n",
       " 3.503572634614853e-05,\n",
       " 3.4974247209080487e-07,\n",
       " 2.061153622438558e-09,\n",
       " 2.4872789585374237e-07,\n",
       " 1.3189328172759821e-05,\n",
       " 3.3372976775367666e-05,\n",
       " 9.908381426207316e-05,\n",
       " 0.01142289099346694,\n",
       " 0.04232921962320499,\n",
       " 9.908381426207316e-05,\n",
       " 3.1788568683131777e-06,\n",
       " 1.248672477029947e-12,\n",
       " 0.0004926196878489246,\n",
       " 4.1765454412264565e-09,\n",
       " 0.02717246117223556,\n",
       " 0.00031036944540309045,\n",
       " 5.998724534602055e-07,\n",
       " 0.0016563742744195005,\n",
       " 0.16484071454660576,\n",
       " 7.213541526967138e-07,\n",
       " 0.0007779015908953165,\n",
       " 7.996023318572672e-05,\n",
       " 0.0001836781958654094,\n",
       " 0.017754276293213148,\n",
       " 1.0,\n",
       " 0.002935281570570076,\n",
       " 0.22313016014842982,\n",
       " 5.89388857413733e-06,\n",
       " 0.10687792566038574,\n",
       " 0.06770586953955125,\n",
       " 2.743575736958727e-06,\n",
       " 4.997585732039032e-06,\n",
       " 1.1175862368611251e-05,\n",
       " 0.10687792566038574,\n",
       " 1.436035958270068e-06,\n",
       " 1.7537326597418477e-07,\n",
       " 9.908381426207316e-05,\n",
       " 3.4974247209080487e-07,\n",
       " 1.1165963191141525e-07,\n",
       " 2.9671102418163984e-06,\n",
       " 7.213541526967138e-07,\n",
       " 3.3372976775367666e-05,\n",
       " 1.2266233962799383e-07,\n",
       " 2.9671102418163984e-06,\n",
       " 1.1887198025422007e-07,\n",
       " 1.7537326597418477e-07,\n",
       " 9.862887395236672e-07,\n",
       " 3.4974247209080487e-07,\n",
       " 2.4069129597101015e-07,\n",
       " 0.000484608717230379,\n",
       " 4.038075469711456e-06,\n",
       " 5.89388857413733e-06,\n",
       " 0.002935281570570076,\n",
       " 0.017754276293213148,\n",
       " 2.385208175042933e-11,\n",
       " 1.2204467326041992e-05,\n",
       " 8.167280947412068e-06,\n",
       " 5.89388857413733e-06,\n",
       " 7.213541526967138e-07,\n",
       " 9.908381426207316e-05,\n",
       " 0.006737946999085467]"
      ]
     },
     "execution_count": 52,
     "metadata": {},
     "output_type": "execute_result"
    }
   ],
   "source": [
    "import math\n",
    "font_thickness_sim = [math.exp(x*(-1)) for x in font_thickness_sim]\n",
    "font_thickness_sim"
   ]
  },
  {
   "cell_type": "code",
   "execution_count": null,
   "metadata": {},
   "outputs": [],
   "source": []
  },
  {
   "attachments": {},
   "cell_type": "markdown",
   "metadata": {},
   "source": [
    "### 6. 폰트 추천 결과"
   ]
  },
  {
   "cell_type": "code",
   "execution_count": 53,
   "metadata": {},
   "outputs": [],
   "source": [
    "font_recommendation = pd.DataFrame()\n",
    "font_recommendation['fontname'] = font_recommendation_list\n",
    "font_recommendation['similarity'] = font_recommendation_sim\n",
    "# font_search_rank = font_recommendation.sort_values(by='similarity', ascending=False)"
   ]
  },
  {
   "cell_type": "code",
   "execution_count": 54,
   "metadata": {},
   "outputs": [],
   "source": [
    "font_recommendation['thickness'] = font_thickness_sim"
   ]
  },
  {
   "cell_type": "code",
   "execution_count": 58,
   "metadata": {},
   "outputs": [],
   "source": [
    "font_recommendation['total similarity'] = 0.5 * font_recommendation['similarity'] + 0.5* font_recommendation['thickness']"
   ]
  },
  {
   "cell_type": "code",
   "execution_count": 59,
   "metadata": {},
   "outputs": [],
   "source": [
    "font_search_rank = font_recommendation.sort_values(by='total similarity', ascending=False)"
   ]
  },
  {
   "cell_type": "code",
   "execution_count": 60,
   "metadata": {},
   "outputs": [
    {
     "data": {
      "text/html": [
       "<div>\n",
       "<style scoped>\n",
       "    .dataframe tbody tr th:only-of-type {\n",
       "        vertical-align: middle;\n",
       "    }\n",
       "\n",
       "    .dataframe tbody tr th {\n",
       "        vertical-align: top;\n",
       "    }\n",
       "\n",
       "    .dataframe thead th {\n",
       "        text-align: right;\n",
       "    }\n",
       "</style>\n",
       "<table border=\"1\" class=\"dataframe\">\n",
       "  <thead>\n",
       "    <tr style=\"text-align: right;\">\n",
       "      <th></th>\n",
       "      <th>fontname</th>\n",
       "      <th>similarity</th>\n",
       "      <th>thickness</th>\n",
       "      <th>total similarity</th>\n",
       "    </tr>\n",
       "  </thead>\n",
       "  <tbody>\n",
       "    <tr>\n",
       "      <th>50</th>\n",
       "      <td>어비 남지은체 Bold</td>\n",
       "      <td>1.000000</td>\n",
       "      <td>1.000000e+00</td>\n",
       "      <td>1.000000</td>\n",
       "    </tr>\n",
       "    <tr>\n",
       "      <th>3</th>\n",
       "      <td>유토이미지 고딕 R</td>\n",
       "      <td>0.307715</td>\n",
       "      <td>3.269219e-01</td>\n",
       "      <td>0.317318</td>\n",
       "    </tr>\n",
       "    <tr>\n",
       "      <th>83</th>\n",
       "      <td>온글잎 민혜체</td>\n",
       "      <td>0.583181</td>\n",
       "      <td>5.893889e-06</td>\n",
       "      <td>0.291594</td>\n",
       "    </tr>\n",
       "    <tr>\n",
       "      <th>16</th>\n",
       "      <td>동글 Light</td>\n",
       "      <td>0.572387</td>\n",
       "      <td>1.220447e-05</td>\n",
       "      <td>0.286200</td>\n",
       "    </tr>\n",
       "    <tr>\n",
       "      <th>44</th>\n",
       "      <td>상주다정다감체</td>\n",
       "      <td>0.356113</td>\n",
       "      <td>1.648407e-01</td>\n",
       "      <td>0.260477</td>\n",
       "    </tr>\n",
       "    <tr>\n",
       "      <th>11</th>\n",
       "      <td>카페24 동동체</td>\n",
       "      <td>0.447539</td>\n",
       "      <td>5.910575e-02</td>\n",
       "      <td>0.253322</td>\n",
       "    </tr>\n",
       "    <tr>\n",
       "      <th>75</th>\n",
       "      <td>나눔손글씨 중학생</td>\n",
       "      <td>0.502971</td>\n",
       "      <td>4.846087e-04</td>\n",
       "      <td>0.251728</td>\n",
       "    </tr>\n",
       "    <tr>\n",
       "      <th>51</th>\n",
       "      <td>어비 남지은체</td>\n",
       "      <td>0.474572</td>\n",
       "      <td>2.935282e-03</td>\n",
       "      <td>0.238754</td>\n",
       "    </tr>\n",
       "    <tr>\n",
       "      <th>14</th>\n",
       "      <td>카페24 쑥쑥체</td>\n",
       "      <td>0.334272</td>\n",
       "      <td>1.353353e-01</td>\n",
       "      <td>0.234804</td>\n",
       "    </tr>\n",
       "    <tr>\n",
       "      <th>40</th>\n",
       "      <td>넷마블체 L</td>\n",
       "      <td>0.426046</td>\n",
       "      <td>2.717246e-02</td>\n",
       "      <td>0.226609</td>\n",
       "    </tr>\n",
       "    <tr>\n",
       "      <th>73</th>\n",
       "      <td>나눔손글씨 잘하고 있어</td>\n",
       "      <td>0.434866</td>\n",
       "      <td>3.497425e-07</td>\n",
       "      <td>0.217433</td>\n",
       "    </tr>\n",
       "    <tr>\n",
       "      <th>84</th>\n",
       "      <td>온글잎 안될과학궤도체</td>\n",
       "      <td>0.432289</td>\n",
       "      <td>7.213542e-07</td>\n",
       "      <td>0.216145</td>\n",
       "    </tr>\n",
       "    <tr>\n",
       "      <th>65</th>\n",
       "      <td>나눔손글씨 세계적인 한글</td>\n",
       "      <td>0.427986</td>\n",
       "      <td>2.967110e-06</td>\n",
       "      <td>0.213994</td>\n",
       "    </tr>\n",
       "    <tr>\n",
       "      <th>59</th>\n",
       "      <td>나눔손글씨 고려글꼴</td>\n",
       "      <td>0.309069</td>\n",
       "      <td>1.068779e-01</td>\n",
       "      <td>0.207973</td>\n",
       "    </tr>\n",
       "    <tr>\n",
       "      <th>52</th>\n",
       "      <td>어비 선홍체 BOLD</td>\n",
       "      <td>0.192756</td>\n",
       "      <td>2.231302e-01</td>\n",
       "      <td>0.207943</td>\n",
       "    </tr>\n",
       "  </tbody>\n",
       "</table>\n",
       "</div>"
      ],
      "text/plain": [
       "         fontname  similarity     thickness  total similarity\n",
       "50   어비 남지은체 Bold    1.000000  1.000000e+00          1.000000\n",
       "3      유토이미지 고딕 R    0.307715  3.269219e-01          0.317318\n",
       "83        온글잎 민혜체    0.583181  5.893889e-06          0.291594\n",
       "16       동글 Light    0.572387  1.220447e-05          0.286200\n",
       "44        상주다정다감체    0.356113  1.648407e-01          0.260477\n",
       "11       카페24 동동체    0.447539  5.910575e-02          0.253322\n",
       "75      나눔손글씨 중학생    0.502971  4.846087e-04          0.251728\n",
       "51        어비 남지은체    0.474572  2.935282e-03          0.238754\n",
       "14       카페24 쑥쑥체    0.334272  1.353353e-01          0.234804\n",
       "40         넷마블체 L    0.426046  2.717246e-02          0.226609\n",
       "73   나눔손글씨 잘하고 있어    0.434866  3.497425e-07          0.217433\n",
       "84    온글잎 안될과학궤도체    0.432289  7.213542e-07          0.216145\n",
       "65  나눔손글씨 세계적인 한글    0.427986  2.967110e-06          0.213994\n",
       "59     나눔손글씨 고려글꼴    0.309069  1.068779e-01          0.207973\n",
       "52    어비 선홍체 BOLD    0.192756  2.231302e-01          0.207943"
      ]
     },
     "execution_count": 60,
     "metadata": {},
     "output_type": "execute_result"
    }
   ],
   "source": [
    "font_search_rank  # 전체 유사도 순위\n",
    "font_search_rank.iloc[:15]  # 상위 유사도 15위 폰트 0.5*획요소 + 0.5*굵기"
   ]
  },
  {
   "cell_type": "code",
   "execution_count": 62,
   "metadata": {},
   "outputs": [
    {
     "data": {
      "text/html": [
       "<div>\n",
       "<style scoped>\n",
       "    .dataframe tbody tr th:only-of-type {\n",
       "        vertical-align: middle;\n",
       "    }\n",
       "\n",
       "    .dataframe tbody tr th {\n",
       "        vertical-align: top;\n",
       "    }\n",
       "\n",
       "    .dataframe thead th {\n",
       "        text-align: right;\n",
       "    }\n",
       "</style>\n",
       "<table border=\"1\" class=\"dataframe\">\n",
       "  <thead>\n",
       "    <tr style=\"text-align: right;\">\n",
       "      <th></th>\n",
       "      <th>fontname</th>\n",
       "      <th>similarity</th>\n",
       "      <th>thickness</th>\n",
       "      <th>total similarity</th>\n",
       "    </tr>\n",
       "  </thead>\n",
       "  <tbody>\n",
       "    <tr>\n",
       "      <th>50</th>\n",
       "      <td>어비 남지은체 Bold</td>\n",
       "      <td>1.000000</td>\n",
       "      <td>1.000000e+00</td>\n",
       "      <td>1.000000</td>\n",
       "    </tr>\n",
       "    <tr>\n",
       "      <th>83</th>\n",
       "      <td>온글잎 민혜체</td>\n",
       "      <td>0.583181</td>\n",
       "      <td>5.893889e-06</td>\n",
       "      <td>0.291594</td>\n",
       "    </tr>\n",
       "    <tr>\n",
       "      <th>16</th>\n",
       "      <td>동글 Light</td>\n",
       "      <td>0.572387</td>\n",
       "      <td>1.220447e-05</td>\n",
       "      <td>0.286200</td>\n",
       "    </tr>\n",
       "    <tr>\n",
       "      <th>75</th>\n",
       "      <td>나눔손글씨 중학생</td>\n",
       "      <td>0.502971</td>\n",
       "      <td>4.846087e-04</td>\n",
       "      <td>0.251728</td>\n",
       "    </tr>\n",
       "    <tr>\n",
       "      <th>51</th>\n",
       "      <td>어비 남지은체</td>\n",
       "      <td>0.474572</td>\n",
       "      <td>2.935282e-03</td>\n",
       "      <td>0.238754</td>\n",
       "    </tr>\n",
       "    <tr>\n",
       "      <th>11</th>\n",
       "      <td>카페24 동동체</td>\n",
       "      <td>0.447539</td>\n",
       "      <td>5.910575e-02</td>\n",
       "      <td>0.253322</td>\n",
       "    </tr>\n",
       "    <tr>\n",
       "      <th>73</th>\n",
       "      <td>나눔손글씨 잘하고 있어</td>\n",
       "      <td>0.434866</td>\n",
       "      <td>3.497425e-07</td>\n",
       "      <td>0.217433</td>\n",
       "    </tr>\n",
       "    <tr>\n",
       "      <th>84</th>\n",
       "      <td>온글잎 안될과학궤도체</td>\n",
       "      <td>0.432289</td>\n",
       "      <td>7.213542e-07</td>\n",
       "      <td>0.216145</td>\n",
       "    </tr>\n",
       "    <tr>\n",
       "      <th>65</th>\n",
       "      <td>나눔손글씨 세계적인 한글</td>\n",
       "      <td>0.427986</td>\n",
       "      <td>2.967110e-06</td>\n",
       "      <td>0.213994</td>\n",
       "    </tr>\n",
       "    <tr>\n",
       "      <th>40</th>\n",
       "      <td>넷마블체 L</td>\n",
       "      <td>0.426046</td>\n",
       "      <td>2.717246e-02</td>\n",
       "      <td>0.226609</td>\n",
       "    </tr>\n",
       "    <tr>\n",
       "      <th>53</th>\n",
       "      <td>어비 순수결정체</td>\n",
       "      <td>0.388069</td>\n",
       "      <td>5.893889e-06</td>\n",
       "      <td>0.194037</td>\n",
       "    </tr>\n",
       "    <tr>\n",
       "      <th>76</th>\n",
       "      <td>나눔손글씨 코코체</td>\n",
       "      <td>0.384181</td>\n",
       "      <td>4.038075e-06</td>\n",
       "      <td>0.192093</td>\n",
       "    </tr>\n",
       "    <tr>\n",
       "      <th>48</th>\n",
       "      <td>THE선인장</td>\n",
       "      <td>0.381350</td>\n",
       "      <td>1.836782e-04</td>\n",
       "      <td>0.190767</td>\n",
       "    </tr>\n",
       "    <tr>\n",
       "      <th>1</th>\n",
       "      <td>경기천년바탕 Regular</td>\n",
       "      <td>0.375047</td>\n",
       "      <td>1.656374e-03</td>\n",
       "      <td>0.188352</td>\n",
       "    </tr>\n",
       "    <tr>\n",
       "      <th>21</th>\n",
       "      <td>굴림체</td>\n",
       "      <td>0.365570</td>\n",
       "      <td>3.493489e-03</td>\n",
       "      <td>0.184532</td>\n",
       "    </tr>\n",
       "  </tbody>\n",
       "</table>\n",
       "</div>"
      ],
      "text/plain": [
       "          fontname  similarity     thickness  total similarity\n",
       "50    어비 남지은체 Bold    1.000000  1.000000e+00          1.000000\n",
       "83         온글잎 민혜체    0.583181  5.893889e-06          0.291594\n",
       "16        동글 Light    0.572387  1.220447e-05          0.286200\n",
       "75       나눔손글씨 중학생    0.502971  4.846087e-04          0.251728\n",
       "51         어비 남지은체    0.474572  2.935282e-03          0.238754\n",
       "11        카페24 동동체    0.447539  5.910575e-02          0.253322\n",
       "73    나눔손글씨 잘하고 있어    0.434866  3.497425e-07          0.217433\n",
       "84     온글잎 안될과학궤도체    0.432289  7.213542e-07          0.216145\n",
       "65   나눔손글씨 세계적인 한글    0.427986  2.967110e-06          0.213994\n",
       "40          넷마블체 L    0.426046  2.717246e-02          0.226609\n",
       "53        어비 순수결정체    0.388069  5.893889e-06          0.194037\n",
       "76       나눔손글씨 코코체    0.384181  4.038075e-06          0.192093\n",
       "48          THE선인장    0.381350  1.836782e-04          0.190767\n",
       "1   경기천년바탕 Regular    0.375047  1.656374e-03          0.188352\n",
       "21             굴림체    0.365570  3.493489e-03          0.184532"
      ]
     },
     "execution_count": 62,
     "metadata": {},
     "output_type": "execute_result"
    }
   ],
   "source": [
    "#획요소만 고려\n",
    "font_search_rank = font_recommendation.sort_values(by='similarity', ascending=False)\n",
    "font_search_rank  # 전체 유사도 순위\n",
    "font_search_rank.iloc[:15]  # 상위 유사도 15위 폰트"
   ]
  }
 ],
 "metadata": {
  "kernelspec": {
   "display_name": "Python 3.8.5 ('base')",
   "language": "python",
   "name": "python3"
  },
  "language_info": {
   "codemirror_mode": {
    "name": "ipython",
    "version": 3
   },
   "file_extension": ".py",
   "mimetype": "text/x-python",
   "name": "python",
   "nbconvert_exporter": "python",
   "pygments_lexer": "ipython3",
   "version": "3.8.5"
  },
  "vscode": {
   "interpreter": {
    "hash": "3d846d80525939fc67cf21a1222fcca1daba31c8fddd2ba1792ca86a1af098cb"
   }
  }
 },
 "nbformat": 4,
 "nbformat_minor": 2
}
